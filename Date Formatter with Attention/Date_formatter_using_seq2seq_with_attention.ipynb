{
  "nbformat": 4,
  "nbformat_minor": 0,
  "metadata": {
    "kernelspec": {
      "name": "python3",
      "display_name": "Python 3",
      "language": "python"
    },
    "language_info": {
      "name": "python",
      "version": "3.7.10",
      "mimetype": "text/x-python",
      "codemirror_mode": {
        "name": "ipython",
        "version": 3
      },
      "pygments_lexer": "ipython3",
      "nbconvert_exporter": "python",
      "file_extension": ".py"
    },
    "colab": {
      "name": "Date-formatter-using-seq2seq-with-attention.ipynb",
      "provenance": [],
      "collapsed_sections": []
    },
    "accelerator": "GPU"
  },
  "cells": [
    {
      "cell_type": "markdown",
      "metadata": {
        "id": "YTepRPK_K-iM"
      },
      "source": [
        "## Installing Faker to generate dates"
      ]
    },
    {
      "cell_type": "code",
      "metadata": {
        "execution": {
          "iopub.status.busy": "2021-10-08T14:09:34.584251Z",
          "iopub.execute_input": "2021-10-08T14:09:34.584477Z",
          "iopub.status.idle": "2021-10-08T14:09:41.218106Z",
          "shell.execute_reply.started": "2021-10-08T14:09:34.584451Z",
          "shell.execute_reply": "2021-10-08T14:09:41.217140Z"
        },
        "trusted": true,
        "colab": {
          "base_uri": "https://localhost:8080/"
        },
        "id": "_t-IEJfBK-ik",
        "outputId": "c814489b-c5a2-4029-b5f9-6a2fe2cf7388"
      },
      "source": [
        "!pip install Faker "
      ],
      "execution_count": 1,
      "outputs": [
        {
          "output_type": "stream",
          "name": "stdout",
          "text": [
            "Collecting Faker\n",
            "  Downloading Faker-9.2.0-py3-none-any.whl (1.2 MB)\n",
            "\u001b[?25l\r\u001b[K     |▎                               | 10 kB 28.8 MB/s eta 0:00:01\r\u001b[K     |▌                               | 20 kB 19.7 MB/s eta 0:00:01\r\u001b[K     |▉                               | 30 kB 15.4 MB/s eta 0:00:01\r\u001b[K     |█                               | 40 kB 13.8 MB/s eta 0:00:01\r\u001b[K     |█▍                              | 51 kB 5.3 MB/s eta 0:00:01\r\u001b[K     |█▋                              | 61 kB 5.8 MB/s eta 0:00:01\r\u001b[K     |██                              | 71 kB 5.4 MB/s eta 0:00:01\r\u001b[K     |██▏                             | 81 kB 6.0 MB/s eta 0:00:01\r\u001b[K     |██▌                             | 92 kB 5.9 MB/s eta 0:00:01\r\u001b[K     |██▊                             | 102 kB 5.2 MB/s eta 0:00:01\r\u001b[K     |███                             | 112 kB 5.2 MB/s eta 0:00:01\r\u001b[K     |███▎                            | 122 kB 5.2 MB/s eta 0:00:01\r\u001b[K     |███▋                            | 133 kB 5.2 MB/s eta 0:00:01\r\u001b[K     |███▉                            | 143 kB 5.2 MB/s eta 0:00:01\r\u001b[K     |████▏                           | 153 kB 5.2 MB/s eta 0:00:01\r\u001b[K     |████▍                           | 163 kB 5.2 MB/s eta 0:00:01\r\u001b[K     |████▊                           | 174 kB 5.2 MB/s eta 0:00:01\r\u001b[K     |█████                           | 184 kB 5.2 MB/s eta 0:00:01\r\u001b[K     |█████▎                          | 194 kB 5.2 MB/s eta 0:00:01\r\u001b[K     |█████▌                          | 204 kB 5.2 MB/s eta 0:00:01\r\u001b[K     |█████▉                          | 215 kB 5.2 MB/s eta 0:00:01\r\u001b[K     |██████                          | 225 kB 5.2 MB/s eta 0:00:01\r\u001b[K     |██████▍                         | 235 kB 5.2 MB/s eta 0:00:01\r\u001b[K     |██████▋                         | 245 kB 5.2 MB/s eta 0:00:01\r\u001b[K     |███████                         | 256 kB 5.2 MB/s eta 0:00:01\r\u001b[K     |███████▏                        | 266 kB 5.2 MB/s eta 0:00:01\r\u001b[K     |███████▍                        | 276 kB 5.2 MB/s eta 0:00:01\r\u001b[K     |███████▊                        | 286 kB 5.2 MB/s eta 0:00:01\r\u001b[K     |████████                        | 296 kB 5.2 MB/s eta 0:00:01\r\u001b[K     |████████▎                       | 307 kB 5.2 MB/s eta 0:00:01\r\u001b[K     |████████▌                       | 317 kB 5.2 MB/s eta 0:00:01\r\u001b[K     |████████▉                       | 327 kB 5.2 MB/s eta 0:00:01\r\u001b[K     |█████████                       | 337 kB 5.2 MB/s eta 0:00:01\r\u001b[K     |█████████▍                      | 348 kB 5.2 MB/s eta 0:00:01\r\u001b[K     |█████████▋                      | 358 kB 5.2 MB/s eta 0:00:01\r\u001b[K     |██████████                      | 368 kB 5.2 MB/s eta 0:00:01\r\u001b[K     |██████████▏                     | 378 kB 5.2 MB/s eta 0:00:01\r\u001b[K     |██████████▌                     | 389 kB 5.2 MB/s eta 0:00:01\r\u001b[K     |██████████▊                     | 399 kB 5.2 MB/s eta 0:00:01\r\u001b[K     |███████████                     | 409 kB 5.2 MB/s eta 0:00:01\r\u001b[K     |███████████▎                    | 419 kB 5.2 MB/s eta 0:00:01\r\u001b[K     |███████████▋                    | 430 kB 5.2 MB/s eta 0:00:01\r\u001b[K     |███████████▉                    | 440 kB 5.2 MB/s eta 0:00:01\r\u001b[K     |████████████▏                   | 450 kB 5.2 MB/s eta 0:00:01\r\u001b[K     |████████████▍                   | 460 kB 5.2 MB/s eta 0:00:01\r\u001b[K     |████████████▊                   | 471 kB 5.2 MB/s eta 0:00:01\r\u001b[K     |█████████████                   | 481 kB 5.2 MB/s eta 0:00:01\r\u001b[K     |█████████████▎                  | 491 kB 5.2 MB/s eta 0:00:01\r\u001b[K     |█████████████▌                  | 501 kB 5.2 MB/s eta 0:00:01\r\u001b[K     |█████████████▉                  | 512 kB 5.2 MB/s eta 0:00:01\r\u001b[K     |██████████████                  | 522 kB 5.2 MB/s eta 0:00:01\r\u001b[K     |██████████████▍                 | 532 kB 5.2 MB/s eta 0:00:01\r\u001b[K     |██████████████▋                 | 542 kB 5.2 MB/s eta 0:00:01\r\u001b[K     |██████████████▉                 | 552 kB 5.2 MB/s eta 0:00:01\r\u001b[K     |███████████████▏                | 563 kB 5.2 MB/s eta 0:00:01\r\u001b[K     |███████████████▍                | 573 kB 5.2 MB/s eta 0:00:01\r\u001b[K     |███████████████▊                | 583 kB 5.2 MB/s eta 0:00:01\r\u001b[K     |████████████████                | 593 kB 5.2 MB/s eta 0:00:01\r\u001b[K     |████████████████▎               | 604 kB 5.2 MB/s eta 0:00:01\r\u001b[K     |████████████████▌               | 614 kB 5.2 MB/s eta 0:00:01\r\u001b[K     |████████████████▉               | 624 kB 5.2 MB/s eta 0:00:01\r\u001b[K     |█████████████████               | 634 kB 5.2 MB/s eta 0:00:01\r\u001b[K     |█████████████████▍              | 645 kB 5.2 MB/s eta 0:00:01\r\u001b[K     |█████████████████▋              | 655 kB 5.2 MB/s eta 0:00:01\r\u001b[K     |██████████████████              | 665 kB 5.2 MB/s eta 0:00:01\r\u001b[K     |██████████████████▏             | 675 kB 5.2 MB/s eta 0:00:01\r\u001b[K     |██████████████████▌             | 686 kB 5.2 MB/s eta 0:00:01\r\u001b[K     |██████████████████▊             | 696 kB 5.2 MB/s eta 0:00:01\r\u001b[K     |███████████████████             | 706 kB 5.2 MB/s eta 0:00:01\r\u001b[K     |███████████████████▎            | 716 kB 5.2 MB/s eta 0:00:01\r\u001b[K     |███████████████████▋            | 727 kB 5.2 MB/s eta 0:00:01\r\u001b[K     |███████████████████▉            | 737 kB 5.2 MB/s eta 0:00:01\r\u001b[K     |████████████████████▏           | 747 kB 5.2 MB/s eta 0:00:01\r\u001b[K     |████████████████████▍           | 757 kB 5.2 MB/s eta 0:00:01\r\u001b[K     |████████████████████▊           | 768 kB 5.2 MB/s eta 0:00:01\r\u001b[K     |█████████████████████           | 778 kB 5.2 MB/s eta 0:00:01\r\u001b[K     |█████████████████████▎          | 788 kB 5.2 MB/s eta 0:00:01\r\u001b[K     |█████████████████████▌          | 798 kB 5.2 MB/s eta 0:00:01\r\u001b[K     |█████████████████████▊          | 808 kB 5.2 MB/s eta 0:00:01\r\u001b[K     |██████████████████████          | 819 kB 5.2 MB/s eta 0:00:01\r\u001b[K     |██████████████████████▎         | 829 kB 5.2 MB/s eta 0:00:01\r\u001b[K     |██████████████████████▋         | 839 kB 5.2 MB/s eta 0:00:01\r\u001b[K     |██████████████████████▉         | 849 kB 5.2 MB/s eta 0:00:01\r\u001b[K     |███████████████████████▏        | 860 kB 5.2 MB/s eta 0:00:01\r\u001b[K     |███████████████████████▍        | 870 kB 5.2 MB/s eta 0:00:01\r\u001b[K     |███████████████████████▊        | 880 kB 5.2 MB/s eta 0:00:01\r\u001b[K     |████████████████████████        | 890 kB 5.2 MB/s eta 0:00:01\r\u001b[K     |████████████████████████▎       | 901 kB 5.2 MB/s eta 0:00:01\r\u001b[K     |████████████████████████▌       | 911 kB 5.2 MB/s eta 0:00:01\r\u001b[K     |████████████████████████▉       | 921 kB 5.2 MB/s eta 0:00:01\r\u001b[K     |█████████████████████████       | 931 kB 5.2 MB/s eta 0:00:01\r\u001b[K     |█████████████████████████▍      | 942 kB 5.2 MB/s eta 0:00:01\r\u001b[K     |█████████████████████████▋      | 952 kB 5.2 MB/s eta 0:00:01\r\u001b[K     |██████████████████████████      | 962 kB 5.2 MB/s eta 0:00:01\r\u001b[K     |██████████████████████████▏     | 972 kB 5.2 MB/s eta 0:00:01\r\u001b[K     |██████████████████████████▌     | 983 kB 5.2 MB/s eta 0:00:01\r\u001b[K     |██████████████████████████▊     | 993 kB 5.2 MB/s eta 0:00:01\r\u001b[K     |███████████████████████████     | 1.0 MB 5.2 MB/s eta 0:00:01\r\u001b[K     |███████████████████████████▎    | 1.0 MB 5.2 MB/s eta 0:00:01\r\u001b[K     |███████████████████████████▋    | 1.0 MB 5.2 MB/s eta 0:00:01\r\u001b[K     |███████████████████████████▉    | 1.0 MB 5.2 MB/s eta 0:00:01\r\u001b[K     |████████████████████████████▏   | 1.0 MB 5.2 MB/s eta 0:00:01\r\u001b[K     |████████████████████████████▍   | 1.1 MB 5.2 MB/s eta 0:00:01\r\u001b[K     |████████████████████████████▊   | 1.1 MB 5.2 MB/s eta 0:00:01\r\u001b[K     |█████████████████████████████   | 1.1 MB 5.2 MB/s eta 0:00:01\r\u001b[K     |█████████████████████████████▏  | 1.1 MB 5.2 MB/s eta 0:00:01\r\u001b[K     |█████████████████████████████▌  | 1.1 MB 5.2 MB/s eta 0:00:01\r\u001b[K     |█████████████████████████████▊  | 1.1 MB 5.2 MB/s eta 0:00:01\r\u001b[K     |██████████████████████████████  | 1.1 MB 5.2 MB/s eta 0:00:01\r\u001b[K     |██████████████████████████████▎ | 1.1 MB 5.2 MB/s eta 0:00:01\r\u001b[K     |██████████████████████████████▋ | 1.1 MB 5.2 MB/s eta 0:00:01\r\u001b[K     |██████████████████████████████▉ | 1.1 MB 5.2 MB/s eta 0:00:01\r\u001b[K     |███████████████████████████████▏| 1.2 MB 5.2 MB/s eta 0:00:01\r\u001b[K     |███████████████████████████████▍| 1.2 MB 5.2 MB/s eta 0:00:01\r\u001b[K     |███████████████████████████████▊| 1.2 MB 5.2 MB/s eta 0:00:01\r\u001b[K     |████████████████████████████████| 1.2 MB 5.2 MB/s eta 0:00:01\r\u001b[K     |████████████████████████████████| 1.2 MB 5.2 MB/s \n",
            "\u001b[?25hRequirement already satisfied: text-unidecode==1.3 in /usr/local/lib/python3.7/dist-packages (from Faker) (1.3)\n",
            "Requirement already satisfied: python-dateutil>=2.4 in /usr/local/lib/python3.7/dist-packages (from Faker) (2.8.2)\n",
            "Requirement already satisfied: six>=1.5 in /usr/local/lib/python3.7/dist-packages (from python-dateutil>=2.4->Faker) (1.15.0)\n",
            "Installing collected packages: Faker\n",
            "Successfully installed Faker-9.2.0\n"
          ]
        }
      ]
    },
    {
      "cell_type": "markdown",
      "metadata": {
        "id": "X3P9Hcw1K-iq"
      },
      "source": [
        "## Importing necessary modules"
      ]
    },
    {
      "cell_type": "code",
      "metadata": {
        "_uuid": "051d70d956493feee0c6d64651c6a088724dca2a",
        "_execution_state": "idle",
        "execution": {
          "iopub.status.busy": "2021-10-08T14:10:30.890154Z",
          "iopub.execute_input": "2021-10-08T14:10:30.891084Z",
          "iopub.status.idle": "2021-10-08T14:10:30.902718Z",
          "shell.execute_reply.started": "2021-10-08T14:10:30.891046Z",
          "shell.execute_reply": "2021-10-08T14:10:30.902053Z"
        },
        "trusted": true,
        "id": "Wh6hDAqdK-is"
      },
      "source": [
        "from tensorflow.keras.layers import Bidirectional, Concatenate, Permute, Dot, Input, LSTM, Multiply\n",
        "from tensorflow.keras.layers import RepeatVector, Dense, Activation, Lambda\n",
        "from tensorflow.keras.optimizers import Adam\n",
        "from tensorflow.keras.utils import to_categorical\n",
        "from tensorflow.keras.models import load_model, Model\n",
        "import tensorflow.keras.backend as K\n",
        "import numpy as np\n",
        "\n",
        "from faker import Faker\n",
        "import random\n",
        "from tqdm import tqdm\n",
        "from babel.dates import format_date\n",
        "\n",
        "import matplotlib.pyplot as plt\n",
        "%matplotlib inline"
      ],
      "execution_count": 2,
      "outputs": []
    },
    {
      "cell_type": "markdown",
      "metadata": {
        "id": "VRhwxpkWK-iv"
      },
      "source": [
        "## Defining some functions for data generating and preprocessing"
      ]
    },
    {
      "cell_type": "code",
      "metadata": {
        "execution": {
          "iopub.status.busy": "2021-10-08T14:50:47.414485Z",
          "iopub.execute_input": "2021-10-08T14:50:47.414743Z",
          "iopub.status.idle": "2021-10-08T14:50:47.451699Z",
          "shell.execute_reply.started": "2021-10-08T14:50:47.414713Z",
          "shell.execute_reply": "2021-10-08T14:50:47.451060Z"
        },
        "trusted": true,
        "id": "cKgLW--5K-ix"
      },
      "source": [
        "#loading faker to generate fake dataset\n",
        "fake = Faker()\n",
        "Faker.seed(1655)\n",
        "random.seed(1655)\n",
        "# Defining format of the data we would like to generate\n",
        "formats = ['short','medium','long', 'full','full','full','full','full','full','full','full',\n",
        "           'full','full','d MMM YYY', 'd MMMM YYY','dd MMM YYY','dd MMM, YYY','d MMMM, YYY',\n",
        "           'dd, MMM YYY','d MM YY','d MMMM YYY','MMMM d YYY','MMMM d, YYY','dd.MM.YY']\n",
        "\n",
        "\n",
        "def generate_date():\n",
        "    \"\"\"\n",
        "        Loads some fake dates \n",
        "    \"\"\"\n",
        "    date_obj = fake.date_object()\n",
        "    try:\n",
        "        human_readable = format_date(date_obj, format=random.choice(formats),  locale='en_US')\n",
        "        human_readable = human_readable.lower()\n",
        "        human_readable = human_readable.replace(',','')\n",
        "        machine_readable = date_obj.isoformat()\n",
        "    except AttributeError as e:\n",
        "        return None, None, None\n",
        "    return human_readable, machine_readable, date_obj\n",
        "\n",
        "\n",
        "\n",
        "def load_dataset(m):\n",
        "    \"\"\"\n",
        "    m: the number of examples to generate\n",
        "    \"\"\"\n",
        "    input_vocab = set()\n",
        "    output_vocab = set()\n",
        "    dataset = []\n",
        "    Tx = 30  #maximum input date length\n",
        "    for i in tqdm(range(m)):  #tqdm is used to visualize progress bar through iteration\n",
        "        input_date, output_date, _ = generate_date()\n",
        "        if input_date is not None:\n",
        "            dataset.append((input_date, output_date))\n",
        "            input_vocab.update(tuple(input_date))\n",
        "            output_vocab.update(tuple(output_date))\n",
        "    input_vocab = dict(zip(sorted(input_vocab) + ['<unk>', '<pad>'], \n",
        "                     list(range(len(input_vocab) + 2))))\n",
        "    inv_output_vocab = dict(enumerate(sorted(output_vocab)))\n",
        "    output_vocab = {v:k for k,v in inv_output_vocab.items()}\n",
        "    return dataset, input_vocab, output_vocab, inv_output_vocab\n",
        "\n",
        "\n",
        "\n",
        "def string_to_int(string, length, vocab):\n",
        "    \"\"\"\n",
        "    string -- input string, e.g. 'Wed 10 Jul 2007'\n",
        "    length -- the number of time steps you'd like, determines if the output will be padded or cut\n",
        "    vocab -- vocabulary, dictionary used to index every character of your \"string\"\n",
        "    \"\"\"\n",
        "    string = string.lower()\n",
        "    string = string.replace(',','')\n",
        "    if len(string) > length:\n",
        "        string = string[:length]\n",
        "    rep = list(map(lambda x: vocab.get(x, \"<unk>\"), string))\n",
        "    if len(string) < length:\n",
        "        rep = rep + [vocab['<pad>']] * (length - len(string))\n",
        "    return rep\n",
        "\n",
        "\n",
        "def int_to_string(ints, inv_vocab):\n",
        "    \"\"\"\n",
        "    ints -- list of integers representing indexes in the vocabulary\n",
        "    inv_vocab -- dictionary mapping indexes to characters \n",
        "    \"\"\"\n",
        "    l = [inv_vocab[i] for i in ints]\n",
        "    return l\n",
        "\n",
        "\n",
        "\n",
        "def preprocess_data(dataset, input_vocab, output_vocab, Tx, Ty):\n",
        "    X, Y = zip(*dataset)\n",
        "    X = np.array([string_to_int(string, Tx, input_vocab) for string in X])\n",
        "    Y = np.array([string_to_int(string, Ty, output_vocab) for string in Y])\n",
        "    Xoh = np.array(list(map(lambda x: to_categorical(x, num_classes=len(input_vocab)), X)))\n",
        "    Yoh = np.array(list(map(lambda x: to_categorical(x, num_classes=len(output_vocab)), Y)))\n",
        "    return X, Y, Xoh, Yoh"
      ],
      "execution_count": 3,
      "outputs": []
    },
    {
      "cell_type": "markdown",
      "metadata": {
        "id": "wNTSY9u0K-i6"
      },
      "source": [
        "## Loading dataset"
      ]
    },
    {
      "cell_type": "code",
      "metadata": {
        "execution": {
          "iopub.status.busy": "2021-10-08T15:54:48.847104Z",
          "iopub.execute_input": "2021-10-08T15:54:48.847716Z",
          "iopub.status.idle": "2021-10-08T15:54:50.681212Z",
          "shell.execute_reply.started": "2021-10-08T15:54:48.847677Z",
          "shell.execute_reply": "2021-10-08T15:54:50.680403Z"
        },
        "trusted": true,
        "colab": {
          "base_uri": "https://localhost:8080/"
        },
        "id": "cVCZ5JPHK-i-",
        "outputId": "ca86d1a6-2d4e-4fd2-fe4c-52d6b0aa1e45"
      },
      "source": [
        "Tx = 30 #maximum input date length\n",
        "Ty = 10 #maximum output date length (0 to 9 and -)\n",
        "m = 20000 #training data size\n",
        "dataset, input_vocab, output_vocab, inv_output_vocab = load_dataset(m)\n",
        "X, Y, Xoh, Yoh = preprocess_data(dataset, input_vocab, output_vocab, Tx, Ty)\n",
        "\n",
        "print(\"X.shape:\", X.shape)\n",
        "print(\"Y.shape:\", Y.shape)\n",
        "print(\"Xoh.shape:\", Xoh.shape)\n",
        "print(\"Yoh.shape:\", Yoh.shape)\n",
        "print(\"Some samples:\")\n",
        "dataset[:5]"
      ],
      "execution_count": 4,
      "outputs": [
        {
          "output_type": "stream",
          "name": "stderr",
          "text": [
            "100%|██████████| 20000/20000 [00:01<00:00, 13007.72it/s]\n"
          ]
        },
        {
          "output_type": "stream",
          "name": "stdout",
          "text": [
            "X.shape: (20000, 30)\n",
            "Y.shape: (20000, 10)\n",
            "Xoh.shape: (20000, 30, 37)\n",
            "Yoh.shape: (20000, 10, 11)\n",
            "Some samples:\n"
          ]
        },
        {
          "output_type": "execute_result",
          "data": {
            "text/plain": [
              "[('26 apr 2004', '2004-04-26'),\n",
              " ('wednesday march 16 1977', '1977-03-16'),\n",
              " ('friday january 21 1983', '1983-01-21'),\n",
              " ('tuesday may 10 1994', '1994-05-10'),\n",
              " ('01.10.20', '2020-10-01')]"
            ]
          },
          "metadata": {},
          "execution_count": 4
        }
      ]
    },
    {
      "cell_type": "markdown",
      "metadata": {
        "id": "M21HSdgpK-jB"
      },
      "source": [
        "## Custom softmax function that calculates softmax across defined axis"
      ]
    },
    {
      "cell_type": "code",
      "metadata": {
        "execution": {
          "iopub.status.busy": "2021-10-08T15:54:58.884871Z",
          "iopub.execute_input": "2021-10-08T15:54:58.885547Z",
          "iopub.status.idle": "2021-10-08T15:54:58.892998Z",
          "shell.execute_reply.started": "2021-10-08T15:54:58.885509Z",
          "shell.execute_reply": "2021-10-08T15:54:58.892224Z"
        },
        "trusted": true,
        "id": "wf0PwP1zK-jE"
      },
      "source": [
        "def softmax(x, axis=1):  #axis 1 is time axis\n",
        "    num_dim = K.ndim(x)\n",
        "    if num_dim == 2:\n",
        "        return K.softmax(x)\n",
        "    elif num_dim > 2:\n",
        "        e = K.exp(x - K.max(x, axis=axis, keepdims=True)) #max is subtracted for numerical stability.\n",
        "        #this is subtuction is applied in both numerator and denominator and they cancel out each other.\n",
        "        s = K.sum(e, axis=axis, keepdims=True)\n",
        "        return e/s\n",
        "    else:\n",
        "        raise ValueError('Cannot apply softmax to a tensor that is 1D')"
      ],
      "execution_count": 5,
      "outputs": []
    },
    {
      "cell_type": "markdown",
      "metadata": {
        "id": "QtPjwNXCK-jG"
      },
      "source": [
        "## Global layers used in attention calculation"
      ]
    },
    {
      "cell_type": "code",
      "metadata": {
        "execution": {
          "iopub.status.busy": "2021-10-08T15:55:06.102360Z",
          "iopub.execute_input": "2021-10-08T15:55:06.102613Z",
          "iopub.status.idle": "2021-10-08T15:55:06.111970Z",
          "shell.execute_reply.started": "2021-10-08T15:55:06.102586Z",
          "shell.execute_reply": "2021-10-08T15:55:06.111168Z"
        },
        "trusted": true,
        "id": "untFpgbiK-jH"
      },
      "source": [
        "'''Global layers used in attention calculation'''\n",
        "repeatVecLayer = RepeatVector(Tx)\n",
        "concatLayer = Concatenate(axis=-1)\n",
        "denseLayer1 = Dense(10, activation = \"tanh\")\n",
        "denseLayer2 = Dense(1, activation = \"relu\")\n",
        "activationLayer = Activation(softmax, name='attention_weights') # We are using a custom softmax(axis = 1)\n",
        "dotLayer = Dot(axes = 1)"
      ],
      "execution_count": 6,
      "outputs": []
    },
    {
      "cell_type": "markdown",
      "metadata": {
        "id": "H4nzTM-VK-jJ"
      },
      "source": [
        "## Function to calculate attention for each decoder time stamp"
      ]
    },
    {
      "cell_type": "code",
      "metadata": {
        "execution": {
          "iopub.status.busy": "2021-10-08T15:55:08.084010Z",
          "iopub.execute_input": "2021-10-08T15:55:08.084321Z",
          "iopub.status.idle": "2021-10-08T15:55:08.091218Z",
          "shell.execute_reply.started": "2021-10-08T15:55:08.084279Z",
          "shell.execute_reply": "2021-10-08T15:55:08.090466Z"
        },
        "trusted": true,
        "id": "8CZhJlCIK-jL"
      },
      "source": [
        "def one_step_attention(h, s_prev):\n",
        "    \"\"\"\n",
        "    h --> hidden states of encoder of shape (m, Tx, 2*h_dim)\n",
        "    s_prev --> previous hidden state of decoder of shape (m, s_dim)\n",
        "    \"\"\"\n",
        "    # Repeator repeats s_prev to be of shape (m, Tx, s_dim) \n",
        "    s_prev = repeatVecLayer(s_prev)  \n",
        "    concat = concatLayer([h, s_prev])  #concat (m, Tx, s_dim + 2*h_dim)\n",
        "    e = denseLayer1(concat)  #e (m, Tx, 10) \n",
        "    e = denseLayer2(e)  #e (m, Tx, 1)\n",
        "    alphas = activationLayer(e)  #alphas (m, Tx, 1)\n",
        "    context = dotLayer([alphas, h])   #context (m, 1, 2*h_dim) \n",
        "    return context"
      ],
      "execution_count": 7,
      "outputs": []
    },
    {
      "cell_type": "markdown",
      "metadata": {
        "id": "l45d0BxFK-jO"
      },
      "source": [
        "## Global layers used in decoder section"
      ]
    },
    {
      "cell_type": "code",
      "metadata": {
        "execution": {
          "iopub.status.busy": "2021-10-08T15:55:11.527900Z",
          "iopub.execute_input": "2021-10-08T15:55:11.528419Z",
          "iopub.status.idle": "2021-10-08T15:55:11.538170Z",
          "shell.execute_reply.started": "2021-10-08T15:55:11.528385Z",
          "shell.execute_reply": "2021-10-08T15:55:11.537201Z"
        },
        "trusted": true,
        "id": "sO5_3vxpK-jP"
      },
      "source": [
        "'''Global layers used in decoder section'''\n",
        "h_dim = 32\n",
        "s_dim = 64\n",
        "decoder_LSTM = LSTM(s_dim, return_state = True)\n",
        "output_layer = Dense(len(output_vocab), activation=softmax)"
      ],
      "execution_count": 8,
      "outputs": []
    },
    {
      "cell_type": "markdown",
      "metadata": {
        "id": "FuWpHD5vK-jQ"
      },
      "source": [
        "## Defining model"
      ]
    },
    {
      "cell_type": "code",
      "metadata": {
        "execution": {
          "iopub.status.busy": "2021-10-08T15:55:13.667214Z",
          "iopub.execute_input": "2021-10-08T15:55:13.667483Z",
          "iopub.status.idle": "2021-10-08T15:55:13.674774Z",
          "shell.execute_reply.started": "2021-10-08T15:55:13.667454Z",
          "shell.execute_reply": "2021-10-08T15:55:13.673769Z"
        },
        "trusted": true,
        "id": "LFTRAhcKK-jR"
      },
      "source": [
        "def model(Tx, Ty, h_dim, s_dim, input_vocab_size, output_vocab_size):\n",
        "    \n",
        "    X = Input(shape=(Tx, input_vocab_size))\n",
        "    s0 = Input(shape=(s_dim,), name='s0')\n",
        "    c0 = Input(shape=(s_dim,), name='c0')\n",
        "    s = s0  #s (m, s_dim)\n",
        "    c = c0\n",
        "    outputs = []\n",
        "    h = Bidirectional(LSTM(h_dim, return_sequences=True),input_shape=(Tx, h_dim))(X)  \n",
        "    # Iterate for Ty steps\n",
        "    for t in range(Ty):\n",
        "        context = one_step_attention(h, s)\n",
        "        s, _, c = decoder_LSTM(context, initial_state = [s, c]) \n",
        "        output = output_layer(s) #output (m, output_vocab_size)\n",
        "        outputs.append(output) #outputs final dims (Ty, m, output_vocab_size)\n",
        "        \n",
        "    model = Model(inputs=[X, s0, c0], outputs=outputs)\n",
        "    return model"
      ],
      "execution_count": 9,
      "outputs": []
    },
    {
      "cell_type": "markdown",
      "metadata": {
        "id": "wdtYrdWaK-jT"
      },
      "source": [
        "## Creating model"
      ]
    },
    {
      "cell_type": "code",
      "metadata": {
        "execution": {
          "iopub.status.busy": "2021-10-08T15:55:16.723784Z",
          "iopub.execute_input": "2021-10-08T15:55:16.724350Z",
          "iopub.status.idle": "2021-10-08T15:55:19.592732Z",
          "shell.execute_reply.started": "2021-10-08T15:55:16.724314Z",
          "shell.execute_reply": "2021-10-08T15:55:19.592067Z"
        },
        "trusted": true,
        "colab": {
          "base_uri": "https://localhost:8080/"
        },
        "id": "QpD2ZUk1K-jU",
        "outputId": "e7271530-3bce-469c-d1f9-f47d2efb2f9b"
      },
      "source": [
        "model = model(Tx, Ty, h_dim, s_dim, len(input_vocab), len(output_vocab))\n",
        "optimizer = Adam(lr=0.005, beta_1=0.9, beta_2=0.999, decay=0.01) \n",
        "model.compile(loss='categorical_crossentropy', optimizer=optimizer, metrics=['accuracy'])\n",
        "model.summary()"
      ],
      "execution_count": 10,
      "outputs": [
        {
          "output_type": "stream",
          "name": "stdout",
          "text": [
            "Model: \"model\"\n",
            "__________________________________________________________________________________________________\n",
            "Layer (type)                    Output Shape         Param #     Connected to                     \n",
            "==================================================================================================\n",
            "input_1 (InputLayer)            [(None, 30, 37)]     0                                            \n",
            "__________________________________________________________________________________________________\n",
            "s0 (InputLayer)                 [(None, 64)]         0                                            \n",
            "__________________________________________________________________________________________________\n",
            "bidirectional (Bidirectional)   (None, 30, 64)       17920       input_1[0][0]                    \n",
            "__________________________________________________________________________________________________\n",
            "repeat_vector (RepeatVector)    (None, 30, 64)       0           s0[0][0]                         \n",
            "                                                                 lstm[0][0]                       \n",
            "                                                                 lstm[1][0]                       \n",
            "                                                                 lstm[2][0]                       \n",
            "                                                                 lstm[3][0]                       \n",
            "                                                                 lstm[4][0]                       \n",
            "                                                                 lstm[5][0]                       \n",
            "                                                                 lstm[6][0]                       \n",
            "                                                                 lstm[7][0]                       \n",
            "                                                                 lstm[8][0]                       \n",
            "__________________________________________________________________________________________________\n",
            "concatenate (Concatenate)       (None, 30, 128)      0           bidirectional[0][0]              \n",
            "                                                                 repeat_vector[0][0]              \n",
            "                                                                 bidirectional[0][0]              \n",
            "                                                                 repeat_vector[1][0]              \n",
            "                                                                 bidirectional[0][0]              \n",
            "                                                                 repeat_vector[2][0]              \n",
            "                                                                 bidirectional[0][0]              \n",
            "                                                                 repeat_vector[3][0]              \n",
            "                                                                 bidirectional[0][0]              \n",
            "                                                                 repeat_vector[4][0]              \n",
            "                                                                 bidirectional[0][0]              \n",
            "                                                                 repeat_vector[5][0]              \n",
            "                                                                 bidirectional[0][0]              \n",
            "                                                                 repeat_vector[6][0]              \n",
            "                                                                 bidirectional[0][0]              \n",
            "                                                                 repeat_vector[7][0]              \n",
            "                                                                 bidirectional[0][0]              \n",
            "                                                                 repeat_vector[8][0]              \n",
            "                                                                 bidirectional[0][0]              \n",
            "                                                                 repeat_vector[9][0]              \n",
            "__________________________________________________________________________________________________\n",
            "dense (Dense)                   (None, 30, 10)       1290        concatenate[0][0]                \n",
            "                                                                 concatenate[1][0]                \n",
            "                                                                 concatenate[2][0]                \n",
            "                                                                 concatenate[3][0]                \n",
            "                                                                 concatenate[4][0]                \n",
            "                                                                 concatenate[5][0]                \n",
            "                                                                 concatenate[6][0]                \n",
            "                                                                 concatenate[7][0]                \n",
            "                                                                 concatenate[8][0]                \n",
            "                                                                 concatenate[9][0]                \n",
            "__________________________________________________________________________________________________\n",
            "dense_1 (Dense)                 (None, 30, 1)        11          dense[0][0]                      \n",
            "                                                                 dense[1][0]                      \n",
            "                                                                 dense[2][0]                      \n",
            "                                                                 dense[3][0]                      \n",
            "                                                                 dense[4][0]                      \n",
            "                                                                 dense[5][0]                      \n",
            "                                                                 dense[6][0]                      \n",
            "                                                                 dense[7][0]                      \n",
            "                                                                 dense[8][0]                      \n",
            "                                                                 dense[9][0]                      \n",
            "__________________________________________________________________________________________________\n",
            "attention_weights (Activation)  (None, 30, 1)        0           dense_1[0][0]                    \n",
            "                                                                 dense_1[1][0]                    \n",
            "                                                                 dense_1[2][0]                    \n",
            "                                                                 dense_1[3][0]                    \n",
            "                                                                 dense_1[4][0]                    \n",
            "                                                                 dense_1[5][0]                    \n",
            "                                                                 dense_1[6][0]                    \n",
            "                                                                 dense_1[7][0]                    \n",
            "                                                                 dense_1[8][0]                    \n",
            "                                                                 dense_1[9][0]                    \n",
            "__________________________________________________________________________________________________\n",
            "dot (Dot)                       (None, 1, 64)        0           attention_weights[0][0]          \n",
            "                                                                 bidirectional[0][0]              \n",
            "                                                                 attention_weights[1][0]          \n",
            "                                                                 bidirectional[0][0]              \n",
            "                                                                 attention_weights[2][0]          \n",
            "                                                                 bidirectional[0][0]              \n",
            "                                                                 attention_weights[3][0]          \n",
            "                                                                 bidirectional[0][0]              \n",
            "                                                                 attention_weights[4][0]          \n",
            "                                                                 bidirectional[0][0]              \n",
            "                                                                 attention_weights[5][0]          \n",
            "                                                                 bidirectional[0][0]              \n",
            "                                                                 attention_weights[6][0]          \n",
            "                                                                 bidirectional[0][0]              \n",
            "                                                                 attention_weights[7][0]          \n",
            "                                                                 bidirectional[0][0]              \n",
            "                                                                 attention_weights[8][0]          \n",
            "                                                                 bidirectional[0][0]              \n",
            "                                                                 attention_weights[9][0]          \n",
            "                                                                 bidirectional[0][0]              \n",
            "__________________________________________________________________________________________________\n",
            "c0 (InputLayer)                 [(None, 64)]         0                                            \n",
            "__________________________________________________________________________________________________\n",
            "lstm (LSTM)                     [(None, 64), (None,  33024       dot[0][0]                        \n",
            "                                                                 s0[0][0]                         \n",
            "                                                                 c0[0][0]                         \n",
            "                                                                 dot[1][0]                        \n",
            "                                                                 lstm[0][0]                       \n",
            "                                                                 lstm[0][2]                       \n",
            "                                                                 dot[2][0]                        \n",
            "                                                                 lstm[1][0]                       \n",
            "                                                                 lstm[1][2]                       \n",
            "                                                                 dot[3][0]                        \n",
            "                                                                 lstm[2][0]                       \n",
            "                                                                 lstm[2][2]                       \n",
            "                                                                 dot[4][0]                        \n",
            "                                                                 lstm[3][0]                       \n",
            "                                                                 lstm[3][2]                       \n",
            "                                                                 dot[5][0]                        \n",
            "                                                                 lstm[4][0]                       \n",
            "                                                                 lstm[4][2]                       \n",
            "                                                                 dot[6][0]                        \n",
            "                                                                 lstm[5][0]                       \n",
            "                                                                 lstm[5][2]                       \n",
            "                                                                 dot[7][0]                        \n",
            "                                                                 lstm[6][0]                       \n",
            "                                                                 lstm[6][2]                       \n",
            "                                                                 dot[8][0]                        \n",
            "                                                                 lstm[7][0]                       \n",
            "                                                                 lstm[7][2]                       \n",
            "                                                                 dot[9][0]                        \n",
            "                                                                 lstm[8][0]                       \n",
            "                                                                 lstm[8][2]                       \n",
            "__________________________________________________________________________________________________\n",
            "dense_2 (Dense)                 (None, 11)           715         lstm[0][0]                       \n",
            "                                                                 lstm[1][0]                       \n",
            "                                                                 lstm[2][0]                       \n",
            "                                                                 lstm[3][0]                       \n",
            "                                                                 lstm[4][0]                       \n",
            "                                                                 lstm[5][0]                       \n",
            "                                                                 lstm[6][0]                       \n",
            "                                                                 lstm[7][0]                       \n",
            "                                                                 lstm[8][0]                       \n",
            "                                                                 lstm[9][0]                       \n",
            "==================================================================================================\n",
            "Total params: 52,960\n",
            "Trainable params: 52,960\n",
            "Non-trainable params: 0\n",
            "__________________________________________________________________________________________________\n"
          ]
        },
        {
          "output_type": "stream",
          "name": "stderr",
          "text": [
            "/usr/local/lib/python3.7/dist-packages/keras/optimizer_v2/optimizer_v2.py:356: UserWarning: The `lr` argument is deprecated, use `learning_rate` instead.\n",
            "  \"The `lr` argument is deprecated, use `learning_rate` instead.\")\n"
          ]
        }
      ]
    },
    {
      "cell_type": "markdown",
      "metadata": {
        "id": "cSFwgDYfK-jV"
      },
      "source": [
        "## Training model"
      ]
    },
    {
      "cell_type": "code",
      "metadata": {
        "execution": {
          "iopub.status.busy": "2021-10-08T15:55:25.600591Z",
          "iopub.execute_input": "2021-10-08T15:55:25.600866Z",
          "iopub.status.idle": "2021-10-08T15:55:25.607838Z",
          "shell.execute_reply.started": "2021-10-08T15:55:25.600837Z",
          "shell.execute_reply": "2021-10-08T15:55:25.606850Z"
        },
        "trusted": true,
        "id": "qDZsqntGK-jW"
      },
      "source": [
        "s0 = np.zeros((m, s_dim))\n",
        "c0 = np.zeros((m, s_dim))\n",
        "#since the shape of model output (Ty, m, output_vocab_size), we need to swap Yoh axes to be alined with model output\n",
        "#Yoh has shape (m, Ty, output_vocab_size). we just swap 1st and 2nd axes\n",
        "Yoh_swapped = list(Yoh.swapaxes(0,1))"
      ],
      "execution_count": 11,
      "outputs": []
    },
    {
      "cell_type": "code",
      "metadata": {
        "execution": {
          "iopub.status.busy": "2021-10-08T15:55:29.835967Z",
          "iopub.execute_input": "2021-10-08T15:55:29.836274Z",
          "iopub.status.idle": "2021-10-08T16:11:02.113272Z",
          "shell.execute_reply.started": "2021-10-08T15:55:29.836242Z",
          "shell.execute_reply": "2021-10-08T16:11:02.112580Z"
        },
        "trusted": true,
        "colab": {
          "base_uri": "https://localhost:8080/"
        },
        "id": "4uObbWVDK-jX",
        "outputId": "94f47dad-1d9a-4ec1-b212-1beb09ab9e15"
      },
      "source": [
        "model.fit([Xoh, s0, c0], Yoh_swapped, epochs=200, batch_size=200)"
      ],
      "execution_count": 12,
      "outputs": [
        {
          "output_type": "stream",
          "name": "stdout",
          "text": [
            "Epoch 1/200\n",
            "100/100 [==============================] - 32s 87ms/step - loss: 16.2064 - dense_2_loss: 1.1444 - dense_2_1_loss: 1.0106 - dense_2_2_loss: 1.7070 - dense_2_3_loss: 2.6185 - dense_2_4_loss: 0.7942 - dense_2_5_loss: 1.2390 - dense_2_6_loss: 2.6353 - dense_2_7_loss: 0.9527 - dense_2_8_loss: 1.6502 - dense_2_9_loss: 2.4544 - dense_2_accuracy: 0.5465 - dense_2_1_accuracy: 0.7304 - dense_2_2_accuracy: 0.3226 - dense_2_3_accuracy: 0.1117 - dense_2_4_accuracy: 0.8704 - dense_2_5_accuracy: 0.3481 - dense_2_6_accuracy: 0.0765 - dense_2_7_accuracy: 0.8627 - dense_2_8_accuracy: 0.3165 - dense_2_9_accuracy: 0.1342\n",
            "Epoch 2/200\n",
            "100/100 [==============================] - 9s 88ms/step - loss: 8.2725 - dense_2_loss: 0.1647 - dense_2_1_loss: 0.1308 - dense_2_2_loss: 0.9445 - dense_2_3_loss: 1.9293 - dense_2_4_loss: 0.0188 - dense_2_5_loss: 0.3177 - dense_2_6_loss: 1.7838 - dense_2_7_loss: 0.0185 - dense_2_8_loss: 0.9611 - dense_2_9_loss: 2.0034 - dense_2_accuracy: 0.9674 - dense_2_1_accuracy: 0.9697 - dense_2_2_accuracy: 0.6150 - dense_2_3_accuracy: 0.2991 - dense_2_4_accuracy: 0.9999 - dense_2_5_accuracy: 0.8920 - dense_2_6_accuracy: 0.3297 - dense_2_7_accuracy: 0.9999 - dense_2_8_accuracy: 0.5961 - dense_2_9_accuracy: 0.2607\n",
            "Epoch 3/200\n",
            "100/100 [==============================] - 9s 85ms/step - loss: 6.6761 - dense_2_loss: 0.1031 - dense_2_1_loss: 0.0807 - dense_2_2_loss: 0.7308 - dense_2_3_loss: 1.4287 - dense_2_4_loss: 0.0154 - dense_2_5_loss: 0.1952 - dense_2_6_loss: 1.5455 - dense_2_7_loss: 0.0124 - dense_2_8_loss: 0.8314 - dense_2_9_loss: 1.7329 - dense_2_accuracy: 0.9747 - dense_2_1_accuracy: 0.9775 - dense_2_2_accuracy: 0.7388 - dense_2_3_accuracy: 0.5257 - dense_2_4_accuracy: 0.9999 - dense_2_5_accuracy: 0.9453 - dense_2_6_accuracy: 0.4107 - dense_2_7_accuracy: 0.9999 - dense_2_8_accuracy: 0.6460 - dense_2_9_accuracy: 0.3574\n",
            "Epoch 4/200\n",
            "100/100 [==============================] - 9s 87ms/step - loss: 5.1070 - dense_2_loss: 0.0762 - dense_2_1_loss: 0.0560 - dense_2_2_loss: 0.5501 - dense_2_3_loss: 0.8941 - dense_2_4_loss: 0.0135 - dense_2_5_loss: 0.1583 - dense_2_6_loss: 1.3180 - dense_2_7_loss: 0.0107 - dense_2_8_loss: 0.7468 - dense_2_9_loss: 1.2833 - dense_2_accuracy: 0.9789 - dense_2_1_accuracy: 0.9832 - dense_2_2_accuracy: 0.8127 - dense_2_3_accuracy: 0.7559 - dense_2_4_accuracy: 1.0000 - dense_2_5_accuracy: 0.9589 - dense_2_6_accuracy: 0.5008 - dense_2_7_accuracy: 1.0000 - dense_2_8_accuracy: 0.6924 - dense_2_9_accuracy: 0.5445\n",
            "Epoch 5/200\n",
            "100/100 [==============================] - 9s 88ms/step - loss: 3.6862 - dense_2_loss: 0.0602 - dense_2_1_loss: 0.0418 - dense_2_2_loss: 0.4118 - dense_2_3_loss: 0.5263 - dense_2_4_loss: 0.0093 - dense_2_5_loss: 0.1277 - dense_2_6_loss: 1.0974 - dense_2_7_loss: 0.0093 - dense_2_8_loss: 0.6263 - dense_2_9_loss: 0.7760 - dense_2_accuracy: 0.9827 - dense_2_1_accuracy: 0.9876 - dense_2_2_accuracy: 0.8662 - dense_2_3_accuracy: 0.8766 - dense_2_4_accuracy: 1.0000 - dense_2_5_accuracy: 0.9679 - dense_2_6_accuracy: 0.5810 - dense_2_7_accuracy: 1.0000 - dense_2_8_accuracy: 0.7594 - dense_2_9_accuracy: 0.7566\n",
            "Epoch 6/200\n",
            "100/100 [==============================] - 9s 86ms/step - loss: 2.7143 - dense_2_loss: 0.0495 - dense_2_1_loss: 0.0336 - dense_2_2_loss: 0.3010 - dense_2_3_loss: 0.3600 - dense_2_4_loss: 0.0066 - dense_2_5_loss: 0.1015 - dense_2_6_loss: 0.8872 - dense_2_7_loss: 0.0077 - dense_2_8_loss: 0.4975 - dense_2_9_loss: 0.4698 - dense_2_accuracy: 0.9854 - dense_2_1_accuracy: 0.9903 - dense_2_2_accuracy: 0.9099 - dense_2_3_accuracy: 0.9201 - dense_2_4_accuracy: 1.0000 - dense_2_5_accuracy: 0.9756 - dense_2_6_accuracy: 0.6952 - dense_2_7_accuracy: 1.0000 - dense_2_8_accuracy: 0.8221 - dense_2_9_accuracy: 0.8663\n",
            "Epoch 7/200\n",
            "100/100 [==============================] - 8s 85ms/step - loss: 2.0430 - dense_2_loss: 0.0407 - dense_2_1_loss: 0.0267 - dense_2_2_loss: 0.2226 - dense_2_3_loss: 0.2714 - dense_2_4_loss: 0.0052 - dense_2_5_loss: 0.0844 - dense_2_6_loss: 0.6765 - dense_2_7_loss: 0.0075 - dense_2_8_loss: 0.3898 - dense_2_9_loss: 0.3181 - dense_2_accuracy: 0.9891 - dense_2_1_accuracy: 0.9929 - dense_2_2_accuracy: 0.9358 - dense_2_3_accuracy: 0.9475 - dense_2_4_accuracy: 1.0000 - dense_2_5_accuracy: 0.9801 - dense_2_6_accuracy: 0.8101 - dense_2_7_accuracy: 1.0000 - dense_2_8_accuracy: 0.8648 - dense_2_9_accuracy: 0.9136\n",
            "Epoch 8/200\n",
            "100/100 [==============================] - 9s 88ms/step - loss: 1.5751 - dense_2_loss: 0.0325 - dense_2_1_loss: 0.0206 - dense_2_2_loss: 0.1674 - dense_2_3_loss: 0.2142 - dense_2_4_loss: 0.0040 - dense_2_5_loss: 0.0705 - dense_2_6_loss: 0.5102 - dense_2_7_loss: 0.0070 - dense_2_8_loss: 0.3146 - dense_2_9_loss: 0.2342 - dense_2_accuracy: 0.9919 - dense_2_1_accuracy: 0.9948 - dense_2_2_accuracy: 0.9551 - dense_2_3_accuracy: 0.9664 - dense_2_4_accuracy: 1.0000 - dense_2_5_accuracy: 0.9836 - dense_2_6_accuracy: 0.8787 - dense_2_7_accuracy: 1.0000 - dense_2_8_accuracy: 0.8868 - dense_2_9_accuracy: 0.9373\n",
            "Epoch 9/200\n",
            "100/100 [==============================] - 9s 88ms/step - loss: 1.2543 - dense_2_loss: 0.0262 - dense_2_1_loss: 0.0160 - dense_2_2_loss: 0.1264 - dense_2_3_loss: 0.1722 - dense_2_4_loss: 0.0033 - dense_2_5_loss: 0.0597 - dense_2_6_loss: 0.4018 - dense_2_7_loss: 0.0062 - dense_2_8_loss: 0.2599 - dense_2_9_loss: 0.1825 - dense_2_accuracy: 0.9941 - dense_2_1_accuracy: 0.9966 - dense_2_2_accuracy: 0.9706 - dense_2_3_accuracy: 0.9788 - dense_2_4_accuracy: 1.0000 - dense_2_5_accuracy: 0.9854 - dense_2_6_accuracy: 0.9100 - dense_2_7_accuracy: 1.0000 - dense_2_8_accuracy: 0.9070 - dense_2_9_accuracy: 0.9554\n",
            "Epoch 10/200\n",
            "100/100 [==============================] - 9s 86ms/step - loss: 1.0238 - dense_2_loss: 0.0217 - dense_2_1_loss: 0.0128 - dense_2_2_loss: 0.0953 - dense_2_3_loss: 0.1400 - dense_2_4_loss: 0.0028 - dense_2_5_loss: 0.0509 - dense_2_6_loss: 0.3287 - dense_2_7_loss: 0.0056 - dense_2_8_loss: 0.2218 - dense_2_9_loss: 0.1442 - dense_2_accuracy: 0.9962 - dense_2_1_accuracy: 0.9980 - dense_2_2_accuracy: 0.9821 - dense_2_3_accuracy: 0.9855 - dense_2_4_accuracy: 1.0000 - dense_2_5_accuracy: 0.9868 - dense_2_6_accuracy: 0.9270 - dense_2_7_accuracy: 1.0000 - dense_2_8_accuracy: 0.9244 - dense_2_9_accuracy: 0.9706\n",
            "Epoch 11/200\n",
            "100/100 [==============================] - 9s 87ms/step - loss: 0.8578 - dense_2_loss: 0.0183 - dense_2_1_loss: 0.0106 - dense_2_2_loss: 0.0739 - dense_2_3_loss: 0.1154 - dense_2_4_loss: 0.0023 - dense_2_5_loss: 0.0446 - dense_2_6_loss: 0.2774 - dense_2_7_loss: 0.0049 - dense_2_8_loss: 0.1920 - dense_2_9_loss: 0.1185 - dense_2_accuracy: 0.9979 - dense_2_1_accuracy: 0.9988 - dense_2_2_accuracy: 0.9884 - dense_2_3_accuracy: 0.9902 - dense_2_4_accuracy: 1.0000 - dense_2_5_accuracy: 0.9880 - dense_2_6_accuracy: 0.9389 - dense_2_7_accuracy: 1.0000 - dense_2_8_accuracy: 0.9378 - dense_2_9_accuracy: 0.9772\n",
            "Epoch 12/200\n",
            "100/100 [==============================] - 8s 84ms/step - loss: 0.7229 - dense_2_loss: 0.0157 - dense_2_1_loss: 0.0091 - dense_2_2_loss: 0.0581 - dense_2_3_loss: 0.0963 - dense_2_4_loss: 0.0020 - dense_2_5_loss: 0.0399 - dense_2_6_loss: 0.2364 - dense_2_7_loss: 0.0043 - dense_2_8_loss: 0.1652 - dense_2_9_loss: 0.0959 - dense_2_accuracy: 0.9984 - dense_2_1_accuracy: 0.9995 - dense_2_2_accuracy: 0.9929 - dense_2_3_accuracy: 0.9934 - dense_2_4_accuracy: 1.0000 - dense_2_5_accuracy: 0.9884 - dense_2_6_accuracy: 0.9477 - dense_2_7_accuracy: 1.0000 - dense_2_8_accuracy: 0.9502 - dense_2_9_accuracy: 0.9827\n",
            "Epoch 13/200\n",
            "100/100 [==============================] - 9s 87ms/step - loss: 0.6283 - dense_2_loss: 0.0139 - dense_2_1_loss: 0.0080 - dense_2_2_loss: 0.0474 - dense_2_3_loss: 0.0822 - dense_2_4_loss: 0.0017 - dense_2_5_loss: 0.0363 - dense_2_6_loss: 0.2089 - dense_2_7_loss: 0.0039 - dense_2_8_loss: 0.1446 - dense_2_9_loss: 0.0814 - dense_2_accuracy: 0.9988 - dense_2_1_accuracy: 0.9998 - dense_2_2_accuracy: 0.9946 - dense_2_3_accuracy: 0.9953 - dense_2_4_accuracy: 1.0000 - dense_2_5_accuracy: 0.9894 - dense_2_6_accuracy: 0.9531 - dense_2_7_accuracy: 1.0000 - dense_2_8_accuracy: 0.9607 - dense_2_9_accuracy: 0.9858\n",
            "Epoch 14/200\n",
            "100/100 [==============================] - 8s 84ms/step - loss: 0.5491 - dense_2_loss: 0.0124 - dense_2_1_loss: 0.0071 - dense_2_2_loss: 0.0398 - dense_2_3_loss: 0.0711 - dense_2_4_loss: 0.0015 - dense_2_5_loss: 0.0335 - dense_2_6_loss: 0.1856 - dense_2_7_loss: 0.0036 - dense_2_8_loss: 0.1258 - dense_2_9_loss: 0.0687 - dense_2_accuracy: 0.9992 - dense_2_1_accuracy: 0.9998 - dense_2_2_accuracy: 0.9961 - dense_2_3_accuracy: 0.9964 - dense_2_4_accuracy: 1.0000 - dense_2_5_accuracy: 0.9898 - dense_2_6_accuracy: 0.9570 - dense_2_7_accuracy: 1.0000 - dense_2_8_accuracy: 0.9681 - dense_2_9_accuracy: 0.9893\n",
            "Epoch 15/200\n",
            "100/100 [==============================] - 8s 84ms/step - loss: 0.4869 - dense_2_loss: 0.0113 - dense_2_1_loss: 0.0064 - dense_2_2_loss: 0.0334 - dense_2_3_loss: 0.0632 - dense_2_4_loss: 0.0014 - dense_2_5_loss: 0.0308 - dense_2_6_loss: 0.1669 - dense_2_7_loss: 0.0033 - dense_2_8_loss: 0.1109 - dense_2_9_loss: 0.0593 - dense_2_accuracy: 0.9991 - dense_2_1_accuracy: 0.9999 - dense_2_2_accuracy: 0.9969 - dense_2_3_accuracy: 0.9966 - dense_2_4_accuracy: 1.0000 - dense_2_5_accuracy: 0.9905 - dense_2_6_accuracy: 0.9614 - dense_2_7_accuracy: 1.0000 - dense_2_8_accuracy: 0.9753 - dense_2_9_accuracy: 0.9911\n",
            "Epoch 16/200\n",
            "100/100 [==============================] - 8s 83ms/step - loss: 0.4376 - dense_2_loss: 0.0103 - dense_2_1_loss: 0.0058 - dense_2_2_loss: 0.0288 - dense_2_3_loss: 0.0571 - dense_2_4_loss: 0.0013 - dense_2_5_loss: 0.0291 - dense_2_6_loss: 0.1526 - dense_2_7_loss: 0.0029 - dense_2_8_loss: 0.0983 - dense_2_9_loss: 0.0514 - dense_2_accuracy: 0.9992 - dense_2_1_accuracy: 0.9999 - dense_2_2_accuracy: 0.9976 - dense_2_3_accuracy: 0.9969 - dense_2_4_accuracy: 1.0000 - dense_2_5_accuracy: 0.9907 - dense_2_6_accuracy: 0.9639 - dense_2_7_accuracy: 1.0000 - dense_2_8_accuracy: 0.9798 - dense_2_9_accuracy: 0.9926\n",
            "Epoch 17/200\n",
            "100/100 [==============================] - 8s 81ms/step - loss: 0.3933 - dense_2_loss: 0.0094 - dense_2_1_loss: 0.0054 - dense_2_2_loss: 0.0252 - dense_2_3_loss: 0.0519 - dense_2_4_loss: 0.0012 - dense_2_5_loss: 0.0266 - dense_2_6_loss: 0.1385 - dense_2_7_loss: 0.0028 - dense_2_8_loss: 0.0868 - dense_2_9_loss: 0.0454 - dense_2_accuracy: 0.9995 - dense_2_1_accuracy: 0.9999 - dense_2_2_accuracy: 0.9979 - dense_2_3_accuracy: 0.9974 - dense_2_4_accuracy: 1.0000 - dense_2_5_accuracy: 0.9915 - dense_2_6_accuracy: 0.9672 - dense_2_7_accuracy: 1.0000 - dense_2_8_accuracy: 0.9839 - dense_2_9_accuracy: 0.9940\n",
            "Epoch 18/200\n",
            "100/100 [==============================] - 8s 82ms/step - loss: 0.3570 - dense_2_loss: 0.0088 - dense_2_1_loss: 0.0050 - dense_2_2_loss: 0.0222 - dense_2_3_loss: 0.0481 - dense_2_4_loss: 0.0010 - dense_2_5_loss: 0.0251 - dense_2_6_loss: 0.1277 - dense_2_7_loss: 0.0026 - dense_2_8_loss: 0.0764 - dense_2_9_loss: 0.0400 - dense_2_accuracy: 0.9997 - dense_2_1_accuracy: 0.9999 - dense_2_2_accuracy: 0.9983 - dense_2_3_accuracy: 0.9976 - dense_2_4_accuracy: 1.0000 - dense_2_5_accuracy: 0.9920 - dense_2_6_accuracy: 0.9693 - dense_2_7_accuracy: 1.0000 - dense_2_8_accuracy: 0.9871 - dense_2_9_accuracy: 0.9955\n",
            "Epoch 19/200\n",
            "100/100 [==============================] - 8s 83ms/step - loss: 0.3267 - dense_2_loss: 0.0082 - dense_2_1_loss: 0.0047 - dense_2_2_loss: 0.0201 - dense_2_3_loss: 0.0449 - dense_2_4_loss: 9.8018e-04 - dense_2_5_loss: 0.0236 - dense_2_6_loss: 0.1178 - dense_2_7_loss: 0.0025 - dense_2_8_loss: 0.0683 - dense_2_9_loss: 0.0356 - dense_2_accuracy: 0.9998 - dense_2_1_accuracy: 0.9999 - dense_2_2_accuracy: 0.9985 - dense_2_3_accuracy: 0.9977 - dense_2_4_accuracy: 1.0000 - dense_2_5_accuracy: 0.9922 - dense_2_6_accuracy: 0.9711 - dense_2_7_accuracy: 1.0000 - dense_2_8_accuracy: 0.9890 - dense_2_9_accuracy: 0.9960\n",
            "Epoch 20/200\n",
            "100/100 [==============================] - 8s 84ms/step - loss: 0.3010 - dense_2_loss: 0.0076 - dense_2_1_loss: 0.0044 - dense_2_2_loss: 0.0180 - dense_2_3_loss: 0.0424 - dense_2_4_loss: 8.8859e-04 - dense_2_5_loss: 0.0222 - dense_2_6_loss: 0.1089 - dense_2_7_loss: 0.0023 - dense_2_8_loss: 0.0619 - dense_2_9_loss: 0.0323 - dense_2_accuracy: 0.9998 - dense_2_1_accuracy: 0.9999 - dense_2_2_accuracy: 0.9987 - dense_2_3_accuracy: 0.9977 - dense_2_4_accuracy: 1.0000 - dense_2_5_accuracy: 0.9926 - dense_2_6_accuracy: 0.9729 - dense_2_7_accuracy: 1.0000 - dense_2_8_accuracy: 0.9905 - dense_2_9_accuracy: 0.9962\n",
            "Epoch 21/200\n",
            "100/100 [==============================] - 9s 86ms/step - loss: 0.2761 - dense_2_loss: 0.0072 - dense_2_1_loss: 0.0042 - dense_2_2_loss: 0.0166 - dense_2_3_loss: 0.0401 - dense_2_4_loss: 8.0765e-04 - dense_2_5_loss: 0.0205 - dense_2_6_loss: 0.1007 - dense_2_7_loss: 0.0022 - dense_2_8_loss: 0.0550 - dense_2_9_loss: 0.0287 - dense_2_accuracy: 0.9998 - dense_2_1_accuracy: 0.9999 - dense_2_2_accuracy: 0.9989 - dense_2_3_accuracy: 0.9977 - dense_2_4_accuracy: 1.0000 - dense_2_5_accuracy: 0.9937 - dense_2_6_accuracy: 0.9752 - dense_2_7_accuracy: 1.0000 - dense_2_8_accuracy: 0.9924 - dense_2_9_accuracy: 0.9968\n",
            "Epoch 22/200\n",
            "100/100 [==============================] - 8s 84ms/step - loss: 0.2559 - dense_2_loss: 0.0068 - dense_2_1_loss: 0.0039 - dense_2_2_loss: 0.0153 - dense_2_3_loss: 0.0383 - dense_2_4_loss: 7.6759e-04 - dense_2_5_loss: 0.0196 - dense_2_6_loss: 0.0932 - dense_2_7_loss: 0.0021 - dense_2_8_loss: 0.0500 - dense_2_9_loss: 0.0259 - dense_2_accuracy: 0.9999 - dense_2_1_accuracy: 0.9999 - dense_2_2_accuracy: 0.9990 - dense_2_3_accuracy: 0.9977 - dense_2_4_accuracy: 1.0000 - dense_2_5_accuracy: 0.9936 - dense_2_6_accuracy: 0.9768 - dense_2_7_accuracy: 1.0000 - dense_2_8_accuracy: 0.9934 - dense_2_9_accuracy: 0.9973\n",
            "Epoch 23/200\n",
            "100/100 [==============================] - 8s 84ms/step - loss: 0.2388 - dense_2_loss: 0.0065 - dense_2_1_loss: 0.0038 - dense_2_2_loss: 0.0141 - dense_2_3_loss: 0.0370 - dense_2_4_loss: 7.2099e-04 - dense_2_5_loss: 0.0184 - dense_2_6_loss: 0.0873 - dense_2_7_loss: 0.0020 - dense_2_8_loss: 0.0454 - dense_2_9_loss: 0.0237 - dense_2_accuracy: 0.9999 - dense_2_1_accuracy: 0.9999 - dense_2_2_accuracy: 0.9991 - dense_2_3_accuracy: 0.9977 - dense_2_4_accuracy: 1.0000 - dense_2_5_accuracy: 0.9937 - dense_2_6_accuracy: 0.9776 - dense_2_7_accuracy: 1.0000 - dense_2_8_accuracy: 0.9940 - dense_2_9_accuracy: 0.9980\n",
            "Epoch 24/200\n",
            "100/100 [==============================] - 8s 85ms/step - loss: 0.2212 - dense_2_loss: 0.0062 - dense_2_1_loss: 0.0036 - dense_2_2_loss: 0.0135 - dense_2_3_loss: 0.0353 - dense_2_4_loss: 6.6561e-04 - dense_2_5_loss: 0.0175 - dense_2_6_loss: 0.0794 - dense_2_7_loss: 0.0019 - dense_2_8_loss: 0.0415 - dense_2_9_loss: 0.0215 - dense_2_accuracy: 0.9999 - dense_2_1_accuracy: 0.9999 - dense_2_2_accuracy: 0.9991 - dense_2_3_accuracy: 0.9977 - dense_2_4_accuracy: 1.0000 - dense_2_5_accuracy: 0.9940 - dense_2_6_accuracy: 0.9799 - dense_2_7_accuracy: 1.0000 - dense_2_8_accuracy: 0.9945 - dense_2_9_accuracy: 0.9983\n",
            "Epoch 25/200\n",
            "100/100 [==============================] - 8s 83ms/step - loss: 0.2057 - dense_2_loss: 0.0059 - dense_2_1_loss: 0.0034 - dense_2_2_loss: 0.0125 - dense_2_3_loss: 0.0342 - dense_2_4_loss: 6.1317e-04 - dense_2_5_loss: 0.0167 - dense_2_6_loss: 0.0729 - dense_2_7_loss: 0.0018 - dense_2_8_loss: 0.0378 - dense_2_9_loss: 0.0197 - dense_2_accuracy: 0.9999 - dense_2_1_accuracy: 0.9999 - dense_2_2_accuracy: 0.9993 - dense_2_3_accuracy: 0.9977 - dense_2_4_accuracy: 1.0000 - dense_2_5_accuracy: 0.9944 - dense_2_6_accuracy: 0.9819 - dense_2_7_accuracy: 1.0000 - dense_2_8_accuracy: 0.9955 - dense_2_9_accuracy: 0.9983\n",
            "Epoch 26/200\n",
            "100/100 [==============================] - 8s 83ms/step - loss: 0.1903 - dense_2_loss: 0.0057 - dense_2_1_loss: 0.0033 - dense_2_2_loss: 0.0119 - dense_2_3_loss: 0.0331 - dense_2_4_loss: 5.9012e-04 - dense_2_5_loss: 0.0153 - dense_2_6_loss: 0.0653 - dense_2_7_loss: 0.0018 - dense_2_8_loss: 0.0351 - dense_2_9_loss: 0.0183 - dense_2_accuracy: 0.9999 - dense_2_1_accuracy: 0.9999 - dense_2_2_accuracy: 0.9994 - dense_2_3_accuracy: 0.9977 - dense_2_4_accuracy: 1.0000 - dense_2_5_accuracy: 0.9951 - dense_2_6_accuracy: 0.9840 - dense_2_7_accuracy: 1.0000 - dense_2_8_accuracy: 0.9956 - dense_2_9_accuracy: 0.9985\n",
            "Epoch 27/200\n",
            "100/100 [==============================] - 8s 83ms/step - loss: 0.1770 - dense_2_loss: 0.0054 - dense_2_1_loss: 0.0032 - dense_2_2_loss: 0.0113 - dense_2_3_loss: 0.0323 - dense_2_4_loss: 5.5087e-04 - dense_2_5_loss: 0.0146 - dense_2_6_loss: 0.0583 - dense_2_7_loss: 0.0017 - dense_2_8_loss: 0.0325 - dense_2_9_loss: 0.0171 - dense_2_accuracy: 0.9999 - dense_2_1_accuracy: 0.9999 - dense_2_2_accuracy: 0.9994 - dense_2_3_accuracy: 0.9977 - dense_2_4_accuracy: 1.0000 - dense_2_5_accuracy: 0.9954 - dense_2_6_accuracy: 0.9870 - dense_2_7_accuracy: 1.0000 - dense_2_8_accuracy: 0.9959 - dense_2_9_accuracy: 0.9986\n",
            "Epoch 28/200\n",
            "100/100 [==============================] - 8s 84ms/step - loss: 0.1631 - dense_2_loss: 0.0052 - dense_2_1_loss: 0.0031 - dense_2_2_loss: 0.0110 - dense_2_3_loss: 0.0312 - dense_2_4_loss: 5.0373e-04 - dense_2_5_loss: 0.0137 - dense_2_6_loss: 0.0504 - dense_2_7_loss: 0.0016 - dense_2_8_loss: 0.0305 - dense_2_9_loss: 0.0159 - dense_2_accuracy: 0.9999 - dense_2_1_accuracy: 0.9999 - dense_2_2_accuracy: 0.9994 - dense_2_3_accuracy: 0.9977 - dense_2_4_accuracy: 1.0000 - dense_2_5_accuracy: 0.9958 - dense_2_6_accuracy: 0.9903 - dense_2_7_accuracy: 1.0000 - dense_2_8_accuracy: 0.9966 - dense_2_9_accuracy: 0.9987\n",
            "Epoch 29/200\n",
            "100/100 [==============================] - 8s 84ms/step - loss: 0.1503 - dense_2_loss: 0.0050 - dense_2_1_loss: 0.0030 - dense_2_2_loss: 0.0105 - dense_2_3_loss: 0.0305 - dense_2_4_loss: 4.8520e-04 - dense_2_5_loss: 0.0130 - dense_2_6_loss: 0.0438 - dense_2_7_loss: 0.0015 - dense_2_8_loss: 0.0278 - dense_2_9_loss: 0.0148 - dense_2_accuracy: 0.9999 - dense_2_1_accuracy: 0.9999 - dense_2_2_accuracy: 0.9994 - dense_2_3_accuracy: 0.9977 - dense_2_4_accuracy: 1.0000 - dense_2_5_accuracy: 0.9962 - dense_2_6_accuracy: 0.9923 - dense_2_7_accuracy: 1.0000 - dense_2_8_accuracy: 0.9967 - dense_2_9_accuracy: 0.9991\n",
            "Epoch 30/200\n",
            "100/100 [==============================] - 8s 85ms/step - loss: 0.1391 - dense_2_loss: 0.0048 - dense_2_1_loss: 0.0029 - dense_2_2_loss: 0.0099 - dense_2_3_loss: 0.0298 - dense_2_4_loss: 4.6773e-04 - dense_2_5_loss: 0.0119 - dense_2_6_loss: 0.0383 - dense_2_7_loss: 0.0014 - dense_2_8_loss: 0.0256 - dense_2_9_loss: 0.0140 - dense_2_accuracy: 0.9999 - dense_2_1_accuracy: 0.9999 - dense_2_2_accuracy: 0.9995 - dense_2_3_accuracy: 0.9977 - dense_2_4_accuracy: 1.0000 - dense_2_5_accuracy: 0.9963 - dense_2_6_accuracy: 0.9940 - dense_2_7_accuracy: 1.0000 - dense_2_8_accuracy: 0.9971 - dense_2_9_accuracy: 0.9990\n",
            "Epoch 31/200\n",
            "100/100 [==============================] - 8s 83ms/step - loss: 0.1300 - dense_2_loss: 0.0046 - dense_2_1_loss: 0.0028 - dense_2_2_loss: 0.0097 - dense_2_3_loss: 0.0291 - dense_2_4_loss: 4.3723e-04 - dense_2_5_loss: 0.0115 - dense_2_6_loss: 0.0342 - dense_2_7_loss: 0.0013 - dense_2_8_loss: 0.0237 - dense_2_9_loss: 0.0128 - dense_2_accuracy: 0.9999 - dense_2_1_accuracy: 0.9999 - dense_2_2_accuracy: 0.9995 - dense_2_3_accuracy: 0.9977 - dense_2_4_accuracy: 1.0000 - dense_2_5_accuracy: 0.9969 - dense_2_6_accuracy: 0.9955 - dense_2_7_accuracy: 1.0000 - dense_2_8_accuracy: 0.9974 - dense_2_9_accuracy: 0.9992\n",
            "Epoch 32/200\n",
            "100/100 [==============================] - 9s 86ms/step - loss: 0.1212 - dense_2_loss: 0.0045 - dense_2_1_loss: 0.0027 - dense_2_2_loss: 0.0091 - dense_2_3_loss: 0.0285 - dense_2_4_loss: 4.1527e-04 - dense_2_5_loss: 0.0107 - dense_2_6_loss: 0.0306 - dense_2_7_loss: 0.0012 - dense_2_8_loss: 0.0216 - dense_2_9_loss: 0.0118 - dense_2_accuracy: 0.9999 - dense_2_1_accuracy: 0.9999 - dense_2_2_accuracy: 0.9995 - dense_2_3_accuracy: 0.9977 - dense_2_4_accuracy: 1.0000 - dense_2_5_accuracy: 0.9969 - dense_2_6_accuracy: 0.9963 - dense_2_7_accuracy: 1.0000 - dense_2_8_accuracy: 0.9979 - dense_2_9_accuracy: 0.9993\n",
            "Epoch 33/200\n",
            "100/100 [==============================] - 8s 84ms/step - loss: 0.1135 - dense_2_loss: 0.0043 - dense_2_1_loss: 0.0026 - dense_2_2_loss: 0.0089 - dense_2_3_loss: 0.0279 - dense_2_4_loss: 3.9708e-04 - dense_2_5_loss: 0.0099 - dense_2_6_loss: 0.0275 - dense_2_7_loss: 0.0012 - dense_2_8_loss: 0.0200 - dense_2_9_loss: 0.0109 - dense_2_accuracy: 0.9999 - dense_2_1_accuracy: 0.9999 - dense_2_2_accuracy: 0.9995 - dense_2_3_accuracy: 0.9977 - dense_2_4_accuracy: 1.0000 - dense_2_5_accuracy: 0.9975 - dense_2_6_accuracy: 0.9969 - dense_2_7_accuracy: 1.0000 - dense_2_8_accuracy: 0.9978 - dense_2_9_accuracy: 0.9995\n",
            "Epoch 34/200\n",
            "100/100 [==============================] - 8s 82ms/step - loss: 0.1072 - dense_2_loss: 0.0041 - dense_2_1_loss: 0.0026 - dense_2_2_loss: 0.0083 - dense_2_3_loss: 0.0274 - dense_2_4_loss: 3.7982e-04 - dense_2_5_loss: 0.0095 - dense_2_6_loss: 0.0251 - dense_2_7_loss: 0.0011 - dense_2_8_loss: 0.0184 - dense_2_9_loss: 0.0103 - dense_2_accuracy: 0.9999 - dense_2_1_accuracy: 0.9999 - dense_2_2_accuracy: 0.9995 - dense_2_3_accuracy: 0.9977 - dense_2_4_accuracy: 1.0000 - dense_2_5_accuracy: 0.9977 - dense_2_6_accuracy: 0.9976 - dense_2_7_accuracy: 1.0000 - dense_2_8_accuracy: 0.9984 - dense_2_9_accuracy: 0.9996\n",
            "Epoch 35/200\n",
            "100/100 [==============================] - 8s 83ms/step - loss: 0.1017 - dense_2_loss: 0.0040 - dense_2_1_loss: 0.0025 - dense_2_2_loss: 0.0081 - dense_2_3_loss: 0.0269 - dense_2_4_loss: 3.5974e-04 - dense_2_5_loss: 0.0089 - dense_2_6_loss: 0.0233 - dense_2_7_loss: 0.0011 - dense_2_8_loss: 0.0171 - dense_2_9_loss: 0.0095 - dense_2_accuracy: 0.9999 - dense_2_1_accuracy: 0.9999 - dense_2_2_accuracy: 0.9995 - dense_2_3_accuracy: 0.9977 - dense_2_4_accuracy: 1.0000 - dense_2_5_accuracy: 0.9975 - dense_2_6_accuracy: 0.9976 - dense_2_7_accuracy: 1.0000 - dense_2_8_accuracy: 0.9987 - dense_2_9_accuracy: 0.9998\n",
            "Epoch 36/200\n",
            "100/100 [==============================] - 9s 85ms/step - loss: 0.0960 - dense_2_loss: 0.0039 - dense_2_1_loss: 0.0025 - dense_2_2_loss: 0.0078 - dense_2_3_loss: 0.0265 - dense_2_4_loss: 3.5044e-04 - dense_2_5_loss: 0.0084 - dense_2_6_loss: 0.0213 - dense_2_7_loss: 0.0010 - dense_2_8_loss: 0.0156 - dense_2_9_loss: 0.0088 - dense_2_accuracy: 0.9999 - dense_2_1_accuracy: 0.9999 - dense_2_2_accuracy: 0.9995 - dense_2_3_accuracy: 0.9977 - dense_2_4_accuracy: 1.0000 - dense_2_5_accuracy: 0.9979 - dense_2_6_accuracy: 0.9980 - dense_2_7_accuracy: 1.0000 - dense_2_8_accuracy: 0.9988 - dense_2_9_accuracy: 0.9999\n",
            "Epoch 37/200\n",
            "100/100 [==============================] - 8s 82ms/step - loss: 0.0913 - dense_2_loss: 0.0037 - dense_2_1_loss: 0.0024 - dense_2_2_loss: 0.0075 - dense_2_3_loss: 0.0259 - dense_2_4_loss: 3.3441e-04 - dense_2_5_loss: 0.0078 - dense_2_6_loss: 0.0198 - dense_2_7_loss: 9.5490e-04 - dense_2_8_loss: 0.0145 - dense_2_9_loss: 0.0083 - dense_2_accuracy: 0.9999 - dense_2_1_accuracy: 0.9999 - dense_2_2_accuracy: 0.9995 - dense_2_3_accuracy: 0.9977 - dense_2_4_accuracy: 1.0000 - dense_2_5_accuracy: 0.9983 - dense_2_6_accuracy: 0.9981 - dense_2_7_accuracy: 1.0000 - dense_2_8_accuracy: 0.9991 - dense_2_9_accuracy: 0.9999\n",
            "Epoch 38/200\n",
            "100/100 [==============================] - 8s 84ms/step - loss: 0.0872 - dense_2_loss: 0.0036 - dense_2_1_loss: 0.0023 - dense_2_2_loss: 0.0073 - dense_2_3_loss: 0.0256 - dense_2_4_loss: 3.1536e-04 - dense_2_5_loss: 0.0076 - dense_2_6_loss: 0.0182 - dense_2_7_loss: 9.4773e-04 - dense_2_8_loss: 0.0135 - dense_2_9_loss: 0.0078 - dense_2_accuracy: 0.9999 - dense_2_1_accuracy: 0.9999 - dense_2_2_accuracy: 0.9995 - dense_2_3_accuracy: 0.9977 - dense_2_4_accuracy: 1.0000 - dense_2_5_accuracy: 0.9981 - dense_2_6_accuracy: 0.9984 - dense_2_7_accuracy: 1.0000 - dense_2_8_accuracy: 0.9991 - dense_2_9_accuracy: 0.9999\n",
            "Epoch 39/200\n",
            "100/100 [==============================] - 9s 85ms/step - loss: 0.0831 - dense_2_loss: 0.0035 - dense_2_1_loss: 0.0023 - dense_2_2_loss: 0.0070 - dense_2_3_loss: 0.0251 - dense_2_4_loss: 3.0331e-04 - dense_2_5_loss: 0.0070 - dense_2_6_loss: 0.0169 - dense_2_7_loss: 8.6251e-04 - dense_2_8_loss: 0.0127 - dense_2_9_loss: 0.0074 - dense_2_accuracy: 0.9999 - dense_2_1_accuracy: 0.9999 - dense_2_2_accuracy: 0.9995 - dense_2_3_accuracy: 0.9977 - dense_2_4_accuracy: 1.0000 - dense_2_5_accuracy: 0.9987 - dense_2_6_accuracy: 0.9984 - dense_2_7_accuracy: 1.0000 - dense_2_8_accuracy: 0.9992 - dense_2_9_accuracy: 0.9999\n",
            "Epoch 40/200\n",
            "100/100 [==============================] - 9s 85ms/step - loss: 0.0798 - dense_2_loss: 0.0034 - dense_2_1_loss: 0.0022 - dense_2_2_loss: 0.0068 - dense_2_3_loss: 0.0249 - dense_2_4_loss: 2.9529e-04 - dense_2_5_loss: 0.0067 - dense_2_6_loss: 0.0160 - dense_2_7_loss: 8.5693e-04 - dense_2_8_loss: 0.0118 - dense_2_9_loss: 0.0068 - dense_2_accuracy: 0.9999 - dense_2_1_accuracy: 0.9999 - dense_2_2_accuracy: 0.9996 - dense_2_3_accuracy: 0.9977 - dense_2_4_accuracy: 1.0000 - dense_2_5_accuracy: 0.9987 - dense_2_6_accuracy: 0.9987 - dense_2_7_accuracy: 1.0000 - dense_2_8_accuracy: 0.9995 - dense_2_9_accuracy: 0.9999\n",
            "Epoch 41/200\n",
            "100/100 [==============================] - 8s 83ms/step - loss: 0.0765 - dense_2_loss: 0.0032 - dense_2_1_loss: 0.0022 - dense_2_2_loss: 0.0067 - dense_2_3_loss: 0.0244 - dense_2_4_loss: 2.8638e-04 - dense_2_5_loss: 0.0062 - dense_2_6_loss: 0.0150 - dense_2_7_loss: 8.1196e-04 - dense_2_8_loss: 0.0112 - dense_2_9_loss: 0.0066 - dense_2_accuracy: 0.9999 - dense_2_1_accuracy: 0.9999 - dense_2_2_accuracy: 0.9996 - dense_2_3_accuracy: 0.9977 - dense_2_4_accuracy: 1.0000 - dense_2_5_accuracy: 0.9988 - dense_2_6_accuracy: 0.9987 - dense_2_7_accuracy: 1.0000 - dense_2_8_accuracy: 0.9994 - dense_2_9_accuracy: 0.9999\n",
            "Epoch 42/200\n",
            "100/100 [==============================] - 8s 84ms/step - loss: 0.0731 - dense_2_loss: 0.0032 - dense_2_1_loss: 0.0022 - dense_2_2_loss: 0.0065 - dense_2_3_loss: 0.0241 - dense_2_4_loss: 2.7265e-04 - dense_2_5_loss: 0.0058 - dense_2_6_loss: 0.0140 - dense_2_7_loss: 7.6380e-04 - dense_2_8_loss: 0.0102 - dense_2_9_loss: 0.0061 - dense_2_accuracy: 0.9999 - dense_2_1_accuracy: 0.9999 - dense_2_2_accuracy: 0.9996 - dense_2_3_accuracy: 0.9977 - dense_2_4_accuracy: 1.0000 - dense_2_5_accuracy: 0.9992 - dense_2_6_accuracy: 0.9990 - dense_2_7_accuracy: 1.0000 - dense_2_8_accuracy: 0.9996 - dense_2_9_accuracy: 0.9999\n",
            "Epoch 43/200\n",
            "100/100 [==============================] - 9s 87ms/step - loss: 0.0705 - dense_2_loss: 0.0030 - dense_2_1_loss: 0.0021 - dense_2_2_loss: 0.0063 - dense_2_3_loss: 0.0239 - dense_2_4_loss: 2.6566e-04 - dense_2_5_loss: 0.0056 - dense_2_6_loss: 0.0131 - dense_2_7_loss: 7.6926e-04 - dense_2_8_loss: 0.0096 - dense_2_9_loss: 0.0058 - dense_2_accuracy: 0.9999 - dense_2_1_accuracy: 0.9999 - dense_2_2_accuracy: 0.9996 - dense_2_3_accuracy: 0.9977 - dense_2_4_accuracy: 1.0000 - dense_2_5_accuracy: 0.9989 - dense_2_6_accuracy: 0.9991 - dense_2_7_accuracy: 1.0000 - dense_2_8_accuracy: 0.9997 - dense_2_9_accuracy: 1.0000\n",
            "Epoch 44/200\n",
            "100/100 [==============================] - 9s 87ms/step - loss: 0.0681 - dense_2_loss: 0.0029 - dense_2_1_loss: 0.0021 - dense_2_2_loss: 0.0061 - dense_2_3_loss: 0.0236 - dense_2_4_loss: 2.5241e-04 - dense_2_5_loss: 0.0055 - dense_2_6_loss: 0.0124 - dense_2_7_loss: 7.1703e-04 - dense_2_8_loss: 0.0090 - dense_2_9_loss: 0.0055 - dense_2_accuracy: 0.9999 - dense_2_1_accuracy: 0.9999 - dense_2_2_accuracy: 0.9996 - dense_2_3_accuracy: 0.9977 - dense_2_4_accuracy: 1.0000 - dense_2_5_accuracy: 0.9990 - dense_2_6_accuracy: 0.9993 - dense_2_7_accuracy: 1.0000 - dense_2_8_accuracy: 0.9998 - dense_2_9_accuracy: 1.0000\n",
            "Epoch 45/200\n",
            "100/100 [==============================] - 9s 85ms/step - loss: 0.0654 - dense_2_loss: 0.0029 - dense_2_1_loss: 0.0020 - dense_2_2_loss: 0.0060 - dense_2_3_loss: 0.0233 - dense_2_4_loss: 2.4371e-04 - dense_2_5_loss: 0.0051 - dense_2_6_loss: 0.0116 - dense_2_7_loss: 6.9866e-04 - dense_2_8_loss: 0.0084 - dense_2_9_loss: 0.0052 - dense_2_accuracy: 0.9999 - dense_2_1_accuracy: 0.9999 - dense_2_2_accuracy: 0.9996 - dense_2_3_accuracy: 0.9977 - dense_2_4_accuracy: 1.0000 - dense_2_5_accuracy: 0.9992 - dense_2_6_accuracy: 0.9993 - dense_2_7_accuracy: 1.0000 - dense_2_8_accuracy: 0.9998 - dense_2_9_accuracy: 1.0000\n",
            "Epoch 46/200\n",
            "100/100 [==============================] - 9s 85ms/step - loss: 0.0633 - dense_2_loss: 0.0027 - dense_2_1_loss: 0.0020 - dense_2_2_loss: 0.0059 - dense_2_3_loss: 0.0230 - dense_2_4_loss: 2.3453e-04 - dense_2_5_loss: 0.0048 - dense_2_6_loss: 0.0109 - dense_2_7_loss: 6.7826e-04 - dense_2_8_loss: 0.0081 - dense_2_9_loss: 0.0050 - dense_2_accuracy: 0.9999 - dense_2_1_accuracy: 0.9999 - dense_2_2_accuracy: 0.9996 - dense_2_3_accuracy: 0.9977 - dense_2_4_accuracy: 1.0000 - dense_2_5_accuracy: 0.9994 - dense_2_6_accuracy: 0.9997 - dense_2_7_accuracy: 1.0000 - dense_2_8_accuracy: 0.9998 - dense_2_9_accuracy: 1.0000\n",
            "Epoch 47/200\n",
            "100/100 [==============================] - 9s 86ms/step - loss: 0.0610 - dense_2_loss: 0.0027 - dense_2_1_loss: 0.0020 - dense_2_2_loss: 0.0057 - dense_2_3_loss: 0.0227 - dense_2_4_loss: 2.2990e-04 - dense_2_5_loss: 0.0045 - dense_2_6_loss: 0.0103 - dense_2_7_loss: 6.5107e-04 - dense_2_8_loss: 0.0076 - dense_2_9_loss: 0.0046 - dense_2_accuracy: 0.9999 - dense_2_1_accuracy: 0.9999 - dense_2_2_accuracy: 0.9996 - dense_2_3_accuracy: 0.9977 - dense_2_4_accuracy: 1.0000 - dense_2_5_accuracy: 0.9993 - dense_2_6_accuracy: 0.9997 - dense_2_7_accuracy: 1.0000 - dense_2_8_accuracy: 0.9998 - dense_2_9_accuracy: 1.0000\n",
            "Epoch 48/200\n",
            "100/100 [==============================] - 9s 87ms/step - loss: 0.0591 - dense_2_loss: 0.0026 - dense_2_1_loss: 0.0019 - dense_2_2_loss: 0.0056 - dense_2_3_loss: 0.0224 - dense_2_4_loss: 2.2103e-04 - dense_2_5_loss: 0.0043 - dense_2_6_loss: 0.0097 - dense_2_7_loss: 6.1649e-04 - dense_2_8_loss: 0.0072 - dense_2_9_loss: 0.0045 - dense_2_accuracy: 0.9999 - dense_2_1_accuracy: 0.9999 - dense_2_2_accuracy: 0.9996 - dense_2_3_accuracy: 0.9977 - dense_2_4_accuracy: 1.0000 - dense_2_5_accuracy: 0.9993 - dense_2_6_accuracy: 0.9997 - dense_2_7_accuracy: 1.0000 - dense_2_8_accuracy: 0.9998 - dense_2_9_accuracy: 1.0000\n",
            "Epoch 49/200\n",
            "100/100 [==============================] - 9s 85ms/step - loss: 0.0574 - dense_2_loss: 0.0025 - dense_2_1_loss: 0.0019 - dense_2_2_loss: 0.0055 - dense_2_3_loss: 0.0223 - dense_2_4_loss: 2.1201e-04 - dense_2_5_loss: 0.0041 - dense_2_6_loss: 0.0093 - dense_2_7_loss: 6.0918e-04 - dense_2_8_loss: 0.0068 - dense_2_9_loss: 0.0043 - dense_2_accuracy: 0.9999 - dense_2_1_accuracy: 0.9999 - dense_2_2_accuracy: 0.9996 - dense_2_3_accuracy: 0.9977 - dense_2_4_accuracy: 1.0000 - dense_2_5_accuracy: 0.9995 - dense_2_6_accuracy: 0.9997 - dense_2_7_accuracy: 1.0000 - dense_2_8_accuracy: 0.9998 - dense_2_9_accuracy: 1.0000\n",
            "Epoch 50/200\n",
            "100/100 [==============================] - 8s 85ms/step - loss: 0.0556 - dense_2_loss: 0.0024 - dense_2_1_loss: 0.0019 - dense_2_2_loss: 0.0053 - dense_2_3_loss: 0.0220 - dense_2_4_loss: 2.0898e-04 - dense_2_5_loss: 0.0039 - dense_2_6_loss: 0.0088 - dense_2_7_loss: 5.7825e-04 - dense_2_8_loss: 0.0064 - dense_2_9_loss: 0.0041 - dense_2_accuracy: 0.9999 - dense_2_1_accuracy: 0.9999 - dense_2_2_accuracy: 0.9996 - dense_2_3_accuracy: 0.9977 - dense_2_4_accuracy: 1.0000 - dense_2_5_accuracy: 0.9996 - dense_2_6_accuracy: 0.9998 - dense_2_7_accuracy: 1.0000 - dense_2_8_accuracy: 0.9999 - dense_2_9_accuracy: 1.0000\n",
            "Epoch 51/200\n",
            "100/100 [==============================] - 8s 84ms/step - loss: 0.0541 - dense_2_loss: 0.0024 - dense_2_1_loss: 0.0018 - dense_2_2_loss: 0.0053 - dense_2_3_loss: 0.0218 - dense_2_4_loss: 1.9926e-04 - dense_2_5_loss: 0.0037 - dense_2_6_loss: 0.0084 - dense_2_7_loss: 5.6497e-04 - dense_2_8_loss: 0.0061 - dense_2_9_loss: 0.0039 - dense_2_accuracy: 0.9999 - dense_2_1_accuracy: 0.9999 - dense_2_2_accuracy: 0.9996 - dense_2_3_accuracy: 0.9977 - dense_2_4_accuracy: 1.0000 - dense_2_5_accuracy: 0.9995 - dense_2_6_accuracy: 0.9998 - dense_2_7_accuracy: 1.0000 - dense_2_8_accuracy: 0.9998 - dense_2_9_accuracy: 1.0000\n",
            "Epoch 52/200\n",
            "100/100 [==============================] - 8s 84ms/step - loss: 0.0527 - dense_2_loss: 0.0023 - dense_2_1_loss: 0.0018 - dense_2_2_loss: 0.0052 - dense_2_3_loss: 0.0216 - dense_2_4_loss: 1.9094e-04 - dense_2_5_loss: 0.0036 - dense_2_6_loss: 0.0080 - dense_2_7_loss: 5.4447e-04 - dense_2_8_loss: 0.0058 - dense_2_9_loss: 0.0037 - dense_2_accuracy: 0.9999 - dense_2_1_accuracy: 0.9999 - dense_2_2_accuracy: 0.9997 - dense_2_3_accuracy: 0.9977 - dense_2_4_accuracy: 1.0000 - dense_2_5_accuracy: 0.9996 - dense_2_6_accuracy: 0.9999 - dense_2_7_accuracy: 1.0000 - dense_2_8_accuracy: 0.9999 - dense_2_9_accuracy: 1.0000\n",
            "Epoch 53/200\n",
            "100/100 [==============================] - 8s 84ms/step - loss: 0.0512 - dense_2_loss: 0.0023 - dense_2_1_loss: 0.0018 - dense_2_2_loss: 0.0051 - dense_2_3_loss: 0.0213 - dense_2_4_loss: 1.8626e-04 - dense_2_5_loss: 0.0035 - dense_2_6_loss: 0.0076 - dense_2_7_loss: 5.2574e-04 - dense_2_8_loss: 0.0055 - dense_2_9_loss: 0.0035 - dense_2_accuracy: 0.9999 - dense_2_1_accuracy: 0.9999 - dense_2_2_accuracy: 0.9997 - dense_2_3_accuracy: 0.9977 - dense_2_4_accuracy: 1.0000 - dense_2_5_accuracy: 0.9995 - dense_2_6_accuracy: 0.9999 - dense_2_7_accuracy: 1.0000 - dense_2_8_accuracy: 0.9999 - dense_2_9_accuracy: 1.0000\n",
            "Epoch 54/200\n",
            "100/100 [==============================] - 8s 85ms/step - loss: 0.0501 - dense_2_loss: 0.0022 - dense_2_1_loss: 0.0018 - dense_2_2_loss: 0.0050 - dense_2_3_loss: 0.0212 - dense_2_4_loss: 1.8365e-04 - dense_2_5_loss: 0.0033 - dense_2_6_loss: 0.0072 - dense_2_7_loss: 5.0613e-04 - dense_2_8_loss: 0.0053 - dense_2_9_loss: 0.0034 - dense_2_accuracy: 0.9999 - dense_2_1_accuracy: 0.9999 - dense_2_2_accuracy: 0.9997 - dense_2_3_accuracy: 0.9977 - dense_2_4_accuracy: 1.0000 - dense_2_5_accuracy: 0.9996 - dense_2_6_accuracy: 0.9998 - dense_2_7_accuracy: 1.0000 - dense_2_8_accuracy: 0.9999 - dense_2_9_accuracy: 1.0000\n",
            "Epoch 55/200\n",
            "100/100 [==============================] - 9s 85ms/step - loss: 0.0484 - dense_2_loss: 0.0022 - dense_2_1_loss: 0.0017 - dense_2_2_loss: 0.0049 - dense_2_3_loss: 0.0209 - dense_2_4_loss: 1.7438e-04 - dense_2_5_loss: 0.0030 - dense_2_6_loss: 0.0068 - dense_2_7_loss: 5.0082e-04 - dense_2_8_loss: 0.0049 - dense_2_9_loss: 0.0033 - dense_2_accuracy: 0.9999 - dense_2_1_accuracy: 0.9999 - dense_2_2_accuracy: 0.9996 - dense_2_3_accuracy: 0.9977 - dense_2_4_accuracy: 1.0000 - dense_2_5_accuracy: 0.9997 - dense_2_6_accuracy: 0.9999 - dense_2_7_accuracy: 1.0000 - dense_2_8_accuracy: 0.9999 - dense_2_9_accuracy: 1.0000\n",
            "Epoch 56/200\n",
            "100/100 [==============================] - 8s 84ms/step - loss: 0.0472 - dense_2_loss: 0.0021 - dense_2_1_loss: 0.0017 - dense_2_2_loss: 0.0048 - dense_2_3_loss: 0.0207 - dense_2_4_loss: 1.7175e-04 - dense_2_5_loss: 0.0029 - dense_2_6_loss: 0.0065 - dense_2_7_loss: 4.8249e-04 - dense_2_8_loss: 0.0047 - dense_2_9_loss: 0.0031 - dense_2_accuracy: 0.9999 - dense_2_1_accuracy: 0.9999 - dense_2_2_accuracy: 0.9997 - dense_2_3_accuracy: 0.9977 - dense_2_4_accuracy: 1.0000 - dense_2_5_accuracy: 0.9997 - dense_2_6_accuracy: 0.9999 - dense_2_7_accuracy: 1.0000 - dense_2_8_accuracy: 1.0000 - dense_2_9_accuracy: 1.0000\n",
            "Epoch 57/200\n",
            "100/100 [==============================] - 8s 85ms/step - loss: 0.0462 - dense_2_loss: 0.0021 - dense_2_1_loss: 0.0017 - dense_2_2_loss: 0.0047 - dense_2_3_loss: 0.0205 - dense_2_4_loss: 1.6389e-04 - dense_2_5_loss: 0.0028 - dense_2_6_loss: 0.0062 - dense_2_7_loss: 4.6073e-04 - dense_2_8_loss: 0.0045 - dense_2_9_loss: 0.0030 - dense_2_accuracy: 0.9999 - dense_2_1_accuracy: 0.9999 - dense_2_2_accuracy: 0.9997 - dense_2_3_accuracy: 0.9977 - dense_2_4_accuracy: 1.0000 - dense_2_5_accuracy: 0.9998 - dense_2_6_accuracy: 0.9999 - dense_2_7_accuracy: 1.0000 - dense_2_8_accuracy: 1.0000 - dense_2_9_accuracy: 1.0000\n",
            "Epoch 58/200\n",
            "100/100 [==============================] - 8s 84ms/step - loss: 0.0453 - dense_2_loss: 0.0020 - dense_2_1_loss: 0.0016 - dense_2_2_loss: 0.0047 - dense_2_3_loss: 0.0203 - dense_2_4_loss: 1.6017e-04 - dense_2_5_loss: 0.0028 - dense_2_6_loss: 0.0060 - dense_2_7_loss: 4.4702e-04 - dense_2_8_loss: 0.0044 - dense_2_9_loss: 0.0029 - dense_2_accuracy: 0.9999 - dense_2_1_accuracy: 0.9999 - dense_2_2_accuracy: 0.9997 - dense_2_3_accuracy: 0.9977 - dense_2_4_accuracy: 1.0000 - dense_2_5_accuracy: 0.9996 - dense_2_6_accuracy: 0.9999 - dense_2_7_accuracy: 1.0000 - dense_2_8_accuracy: 1.0000 - dense_2_9_accuracy: 1.0000\n",
            "Epoch 59/200\n",
            "100/100 [==============================] - 8s 83ms/step - loss: 0.0440 - dense_2_loss: 0.0020 - dense_2_1_loss: 0.0016 - dense_2_2_loss: 0.0046 - dense_2_3_loss: 0.0201 - dense_2_4_loss: 1.5942e-04 - dense_2_5_loss: 0.0025 - dense_2_6_loss: 0.0057 - dense_2_7_loss: 4.3486e-04 - dense_2_8_loss: 0.0041 - dense_2_9_loss: 0.0028 - dense_2_accuracy: 0.9999 - dense_2_1_accuracy: 0.9999 - dense_2_2_accuracy: 0.9997 - dense_2_3_accuracy: 0.9977 - dense_2_4_accuracy: 1.0000 - dense_2_5_accuracy: 0.9998 - dense_2_6_accuracy: 1.0000 - dense_2_7_accuracy: 1.0000 - dense_2_8_accuracy: 1.0000 - dense_2_9_accuracy: 1.0000\n",
            "Epoch 60/200\n",
            "100/100 [==============================] - 8s 85ms/step - loss: 0.0431 - dense_2_loss: 0.0020 - dense_2_1_loss: 0.0016 - dense_2_2_loss: 0.0045 - dense_2_3_loss: 0.0200 - dense_2_4_loss: 1.5278e-04 - dense_2_5_loss: 0.0024 - dense_2_6_loss: 0.0055 - dense_2_7_loss: 4.1969e-04 - dense_2_8_loss: 0.0039 - dense_2_9_loss: 0.0027 - dense_2_accuracy: 0.9999 - dense_2_1_accuracy: 0.9999 - dense_2_2_accuracy: 0.9997 - dense_2_3_accuracy: 0.9977 - dense_2_4_accuracy: 1.0000 - dense_2_5_accuracy: 0.9998 - dense_2_6_accuracy: 0.9999 - dense_2_7_accuracy: 1.0000 - dense_2_8_accuracy: 1.0000 - dense_2_9_accuracy: 1.0000\n",
            "Epoch 61/200\n",
            "100/100 [==============================] - 8s 84ms/step - loss: 0.0421 - dense_2_loss: 0.0019 - dense_2_1_loss: 0.0016 - dense_2_2_loss: 0.0044 - dense_2_3_loss: 0.0197 - dense_2_4_loss: 1.4945e-04 - dense_2_5_loss: 0.0023 - dense_2_6_loss: 0.0053 - dense_2_7_loss: 4.0460e-04 - dense_2_8_loss: 0.0037 - dense_2_9_loss: 0.0026 - dense_2_accuracy: 0.9999 - dense_2_1_accuracy: 0.9999 - dense_2_2_accuracy: 0.9997 - dense_2_3_accuracy: 0.9977 - dense_2_4_accuracy: 1.0000 - dense_2_5_accuracy: 0.9999 - dense_2_6_accuracy: 1.0000 - dense_2_7_accuracy: 1.0000 - dense_2_8_accuracy: 1.0000 - dense_2_9_accuracy: 1.0000\n",
            "Epoch 62/200\n",
            "100/100 [==============================] - 8s 83ms/step - loss: 0.0414 - dense_2_loss: 0.0019 - dense_2_1_loss: 0.0016 - dense_2_2_loss: 0.0044 - dense_2_3_loss: 0.0196 - dense_2_4_loss: 1.4272e-04 - dense_2_5_loss: 0.0022 - dense_2_6_loss: 0.0051 - dense_2_7_loss: 3.9916e-04 - dense_2_8_loss: 0.0036 - dense_2_9_loss: 0.0025 - dense_2_accuracy: 0.9999 - dense_2_1_accuracy: 0.9999 - dense_2_2_accuracy: 0.9997 - dense_2_3_accuracy: 0.9977 - dense_2_4_accuracy: 1.0000 - dense_2_5_accuracy: 0.9998 - dense_2_6_accuracy: 0.9999 - dense_2_7_accuracy: 1.0000 - dense_2_8_accuracy: 1.0000 - dense_2_9_accuracy: 1.0000\n",
            "Epoch 63/200\n",
            "100/100 [==============================] - 8s 85ms/step - loss: 0.0404 - dense_2_loss: 0.0019 - dense_2_1_loss: 0.0015 - dense_2_2_loss: 0.0043 - dense_2_3_loss: 0.0194 - dense_2_4_loss: 1.4177e-04 - dense_2_5_loss: 0.0022 - dense_2_6_loss: 0.0048 - dense_2_7_loss: 3.8721e-04 - dense_2_8_loss: 0.0035 - dense_2_9_loss: 0.0024 - dense_2_accuracy: 0.9999 - dense_2_1_accuracy: 0.9999 - dense_2_2_accuracy: 0.9997 - dense_2_3_accuracy: 0.9977 - dense_2_4_accuracy: 1.0000 - dense_2_5_accuracy: 0.9999 - dense_2_6_accuracy: 1.0000 - dense_2_7_accuracy: 1.0000 - dense_2_8_accuracy: 1.0000 - dense_2_9_accuracy: 1.0000\n",
            "Epoch 64/200\n",
            "100/100 [==============================] - 9s 86ms/step - loss: 0.0396 - dense_2_loss: 0.0018 - dense_2_1_loss: 0.0015 - dense_2_2_loss: 0.0043 - dense_2_3_loss: 0.0191 - dense_2_4_loss: 1.3657e-04 - dense_2_5_loss: 0.0021 - dense_2_6_loss: 0.0047 - dense_2_7_loss: 3.6657e-04 - dense_2_8_loss: 0.0033 - dense_2_9_loss: 0.0023 - dense_2_accuracy: 0.9999 - dense_2_1_accuracy: 0.9999 - dense_2_2_accuracy: 0.9997 - dense_2_3_accuracy: 0.9977 - dense_2_4_accuracy: 1.0000 - dense_2_5_accuracy: 0.9999 - dense_2_6_accuracy: 1.0000 - dense_2_7_accuracy: 1.0000 - dense_2_8_accuracy: 1.0000 - dense_2_9_accuracy: 1.0000\n",
            "Epoch 65/200\n",
            "100/100 [==============================] - 8s 85ms/step - loss: 0.0388 - dense_2_loss: 0.0018 - dense_2_1_loss: 0.0015 - dense_2_2_loss: 0.0042 - dense_2_3_loss: 0.0190 - dense_2_4_loss: 1.3498e-04 - dense_2_5_loss: 0.0020 - dense_2_6_loss: 0.0045 - dense_2_7_loss: 3.6320e-04 - dense_2_8_loss: 0.0031 - dense_2_9_loss: 0.0022 - dense_2_accuracy: 0.9999 - dense_2_1_accuracy: 0.9999 - dense_2_2_accuracy: 0.9997 - dense_2_3_accuracy: 0.9977 - dense_2_4_accuracy: 1.0000 - dense_2_5_accuracy: 1.0000 - dense_2_6_accuracy: 1.0000 - dense_2_7_accuracy: 1.0000 - dense_2_8_accuracy: 1.0000 - dense_2_9_accuracy: 1.0000\n",
            "Epoch 66/200\n",
            "100/100 [==============================] - 9s 86ms/step - loss: 0.0380 - dense_2_loss: 0.0018 - dense_2_1_loss: 0.0015 - dense_2_2_loss: 0.0042 - dense_2_3_loss: 0.0187 - dense_2_4_loss: 1.3361e-04 - dense_2_5_loss: 0.0019 - dense_2_6_loss: 0.0043 - dense_2_7_loss: 3.5500e-04 - dense_2_8_loss: 0.0030 - dense_2_9_loss: 0.0021 - dense_2_accuracy: 0.9999 - dense_2_1_accuracy: 0.9999 - dense_2_2_accuracy: 0.9997 - dense_2_3_accuracy: 0.9977 - dense_2_4_accuracy: 1.0000 - dense_2_5_accuracy: 0.9999 - dense_2_6_accuracy: 1.0000 - dense_2_7_accuracy: 1.0000 - dense_2_8_accuracy: 1.0000 - dense_2_9_accuracy: 1.0000\n",
            "Epoch 67/200\n",
            "100/100 [==============================] - 9s 87ms/step - loss: 0.0374 - dense_2_loss: 0.0018 - dense_2_1_loss: 0.0015 - dense_2_2_loss: 0.0041 - dense_2_3_loss: 0.0187 - dense_2_4_loss: 1.2545e-04 - dense_2_5_loss: 0.0018 - dense_2_6_loss: 0.0041 - dense_2_7_loss: 3.3981e-04 - dense_2_8_loss: 0.0030 - dense_2_9_loss: 0.0021 - dense_2_accuracy: 0.9999 - dense_2_1_accuracy: 0.9999 - dense_2_2_accuracy: 0.9997 - dense_2_3_accuracy: 0.9977 - dense_2_4_accuracy: 1.0000 - dense_2_5_accuracy: 1.0000 - dense_2_6_accuracy: 1.0000 - dense_2_7_accuracy: 1.0000 - dense_2_8_accuracy: 1.0000 - dense_2_9_accuracy: 1.0000\n",
            "Epoch 68/200\n",
            "100/100 [==============================] - 9s 85ms/step - loss: 0.0366 - dense_2_loss: 0.0017 - dense_2_1_loss: 0.0014 - dense_2_2_loss: 0.0041 - dense_2_3_loss: 0.0184 - dense_2_4_loss: 1.2151e-04 - dense_2_5_loss: 0.0017 - dense_2_6_loss: 0.0040 - dense_2_7_loss: 3.2667e-04 - dense_2_8_loss: 0.0028 - dense_2_9_loss: 0.0020 - dense_2_accuracy: 0.9999 - dense_2_1_accuracy: 0.9999 - dense_2_2_accuracy: 0.9997 - dense_2_3_accuracy: 0.9977 - dense_2_4_accuracy: 1.0000 - dense_2_5_accuracy: 1.0000 - dense_2_6_accuracy: 1.0000 - dense_2_7_accuracy: 1.0000 - dense_2_8_accuracy: 1.0000 - dense_2_9_accuracy: 1.0000\n",
            "Epoch 69/200\n",
            "100/100 [==============================] - 8s 84ms/step - loss: 0.0361 - dense_2_loss: 0.0017 - dense_2_1_loss: 0.0014 - dense_2_2_loss: 0.0040 - dense_2_3_loss: 0.0183 - dense_2_4_loss: 1.2014e-04 - dense_2_5_loss: 0.0017 - dense_2_6_loss: 0.0038 - dense_2_7_loss: 3.1884e-04 - dense_2_8_loss: 0.0027 - dense_2_9_loss: 0.0019 - dense_2_accuracy: 0.9999 - dense_2_1_accuracy: 0.9999 - dense_2_2_accuracy: 0.9997 - dense_2_3_accuracy: 0.9977 - dense_2_4_accuracy: 1.0000 - dense_2_5_accuracy: 1.0000 - dense_2_6_accuracy: 1.0000 - dense_2_7_accuracy: 1.0000 - dense_2_8_accuracy: 1.0000 - dense_2_9_accuracy: 1.0000\n",
            "Epoch 70/200\n",
            "100/100 [==============================] - 8s 84ms/step - loss: 0.0353 - dense_2_loss: 0.0017 - dense_2_1_loss: 0.0014 - dense_2_2_loss: 0.0039 - dense_2_3_loss: 0.0181 - dense_2_4_loss: 1.1951e-04 - dense_2_5_loss: 0.0016 - dense_2_6_loss: 0.0037 - dense_2_7_loss: 3.1528e-04 - dense_2_8_loss: 0.0026 - dense_2_9_loss: 0.0019 - dense_2_accuracy: 0.9999 - dense_2_1_accuracy: 0.9999 - dense_2_2_accuracy: 0.9997 - dense_2_3_accuracy: 0.9978 - dense_2_4_accuracy: 1.0000 - dense_2_5_accuracy: 1.0000 - dense_2_6_accuracy: 1.0000 - dense_2_7_accuracy: 1.0000 - dense_2_8_accuracy: 1.0000 - dense_2_9_accuracy: 1.0000\n",
            "Epoch 71/200\n",
            "100/100 [==============================] - 8s 84ms/step - loss: 0.0348 - dense_2_loss: 0.0017 - dense_2_1_loss: 0.0014 - dense_2_2_loss: 0.0039 - dense_2_3_loss: 0.0180 - dense_2_4_loss: 1.1543e-04 - dense_2_5_loss: 0.0015 - dense_2_6_loss: 0.0036 - dense_2_7_loss: 3.0438e-04 - dense_2_8_loss: 0.0024 - dense_2_9_loss: 0.0018 - dense_2_accuracy: 0.9999 - dense_2_1_accuracy: 0.9999 - dense_2_2_accuracy: 0.9997 - dense_2_3_accuracy: 0.9977 - dense_2_4_accuracy: 1.0000 - dense_2_5_accuracy: 0.9999 - dense_2_6_accuracy: 1.0000 - dense_2_7_accuracy: 1.0000 - dense_2_8_accuracy: 1.0000 - dense_2_9_accuracy: 1.0000\n",
            "Epoch 72/200\n",
            "100/100 [==============================] - 9s 86ms/step - loss: 0.0342 - dense_2_loss: 0.0016 - dense_2_1_loss: 0.0014 - dense_2_2_loss: 0.0039 - dense_2_3_loss: 0.0179 - dense_2_4_loss: 1.1597e-04 - dense_2_5_loss: 0.0015 - dense_2_6_loss: 0.0034 - dense_2_7_loss: 2.9496e-04 - dense_2_8_loss: 0.0024 - dense_2_9_loss: 0.0017 - dense_2_accuracy: 0.9999 - dense_2_1_accuracy: 0.9999 - dense_2_2_accuracy: 0.9997 - dense_2_3_accuracy: 0.9977 - dense_2_4_accuracy: 1.0000 - dense_2_5_accuracy: 1.0000 - dense_2_6_accuracy: 1.0000 - dense_2_7_accuracy: 1.0000 - dense_2_8_accuracy: 1.0000 - dense_2_9_accuracy: 1.0000\n",
            "Epoch 73/200\n",
            "100/100 [==============================] - 8s 83ms/step - loss: 0.0337 - dense_2_loss: 0.0016 - dense_2_1_loss: 0.0014 - dense_2_2_loss: 0.0038 - dense_2_3_loss: 0.0177 - dense_2_4_loss: 1.1175e-04 - dense_2_5_loss: 0.0015 - dense_2_6_loss: 0.0033 - dense_2_7_loss: 2.8690e-04 - dense_2_8_loss: 0.0023 - dense_2_9_loss: 0.0017 - dense_2_accuracy: 0.9999 - dense_2_1_accuracy: 0.9999 - dense_2_2_accuracy: 0.9997 - dense_2_3_accuracy: 0.9977 - dense_2_4_accuracy: 1.0000 - dense_2_5_accuracy: 1.0000 - dense_2_6_accuracy: 1.0000 - dense_2_7_accuracy: 1.0000 - dense_2_8_accuracy: 1.0000 - dense_2_9_accuracy: 1.0000\n",
            "Epoch 74/200\n",
            "100/100 [==============================] - 8s 84ms/step - loss: 0.0331 - dense_2_loss: 0.0016 - dense_2_1_loss: 0.0013 - dense_2_2_loss: 0.0038 - dense_2_3_loss: 0.0175 - dense_2_4_loss: 1.1073e-04 - dense_2_5_loss: 0.0014 - dense_2_6_loss: 0.0032 - dense_2_7_loss: 2.7757e-04 - dense_2_8_loss: 0.0022 - dense_2_9_loss: 0.0016 - dense_2_accuracy: 0.9999 - dense_2_1_accuracy: 0.9999 - dense_2_2_accuracy: 0.9997 - dense_2_3_accuracy: 0.9977 - dense_2_4_accuracy: 1.0000 - dense_2_5_accuracy: 1.0000 - dense_2_6_accuracy: 1.0000 - dense_2_7_accuracy: 1.0000 - dense_2_8_accuracy: 1.0000 - dense_2_9_accuracy: 1.0000\n",
            "Epoch 75/200\n",
            "100/100 [==============================] - 9s 85ms/step - loss: 0.0325 - dense_2_loss: 0.0016 - dense_2_1_loss: 0.0013 - dense_2_2_loss: 0.0037 - dense_2_3_loss: 0.0173 - dense_2_4_loss: 1.0550e-04 - dense_2_5_loss: 0.0013 - dense_2_6_loss: 0.0031 - dense_2_7_loss: 2.7034e-04 - dense_2_8_loss: 0.0021 - dense_2_9_loss: 0.0016 - dense_2_accuracy: 0.9999 - dense_2_1_accuracy: 0.9999 - dense_2_2_accuracy: 0.9997 - dense_2_3_accuracy: 0.9977 - dense_2_4_accuracy: 1.0000 - dense_2_5_accuracy: 1.0000 - dense_2_6_accuracy: 1.0000 - dense_2_7_accuracy: 1.0000 - dense_2_8_accuracy: 1.0000 - dense_2_9_accuracy: 1.0000\n",
            "Epoch 76/200\n",
            "100/100 [==============================] - 8s 83ms/step - loss: 0.0321 - dense_2_loss: 0.0016 - dense_2_1_loss: 0.0013 - dense_2_2_loss: 0.0037 - dense_2_3_loss: 0.0173 - dense_2_4_loss: 9.9646e-05 - dense_2_5_loss: 0.0013 - dense_2_6_loss: 0.0030 - dense_2_7_loss: 2.6198e-04 - dense_2_8_loss: 0.0020 - dense_2_9_loss: 0.0015 - dense_2_accuracy: 0.9999 - dense_2_1_accuracy: 0.9999 - dense_2_2_accuracy: 0.9997 - dense_2_3_accuracy: 0.9977 - dense_2_4_accuracy: 1.0000 - dense_2_5_accuracy: 1.0000 - dense_2_6_accuracy: 1.0000 - dense_2_7_accuracy: 1.0000 - dense_2_8_accuracy: 1.0000 - dense_2_9_accuracy: 1.0000\n",
            "Epoch 77/200\n",
            "100/100 [==============================] - 9s 85ms/step - loss: 0.0316 - dense_2_loss: 0.0015 - dense_2_1_loss: 0.0013 - dense_2_2_loss: 0.0037 - dense_2_3_loss: 0.0171 - dense_2_4_loss: 1.0320e-04 - dense_2_5_loss: 0.0013 - dense_2_6_loss: 0.0029 - dense_2_7_loss: 2.5276e-04 - dense_2_8_loss: 0.0020 - dense_2_9_loss: 0.0015 - dense_2_accuracy: 0.9999 - dense_2_1_accuracy: 0.9999 - dense_2_2_accuracy: 0.9997 - dense_2_3_accuracy: 0.9978 - dense_2_4_accuracy: 1.0000 - dense_2_5_accuracy: 1.0000 - dense_2_6_accuracy: 1.0000 - dense_2_7_accuracy: 1.0000 - dense_2_8_accuracy: 1.0000 - dense_2_9_accuracy: 1.0000\n",
            "Epoch 78/200\n",
            "100/100 [==============================] - 8s 82ms/step - loss: 0.0310 - dense_2_loss: 0.0015 - dense_2_1_loss: 0.0013 - dense_2_2_loss: 0.0037 - dense_2_3_loss: 0.0169 - dense_2_4_loss: 9.6859e-05 - dense_2_5_loss: 0.0012 - dense_2_6_loss: 0.0028 - dense_2_7_loss: 2.4502e-04 - dense_2_8_loss: 0.0019 - dense_2_9_loss: 0.0015 - dense_2_accuracy: 0.9999 - dense_2_1_accuracy: 0.9999 - dense_2_2_accuracy: 0.9997 - dense_2_3_accuracy: 0.9977 - dense_2_4_accuracy: 1.0000 - dense_2_5_accuracy: 1.0000 - dense_2_6_accuracy: 1.0000 - dense_2_7_accuracy: 1.0000 - dense_2_8_accuracy: 1.0000 - dense_2_9_accuracy: 1.0000\n",
            "Epoch 79/200\n",
            "100/100 [==============================] - 8s 85ms/step - loss: 0.0307 - dense_2_loss: 0.0015 - dense_2_1_loss: 0.0013 - dense_2_2_loss: 0.0036 - dense_2_3_loss: 0.0168 - dense_2_4_loss: 9.9155e-05 - dense_2_5_loss: 0.0012 - dense_2_6_loss: 0.0027 - dense_2_7_loss: 2.4070e-04 - dense_2_8_loss: 0.0019 - dense_2_9_loss: 0.0014 - dense_2_accuracy: 0.9999 - dense_2_1_accuracy: 0.9999 - dense_2_2_accuracy: 0.9997 - dense_2_3_accuracy: 0.9977 - dense_2_4_accuracy: 1.0000 - dense_2_5_accuracy: 1.0000 - dense_2_6_accuracy: 1.0000 - dense_2_7_accuracy: 1.0000 - dense_2_8_accuracy: 1.0000 - dense_2_9_accuracy: 1.0000\n",
            "Epoch 80/200\n",
            "100/100 [==============================] - 9s 87ms/step - loss: 0.0302 - dense_2_loss: 0.0015 - dense_2_1_loss: 0.0012 - dense_2_2_loss: 0.0036 - dense_2_3_loss: 0.0167 - dense_2_4_loss: 9.2903e-05 - dense_2_5_loss: 0.0011 - dense_2_6_loss: 0.0026 - dense_2_7_loss: 2.3317e-04 - dense_2_8_loss: 0.0018 - dense_2_9_loss: 0.0014 - dense_2_accuracy: 0.9999 - dense_2_1_accuracy: 0.9999 - dense_2_2_accuracy: 0.9997 - dense_2_3_accuracy: 0.9977 - dense_2_4_accuracy: 1.0000 - dense_2_5_accuracy: 1.0000 - dense_2_6_accuracy: 1.0000 - dense_2_7_accuracy: 1.0000 - dense_2_8_accuracy: 1.0000 - dense_2_9_accuracy: 1.0000\n",
            "Epoch 81/200\n",
            "100/100 [==============================] - 9s 87ms/step - loss: 0.0297 - dense_2_loss: 0.0015 - dense_2_1_loss: 0.0012 - dense_2_2_loss: 0.0035 - dense_2_3_loss: 0.0165 - dense_2_4_loss: 9.2774e-05 - dense_2_5_loss: 0.0011 - dense_2_6_loss: 0.0025 - dense_2_7_loss: 2.2470e-04 - dense_2_8_loss: 0.0017 - dense_2_9_loss: 0.0013 - dense_2_accuracy: 0.9999 - dense_2_1_accuracy: 0.9999 - dense_2_2_accuracy: 0.9997 - dense_2_3_accuracy: 0.9978 - dense_2_4_accuracy: 1.0000 - dense_2_5_accuracy: 1.0000 - dense_2_6_accuracy: 1.0000 - dense_2_7_accuracy: 1.0000 - dense_2_8_accuracy: 1.0000 - dense_2_9_accuracy: 1.0000\n",
            "Epoch 82/200\n",
            "100/100 [==============================] - 8s 81ms/step - loss: 0.0293 - dense_2_loss: 0.0015 - dense_2_1_loss: 0.0012 - dense_2_2_loss: 0.0035 - dense_2_3_loss: 0.0164 - dense_2_4_loss: 9.1687e-05 - dense_2_5_loss: 0.0011 - dense_2_6_loss: 0.0025 - dense_2_7_loss: 2.2338e-04 - dense_2_8_loss: 0.0017 - dense_2_9_loss: 0.0013 - dense_2_accuracy: 0.9999 - dense_2_1_accuracy: 0.9999 - dense_2_2_accuracy: 0.9997 - dense_2_3_accuracy: 0.9977 - dense_2_4_accuracy: 1.0000 - dense_2_5_accuracy: 1.0000 - dense_2_6_accuracy: 1.0000 - dense_2_7_accuracy: 1.0000 - dense_2_8_accuracy: 1.0000 - dense_2_9_accuracy: 1.0000\n",
            "Epoch 83/200\n",
            "100/100 [==============================] - 8s 83ms/step - loss: 0.0289 - dense_2_loss: 0.0014 - dense_2_1_loss: 0.0012 - dense_2_2_loss: 0.0035 - dense_2_3_loss: 0.0162 - dense_2_4_loss: 9.2363e-05 - dense_2_5_loss: 0.0010 - dense_2_6_loss: 0.0024 - dense_2_7_loss: 2.1566e-04 - dense_2_8_loss: 0.0016 - dense_2_9_loss: 0.0013 - dense_2_accuracy: 0.9999 - dense_2_1_accuracy: 0.9999 - dense_2_2_accuracy: 0.9997 - dense_2_3_accuracy: 0.9977 - dense_2_4_accuracy: 1.0000 - dense_2_5_accuracy: 1.0000 - dense_2_6_accuracy: 1.0000 - dense_2_7_accuracy: 1.0000 - dense_2_8_accuracy: 1.0000 - dense_2_9_accuracy: 1.0000\n",
            "Epoch 84/200\n",
            "100/100 [==============================] - 8s 83ms/step - loss: 0.0286 - dense_2_loss: 0.0014 - dense_2_1_loss: 0.0012 - dense_2_2_loss: 0.0034 - dense_2_3_loss: 0.0161 - dense_2_4_loss: 8.8024e-05 - dense_2_5_loss: 9.8838e-04 - dense_2_6_loss: 0.0023 - dense_2_7_loss: 2.0751e-04 - dense_2_8_loss: 0.0016 - dense_2_9_loss: 0.0012 - dense_2_accuracy: 0.9999 - dense_2_1_accuracy: 0.9999 - dense_2_2_accuracy: 0.9997 - dense_2_3_accuracy: 0.9977 - dense_2_4_accuracy: 1.0000 - dense_2_5_accuracy: 1.0000 - dense_2_6_accuracy: 1.0000 - dense_2_7_accuracy: 1.0000 - dense_2_8_accuracy: 1.0000 - dense_2_9_accuracy: 1.0000\n",
            "Epoch 85/200\n",
            "100/100 [==============================] - 8s 83ms/step - loss: 0.0283 - dense_2_loss: 0.0014 - dense_2_1_loss: 0.0012 - dense_2_2_loss: 0.0034 - dense_2_3_loss: 0.0160 - dense_2_4_loss: 8.7100e-05 - dense_2_5_loss: 9.6057e-04 - dense_2_6_loss: 0.0023 - dense_2_7_loss: 2.0494e-04 - dense_2_8_loss: 0.0015 - dense_2_9_loss: 0.0012 - dense_2_accuracy: 0.9999 - dense_2_1_accuracy: 0.9999 - dense_2_2_accuracy: 0.9997 - dense_2_3_accuracy: 0.9977 - dense_2_4_accuracy: 1.0000 - dense_2_5_accuracy: 1.0000 - dense_2_6_accuracy: 1.0000 - dense_2_7_accuracy: 1.0000 - dense_2_8_accuracy: 1.0000 - dense_2_9_accuracy: 1.0000\n",
            "Epoch 86/200\n",
            "100/100 [==============================] - 8s 84ms/step - loss: 0.0279 - dense_2_loss: 0.0014 - dense_2_1_loss: 0.0012 - dense_2_2_loss: 0.0034 - dense_2_3_loss: 0.0160 - dense_2_4_loss: 8.3219e-05 - dense_2_5_loss: 9.0661e-04 - dense_2_6_loss: 0.0022 - dense_2_7_loss: 1.9766e-04 - dense_2_8_loss: 0.0015 - dense_2_9_loss: 0.0012 - dense_2_accuracy: 0.9999 - dense_2_1_accuracy: 0.9999 - dense_2_2_accuracy: 0.9997 - dense_2_3_accuracy: 0.9978 - dense_2_4_accuracy: 1.0000 - dense_2_5_accuracy: 1.0000 - dense_2_6_accuracy: 1.0000 - dense_2_7_accuracy: 1.0000 - dense_2_8_accuracy: 1.0000 - dense_2_9_accuracy: 1.0000\n",
            "Epoch 87/200\n",
            "100/100 [==============================] - 8s 84ms/step - loss: 0.0276 - dense_2_loss: 0.0014 - dense_2_1_loss: 0.0011 - dense_2_2_loss: 0.0034 - dense_2_3_loss: 0.0158 - dense_2_4_loss: 8.5084e-05 - dense_2_5_loss: 9.1877e-04 - dense_2_6_loss: 0.0021 - dense_2_7_loss: 1.9206e-04 - dense_2_8_loss: 0.0014 - dense_2_9_loss: 0.0011 - dense_2_accuracy: 0.9999 - dense_2_1_accuracy: 0.9999 - dense_2_2_accuracy: 0.9997 - dense_2_3_accuracy: 0.9978 - dense_2_4_accuracy: 1.0000 - dense_2_5_accuracy: 1.0000 - dense_2_6_accuracy: 1.0000 - dense_2_7_accuracy: 1.0000 - dense_2_8_accuracy: 1.0000 - dense_2_9_accuracy: 1.0000\n",
            "Epoch 88/200\n",
            "100/100 [==============================] - 8s 82ms/step - loss: 0.0272 - dense_2_loss: 0.0014 - dense_2_1_loss: 0.0011 - dense_2_2_loss: 0.0033 - dense_2_3_loss: 0.0157 - dense_2_4_loss: 8.5113e-05 - dense_2_5_loss: 8.8104e-04 - dense_2_6_loss: 0.0021 - dense_2_7_loss: 1.8929e-04 - dense_2_8_loss: 0.0014 - dense_2_9_loss: 0.0011 - dense_2_accuracy: 0.9999 - dense_2_1_accuracy: 0.9999 - dense_2_2_accuracy: 0.9997 - dense_2_3_accuracy: 0.9977 - dense_2_4_accuracy: 1.0000 - dense_2_5_accuracy: 1.0000 - dense_2_6_accuracy: 1.0000 - dense_2_7_accuracy: 1.0000 - dense_2_8_accuracy: 1.0000 - dense_2_9_accuracy: 1.0000\n",
            "Epoch 89/200\n",
            "100/100 [==============================] - 8s 84ms/step - loss: 0.0269 - dense_2_loss: 0.0014 - dense_2_1_loss: 0.0011 - dense_2_2_loss: 0.0033 - dense_2_3_loss: 0.0155 - dense_2_4_loss: 8.2881e-05 - dense_2_5_loss: 8.3550e-04 - dense_2_6_loss: 0.0020 - dense_2_7_loss: 1.8171e-04 - dense_2_8_loss: 0.0013 - dense_2_9_loss: 0.0011 - dense_2_accuracy: 0.9999 - dense_2_1_accuracy: 0.9999 - dense_2_2_accuracy: 0.9997 - dense_2_3_accuracy: 0.9977 - dense_2_4_accuracy: 1.0000 - dense_2_5_accuracy: 1.0000 - dense_2_6_accuracy: 1.0000 - dense_2_7_accuracy: 1.0000 - dense_2_8_accuracy: 1.0000 - dense_2_9_accuracy: 1.0000\n",
            "Epoch 90/200\n",
            "100/100 [==============================] - 8s 85ms/step - loss: 0.0266 - dense_2_loss: 0.0014 - dense_2_1_loss: 0.0011 - dense_2_2_loss: 0.0033 - dense_2_3_loss: 0.0155 - dense_2_4_loss: 7.8418e-05 - dense_2_5_loss: 8.0539e-04 - dense_2_6_loss: 0.0020 - dense_2_7_loss: 1.7605e-04 - dense_2_8_loss: 0.0013 - dense_2_9_loss: 0.0011 - dense_2_accuracy: 0.9999 - dense_2_1_accuracy: 0.9999 - dense_2_2_accuracy: 0.9997 - dense_2_3_accuracy: 0.9977 - dense_2_4_accuracy: 1.0000 - dense_2_5_accuracy: 1.0000 - dense_2_6_accuracy: 1.0000 - dense_2_7_accuracy: 1.0000 - dense_2_8_accuracy: 1.0000 - dense_2_9_accuracy: 1.0000\n",
            "Epoch 91/200\n",
            "100/100 [==============================] - 8s 83ms/step - loss: 0.0262 - dense_2_loss: 0.0014 - dense_2_1_loss: 0.0011 - dense_2_2_loss: 0.0032 - dense_2_3_loss: 0.0153 - dense_2_4_loss: 8.0809e-05 - dense_2_5_loss: 7.8206e-04 - dense_2_6_loss: 0.0019 - dense_2_7_loss: 1.7368e-04 - dense_2_8_loss: 0.0012 - dense_2_9_loss: 0.0010 - dense_2_accuracy: 0.9999 - dense_2_1_accuracy: 0.9999 - dense_2_2_accuracy: 0.9997 - dense_2_3_accuracy: 0.9978 - dense_2_4_accuracy: 1.0000 - dense_2_5_accuracy: 1.0000 - dense_2_6_accuracy: 1.0000 - dense_2_7_accuracy: 1.0000 - dense_2_8_accuracy: 1.0000 - dense_2_9_accuracy: 1.0000\n",
            "Epoch 92/200\n",
            "100/100 [==============================] - 8s 85ms/step - loss: 0.0260 - dense_2_loss: 0.0013 - dense_2_1_loss: 0.0011 - dense_2_2_loss: 0.0032 - dense_2_3_loss: 0.0152 - dense_2_4_loss: 7.9507e-05 - dense_2_5_loss: 8.0211e-04 - dense_2_6_loss: 0.0019 - dense_2_7_loss: 1.6970e-04 - dense_2_8_loss: 0.0012 - dense_2_9_loss: 0.0010 - dense_2_accuracy: 0.9999 - dense_2_1_accuracy: 0.9999 - dense_2_2_accuracy: 0.9997 - dense_2_3_accuracy: 0.9978 - dense_2_4_accuracy: 1.0000 - dense_2_5_accuracy: 1.0000 - dense_2_6_accuracy: 1.0000 - dense_2_7_accuracy: 1.0000 - dense_2_8_accuracy: 1.0000 - dense_2_9_accuracy: 1.0000\n",
            "Epoch 93/200\n",
            "100/100 [==============================] - 8s 84ms/step - loss: 0.0257 - dense_2_loss: 0.0013 - dense_2_1_loss: 0.0011 - dense_2_2_loss: 0.0032 - dense_2_3_loss: 0.0152 - dense_2_4_loss: 7.5593e-05 - dense_2_5_loss: 7.3699e-04 - dense_2_6_loss: 0.0018 - dense_2_7_loss: 1.6587e-04 - dense_2_8_loss: 0.0012 - dense_2_9_loss: 9.8025e-04 - dense_2_accuracy: 0.9999 - dense_2_1_accuracy: 0.9999 - dense_2_2_accuracy: 0.9997 - dense_2_3_accuracy: 0.9978 - dense_2_4_accuracy: 1.0000 - dense_2_5_accuracy: 1.0000 - dense_2_6_accuracy: 1.0000 - dense_2_7_accuracy: 1.0000 - dense_2_8_accuracy: 1.0000 - dense_2_9_accuracy: 1.0000\n",
            "Epoch 94/200\n",
            "100/100 [==============================] - 9s 86ms/step - loss: 0.0254 - dense_2_loss: 0.0013 - dense_2_1_loss: 0.0011 - dense_2_2_loss: 0.0032 - dense_2_3_loss: 0.0150 - dense_2_4_loss: 7.4176e-05 - dense_2_5_loss: 7.1695e-04 - dense_2_6_loss: 0.0018 - dense_2_7_loss: 1.5893e-04 - dense_2_8_loss: 0.0011 - dense_2_9_loss: 9.5584e-04 - dense_2_accuracy: 0.9999 - dense_2_1_accuracy: 0.9999 - dense_2_2_accuracy: 0.9997 - dense_2_3_accuracy: 0.9978 - dense_2_4_accuracy: 1.0000 - dense_2_5_accuracy: 1.0000 - dense_2_6_accuracy: 1.0000 - dense_2_7_accuracy: 1.0000 - dense_2_8_accuracy: 1.0000 - dense_2_9_accuracy: 1.0000\n",
            "Epoch 95/200\n",
            "100/100 [==============================] - 8s 83ms/step - loss: 0.0251 - dense_2_loss: 0.0013 - dense_2_1_loss: 0.0011 - dense_2_2_loss: 0.0031 - dense_2_3_loss: 0.0149 - dense_2_4_loss: 7.5369e-05 - dense_2_5_loss: 7.0197e-04 - dense_2_6_loss: 0.0017 - dense_2_7_loss: 1.5822e-04 - dense_2_8_loss: 0.0011 - dense_2_9_loss: 9.3507e-04 - dense_2_accuracy: 0.9999 - dense_2_1_accuracy: 0.9999 - dense_2_2_accuracy: 0.9997 - dense_2_3_accuracy: 0.9978 - dense_2_4_accuracy: 1.0000 - dense_2_5_accuracy: 1.0000 - dense_2_6_accuracy: 1.0000 - dense_2_7_accuracy: 1.0000 - dense_2_8_accuracy: 1.0000 - dense_2_9_accuracy: 1.0000\n",
            "Epoch 96/200\n",
            "100/100 [==============================] - 8s 84ms/step - loss: 0.0248 - dense_2_loss: 0.0013 - dense_2_1_loss: 0.0010 - dense_2_2_loss: 0.0031 - dense_2_3_loss: 0.0148 - dense_2_4_loss: 7.5074e-05 - dense_2_5_loss: 6.7379e-04 - dense_2_6_loss: 0.0017 - dense_2_7_loss: 1.4998e-04 - dense_2_8_loss: 0.0011 - dense_2_9_loss: 9.1393e-04 - dense_2_accuracy: 0.9999 - dense_2_1_accuracy: 0.9999 - dense_2_2_accuracy: 0.9997 - dense_2_3_accuracy: 0.9978 - dense_2_4_accuracy: 1.0000 - dense_2_5_accuracy: 1.0000 - dense_2_6_accuracy: 1.0000 - dense_2_7_accuracy: 1.0000 - dense_2_8_accuracy: 1.0000 - dense_2_9_accuracy: 1.0000\n",
            "Epoch 97/200\n",
            "100/100 [==============================] - 8s 81ms/step - loss: 0.0245 - dense_2_loss: 0.0013 - dense_2_1_loss: 0.0010 - dense_2_2_loss: 0.0031 - dense_2_3_loss: 0.0147 - dense_2_4_loss: 7.0094e-05 - dense_2_5_loss: 6.6818e-04 - dense_2_6_loss: 0.0016 - dense_2_7_loss: 1.4846e-04 - dense_2_8_loss: 0.0011 - dense_2_9_loss: 8.9036e-04 - dense_2_accuracy: 0.9999 - dense_2_1_accuracy: 0.9999 - dense_2_2_accuracy: 0.9997 - dense_2_3_accuracy: 0.9977 - dense_2_4_accuracy: 1.0000 - dense_2_5_accuracy: 1.0000 - dense_2_6_accuracy: 1.0000 - dense_2_7_accuracy: 1.0000 - dense_2_8_accuracy: 1.0000 - dense_2_9_accuracy: 1.0000\n",
            "Epoch 98/200\n",
            "100/100 [==============================] - 8s 81ms/step - loss: 0.0250 - dense_2_loss: 0.0013 - dense_2_1_loss: 0.0010 - dense_2_2_loss: 0.0031 - dense_2_3_loss: 0.0148 - dense_2_4_loss: 8.5919e-05 - dense_2_5_loss: 6.5209e-04 - dense_2_6_loss: 0.0017 - dense_2_7_loss: 1.5456e-04 - dense_2_8_loss: 0.0013 - dense_2_9_loss: 9.2951e-04 - dense_2_accuracy: 0.9999 - dense_2_1_accuracy: 0.9999 - dense_2_2_accuracy: 0.9997 - dense_2_3_accuracy: 0.9978 - dense_2_4_accuracy: 1.0000 - dense_2_5_accuracy: 1.0000 - dense_2_6_accuracy: 0.9999 - dense_2_7_accuracy: 1.0000 - dense_2_8_accuracy: 0.9999 - dense_2_9_accuracy: 1.0000\n",
            "Epoch 99/200\n",
            "100/100 [==============================] - 8s 83ms/step - loss: 0.0251 - dense_2_loss: 0.0013 - dense_2_1_loss: 0.0010 - dense_2_2_loss: 0.0032 - dense_2_3_loss: 0.0151 - dense_2_4_loss: 6.0489e-05 - dense_2_5_loss: 6.3811e-04 - dense_2_6_loss: 0.0017 - dense_2_7_loss: 1.5166e-04 - dense_2_8_loss: 0.0011 - dense_2_9_loss: 8.5521e-04 - dense_2_accuracy: 0.9999 - dense_2_1_accuracy: 0.9999 - dense_2_2_accuracy: 0.9997 - dense_2_3_accuracy: 0.9977 - dense_2_4_accuracy: 1.0000 - dense_2_5_accuracy: 1.0000 - dense_2_6_accuracy: 1.0000 - dense_2_7_accuracy: 1.0000 - dense_2_8_accuracy: 1.0000 - dense_2_9_accuracy: 1.0000\n",
            "Epoch 100/200\n",
            "100/100 [==============================] - 8s 84ms/step - loss: 0.0243 - dense_2_loss: 0.0013 - dense_2_1_loss: 0.0010 - dense_2_2_loss: 0.0031 - dense_2_3_loss: 0.0147 - dense_2_4_loss: 5.9890e-05 - dense_2_5_loss: 6.1739e-04 - dense_2_6_loss: 0.0016 - dense_2_7_loss: 1.3500e-04 - dense_2_8_loss: 9.8693e-04 - dense_2_9_loss: 8.5174e-04 - dense_2_accuracy: 0.9999 - dense_2_1_accuracy: 0.9999 - dense_2_2_accuracy: 0.9997 - dense_2_3_accuracy: 0.9977 - dense_2_4_accuracy: 1.0000 - dense_2_5_accuracy: 1.0000 - dense_2_6_accuracy: 1.0000 - dense_2_7_accuracy: 1.0000 - dense_2_8_accuracy: 1.0000 - dense_2_9_accuracy: 1.0000\n",
            "Epoch 101/200\n",
            "100/100 [==============================] - 8s 82ms/step - loss: 0.0239 - dense_2_loss: 0.0013 - dense_2_1_loss: 0.0010 - dense_2_2_loss: 0.0031 - dense_2_3_loss: 0.0145 - dense_2_4_loss: 5.8665e-05 - dense_2_5_loss: 5.8559e-04 - dense_2_6_loss: 0.0015 - dense_2_7_loss: 1.3185e-04 - dense_2_8_loss: 9.7346e-04 - dense_2_9_loss: 8.1238e-04 - dense_2_accuracy: 0.9999 - dense_2_1_accuracy: 0.9999 - dense_2_2_accuracy: 0.9997 - dense_2_3_accuracy: 0.9977 - dense_2_4_accuracy: 1.0000 - dense_2_5_accuracy: 1.0000 - dense_2_6_accuracy: 1.0000 - dense_2_7_accuracy: 1.0000 - dense_2_8_accuracy: 1.0000 - dense_2_9_accuracy: 1.0000\n",
            "Epoch 102/200\n",
            "100/100 [==============================] - 8s 85ms/step - loss: 0.0237 - dense_2_loss: 0.0012 - dense_2_1_loss: 0.0010 - dense_2_2_loss: 0.0030 - dense_2_3_loss: 0.0145 - dense_2_4_loss: 5.9242e-05 - dense_2_5_loss: 5.8102e-04 - dense_2_6_loss: 0.0015 - dense_2_7_loss: 1.2935e-04 - dense_2_8_loss: 9.3599e-04 - dense_2_9_loss: 8.1040e-04 - dense_2_accuracy: 0.9999 - dense_2_1_accuracy: 0.9999 - dense_2_2_accuracy: 0.9997 - dense_2_3_accuracy: 0.9977 - dense_2_4_accuracy: 1.0000 - dense_2_5_accuracy: 1.0000 - dense_2_6_accuracy: 1.0000 - dense_2_7_accuracy: 1.0000 - dense_2_8_accuracy: 1.0000 - dense_2_9_accuracy: 1.0000\n",
            "Epoch 103/200\n",
            "100/100 [==============================] - 8s 83ms/step - loss: 0.0235 - dense_2_loss: 0.0012 - dense_2_1_loss: 0.0010 - dense_2_2_loss: 0.0030 - dense_2_3_loss: 0.0143 - dense_2_4_loss: 5.9794e-05 - dense_2_5_loss: 5.8329e-04 - dense_2_6_loss: 0.0014 - dense_2_7_loss: 1.2757e-04 - dense_2_8_loss: 9.2128e-04 - dense_2_9_loss: 7.9470e-04 - dense_2_accuracy: 0.9999 - dense_2_1_accuracy: 0.9999 - dense_2_2_accuracy: 0.9997 - dense_2_3_accuracy: 0.9977 - dense_2_4_accuracy: 1.0000 - dense_2_5_accuracy: 1.0000 - dense_2_6_accuracy: 1.0000 - dense_2_7_accuracy: 1.0000 - dense_2_8_accuracy: 1.0000 - dense_2_9_accuracy: 1.0000\n",
            "Epoch 104/200\n",
            "100/100 [==============================] - 8s 83ms/step - loss: 0.0232 - dense_2_loss: 0.0012 - dense_2_1_loss: 0.0010 - dense_2_2_loss: 0.0030 - dense_2_3_loss: 0.0141 - dense_2_4_loss: 6.2344e-05 - dense_2_5_loss: 5.5528e-04 - dense_2_6_loss: 0.0014 - dense_2_7_loss: 1.2314e-04 - dense_2_8_loss: 9.0222e-04 - dense_2_9_loss: 7.7641e-04 - dense_2_accuracy: 0.9999 - dense_2_1_accuracy: 0.9999 - dense_2_2_accuracy: 0.9997 - dense_2_3_accuracy: 0.9978 - dense_2_4_accuracy: 1.0000 - dense_2_5_accuracy: 1.0000 - dense_2_6_accuracy: 1.0000 - dense_2_7_accuracy: 1.0000 - dense_2_8_accuracy: 1.0000 - dense_2_9_accuracy: 1.0000\n",
            "Epoch 105/200\n",
            "100/100 [==============================] - 8s 83ms/step - loss: 0.0230 - dense_2_loss: 0.0012 - dense_2_1_loss: 9.8244e-04 - dense_2_2_loss: 0.0029 - dense_2_3_loss: 0.0141 - dense_2_4_loss: 5.6996e-05 - dense_2_5_loss: 5.4211e-04 - dense_2_6_loss: 0.0014 - dense_2_7_loss: 1.1991e-04 - dense_2_8_loss: 8.8370e-04 - dense_2_9_loss: 7.5863e-04 - dense_2_accuracy: 0.9999 - dense_2_1_accuracy: 0.9999 - dense_2_2_accuracy: 0.9997 - dense_2_3_accuracy: 0.9977 - dense_2_4_accuracy: 1.0000 - dense_2_5_accuracy: 1.0000 - dense_2_6_accuracy: 1.0000 - dense_2_7_accuracy: 1.0000 - dense_2_8_accuracy: 1.0000 - dense_2_9_accuracy: 1.0000\n",
            "Epoch 106/200\n",
            "100/100 [==============================] - 8s 83ms/step - loss: 0.0228 - dense_2_loss: 0.0012 - dense_2_1_loss: 9.6977e-04 - dense_2_2_loss: 0.0029 - dense_2_3_loss: 0.0140 - dense_2_4_loss: 6.1885e-05 - dense_2_5_loss: 5.2706e-04 - dense_2_6_loss: 0.0014 - dense_2_7_loss: 1.1994e-04 - dense_2_8_loss: 8.6937e-04 - dense_2_9_loss: 7.5207e-04 - dense_2_accuracy: 0.9999 - dense_2_1_accuracy: 0.9999 - dense_2_2_accuracy: 0.9997 - dense_2_3_accuracy: 0.9978 - dense_2_4_accuracy: 1.0000 - dense_2_5_accuracy: 1.0000 - dense_2_6_accuracy: 1.0000 - dense_2_7_accuracy: 1.0000 - dense_2_8_accuracy: 1.0000 - dense_2_9_accuracy: 1.0000\n",
            "Epoch 107/200\n",
            "100/100 [==============================] - 8s 85ms/step - loss: 0.0227 - dense_2_loss: 0.0012 - dense_2_1_loss: 9.6142e-04 - dense_2_2_loss: 0.0029 - dense_2_3_loss: 0.0140 - dense_2_4_loss: 5.9694e-05 - dense_2_5_loss: 5.1723e-04 - dense_2_6_loss: 0.0013 - dense_2_7_loss: 1.1605e-04 - dense_2_8_loss: 8.4554e-04 - dense_2_9_loss: 7.3543e-04 - dense_2_accuracy: 0.9999 - dense_2_1_accuracy: 0.9999 - dense_2_2_accuracy: 0.9997 - dense_2_3_accuracy: 0.9977 - dense_2_4_accuracy: 1.0000 - dense_2_5_accuracy: 1.0000 - dense_2_6_accuracy: 1.0000 - dense_2_7_accuracy: 1.0000 - dense_2_8_accuracy: 1.0000 - dense_2_9_accuracy: 1.0000\n",
            "Epoch 108/200\n",
            "100/100 [==============================] - 8s 84ms/step - loss: 0.0224 - dense_2_loss: 0.0012 - dense_2_1_loss: 9.4765e-04 - dense_2_2_loss: 0.0029 - dense_2_3_loss: 0.0138 - dense_2_4_loss: 5.7920e-05 - dense_2_5_loss: 5.0382e-04 - dense_2_6_loss: 0.0013 - dense_2_7_loss: 1.1349e-04 - dense_2_8_loss: 8.3230e-04 - dense_2_9_loss: 7.2057e-04 - dense_2_accuracy: 0.9999 - dense_2_1_accuracy: 0.9999 - dense_2_2_accuracy: 0.9997 - dense_2_3_accuracy: 0.9978 - dense_2_4_accuracy: 1.0000 - dense_2_5_accuracy: 1.0000 - dense_2_6_accuracy: 1.0000 - dense_2_7_accuracy: 1.0000 - dense_2_8_accuracy: 1.0000 - dense_2_9_accuracy: 1.0000\n",
            "Epoch 109/200\n",
            "100/100 [==============================] - 8s 82ms/step - loss: 0.0223 - dense_2_loss: 0.0012 - dense_2_1_loss: 9.5712e-04 - dense_2_2_loss: 0.0029 - dense_2_3_loss: 0.0138 - dense_2_4_loss: 6.0668e-05 - dense_2_5_loss: 4.9227e-04 - dense_2_6_loss: 0.0013 - dense_2_7_loss: 1.1327e-04 - dense_2_8_loss: 8.3748e-04 - dense_2_9_loss: 7.1150e-04 - dense_2_accuracy: 0.9999 - dense_2_1_accuracy: 0.9999 - dense_2_2_accuracy: 0.9997 - dense_2_3_accuracy: 0.9978 - dense_2_4_accuracy: 1.0000 - dense_2_5_accuracy: 1.0000 - dense_2_6_accuracy: 1.0000 - dense_2_7_accuracy: 1.0000 - dense_2_8_accuracy: 1.0000 - dense_2_9_accuracy: 1.0000\n",
            "Epoch 110/200\n",
            "100/100 [==============================] - 8s 83ms/step - loss: 0.0222 - dense_2_loss: 0.0012 - dense_2_1_loss: 9.3796e-04 - dense_2_2_loss: 0.0029 - dense_2_3_loss: 0.0137 - dense_2_4_loss: 5.8826e-05 - dense_2_5_loss: 4.7214e-04 - dense_2_6_loss: 0.0013 - dense_2_7_loss: 1.1173e-04 - dense_2_8_loss: 8.1548e-04 - dense_2_9_loss: 6.9612e-04 - dense_2_accuracy: 0.9999 - dense_2_1_accuracy: 0.9999 - dense_2_2_accuracy: 0.9997 - dense_2_3_accuracy: 0.9977 - dense_2_4_accuracy: 1.0000 - dense_2_5_accuracy: 1.0000 - dense_2_6_accuracy: 1.0000 - dense_2_7_accuracy: 1.0000 - dense_2_8_accuracy: 1.0000 - dense_2_9_accuracy: 1.0000\n",
            "Epoch 111/200\n",
            "100/100 [==============================] - 8s 81ms/step - loss: 0.0220 - dense_2_loss: 0.0012 - dense_2_1_loss: 9.3253e-04 - dense_2_2_loss: 0.0029 - dense_2_3_loss: 0.0137 - dense_2_4_loss: 5.4523e-05 - dense_2_5_loss: 4.7814e-04 - dense_2_6_loss: 0.0012 - dense_2_7_loss: 1.0684e-04 - dense_2_8_loss: 7.9757e-04 - dense_2_9_loss: 6.8944e-04 - dense_2_accuracy: 0.9999 - dense_2_1_accuracy: 0.9999 - dense_2_2_accuracy: 0.9997 - dense_2_3_accuracy: 0.9978 - dense_2_4_accuracy: 1.0000 - dense_2_5_accuracy: 1.0000 - dense_2_6_accuracy: 1.0000 - dense_2_7_accuracy: 1.0000 - dense_2_8_accuracy: 1.0000 - dense_2_9_accuracy: 1.0000\n",
            "Epoch 112/200\n",
            "100/100 [==============================] - 8s 83ms/step - loss: 0.0217 - dense_2_loss: 0.0012 - dense_2_1_loss: 9.1741e-04 - dense_2_2_loss: 0.0028 - dense_2_3_loss: 0.0135 - dense_2_4_loss: 5.5304e-05 - dense_2_5_loss: 4.8168e-04 - dense_2_6_loss: 0.0012 - dense_2_7_loss: 1.0253e-04 - dense_2_8_loss: 7.7149e-04 - dense_2_9_loss: 6.7141e-04 - dense_2_accuracy: 0.9999 - dense_2_1_accuracy: 0.9999 - dense_2_2_accuracy: 0.9997 - dense_2_3_accuracy: 0.9978 - dense_2_4_accuracy: 1.0000 - dense_2_5_accuracy: 1.0000 - dense_2_6_accuracy: 1.0000 - dense_2_7_accuracy: 1.0000 - dense_2_8_accuracy: 1.0000 - dense_2_9_accuracy: 1.0000\n",
            "Epoch 113/200\n",
            "100/100 [==============================] - 9s 86ms/step - loss: 0.0216 - dense_2_loss: 0.0012 - dense_2_1_loss: 9.2002e-04 - dense_2_2_loss: 0.0028 - dense_2_3_loss: 0.0134 - dense_2_4_loss: 5.4051e-05 - dense_2_5_loss: 4.5293e-04 - dense_2_6_loss: 0.0012 - dense_2_7_loss: 1.0188e-04 - dense_2_8_loss: 7.6714e-04 - dense_2_9_loss: 6.6455e-04 - dense_2_accuracy: 0.9999 - dense_2_1_accuracy: 0.9999 - dense_2_2_accuracy: 0.9997 - dense_2_3_accuracy: 0.9977 - dense_2_4_accuracy: 1.0000 - dense_2_5_accuracy: 1.0000 - dense_2_6_accuracy: 1.0000 - dense_2_7_accuracy: 1.0000 - dense_2_8_accuracy: 1.0000 - dense_2_9_accuracy: 1.0000\n",
            "Epoch 114/200\n",
            "100/100 [==============================] - 8s 84ms/step - loss: 0.0215 - dense_2_loss: 0.0012 - dense_2_1_loss: 9.1265e-04 - dense_2_2_loss: 0.0028 - dense_2_3_loss: 0.0135 - dense_2_4_loss: 5.7498e-05 - dense_2_5_loss: 4.4098e-04 - dense_2_6_loss: 0.0012 - dense_2_7_loss: 9.9881e-05 - dense_2_8_loss: 7.3971e-04 - dense_2_9_loss: 6.5081e-04 - dense_2_accuracy: 0.9999 - dense_2_1_accuracy: 0.9999 - dense_2_2_accuracy: 0.9997 - dense_2_3_accuracy: 0.9979 - dense_2_4_accuracy: 1.0000 - dense_2_5_accuracy: 1.0000 - dense_2_6_accuracy: 1.0000 - dense_2_7_accuracy: 1.0000 - dense_2_8_accuracy: 1.0000 - dense_2_9_accuracy: 1.0000\n",
            "Epoch 115/200\n",
            "100/100 [==============================] - 8s 82ms/step - loss: 0.0212 - dense_2_loss: 0.0012 - dense_2_1_loss: 8.9247e-04 - dense_2_2_loss: 0.0027 - dense_2_3_loss: 0.0133 - dense_2_4_loss: 5.4731e-05 - dense_2_5_loss: 4.3212e-04 - dense_2_6_loss: 0.0012 - dense_2_7_loss: 9.9386e-05 - dense_2_8_loss: 7.3177e-04 - dense_2_9_loss: 6.3302e-04 - dense_2_accuracy: 0.9999 - dense_2_1_accuracy: 0.9999 - dense_2_2_accuracy: 0.9997 - dense_2_3_accuracy: 0.9978 - dense_2_4_accuracy: 1.0000 - dense_2_5_accuracy: 1.0000 - dense_2_6_accuracy: 1.0000 - dense_2_7_accuracy: 1.0000 - dense_2_8_accuracy: 1.0000 - dense_2_9_accuracy: 1.0000\n",
            "Epoch 116/200\n",
            "100/100 [==============================] - 8s 83ms/step - loss: 0.0211 - dense_2_loss: 0.0012 - dense_2_1_loss: 8.9580e-04 - dense_2_2_loss: 0.0028 - dense_2_3_loss: 0.0132 - dense_2_4_loss: 5.4729e-05 - dense_2_5_loss: 4.3139e-04 - dense_2_6_loss: 0.0011 - dense_2_7_loss: 9.6339e-05 - dense_2_8_loss: 7.1685e-04 - dense_2_9_loss: 6.3262e-04 - dense_2_accuracy: 0.9999 - dense_2_1_accuracy: 0.9999 - dense_2_2_accuracy: 0.9997 - dense_2_3_accuracy: 0.9978 - dense_2_4_accuracy: 1.0000 - dense_2_5_accuracy: 1.0000 - dense_2_6_accuracy: 1.0000 - dense_2_7_accuracy: 1.0000 - dense_2_8_accuracy: 1.0000 - dense_2_9_accuracy: 1.0000\n",
            "Epoch 117/200\n",
            "100/100 [==============================] - 8s 84ms/step - loss: 0.0210 - dense_2_loss: 0.0012 - dense_2_1_loss: 8.8428e-04 - dense_2_2_loss: 0.0027 - dense_2_3_loss: 0.0132 - dense_2_4_loss: 5.4635e-05 - dense_2_5_loss: 4.1427e-04 - dense_2_6_loss: 0.0011 - dense_2_7_loss: 9.3603e-05 - dense_2_8_loss: 6.9598e-04 - dense_2_9_loss: 6.2256e-04 - dense_2_accuracy: 0.9999 - dense_2_1_accuracy: 0.9999 - dense_2_2_accuracy: 0.9997 - dense_2_3_accuracy: 0.9979 - dense_2_4_accuracy: 1.0000 - dense_2_5_accuracy: 1.0000 - dense_2_6_accuracy: 1.0000 - dense_2_7_accuracy: 1.0000 - dense_2_8_accuracy: 1.0000 - dense_2_9_accuracy: 1.0000\n",
            "Epoch 118/200\n",
            "100/100 [==============================] - 8s 82ms/step - loss: 0.0209 - dense_2_loss: 0.0012 - dense_2_1_loss: 8.7405e-04 - dense_2_2_loss: 0.0027 - dense_2_3_loss: 0.0132 - dense_2_4_loss: 5.4731e-05 - dense_2_5_loss: 4.2233e-04 - dense_2_6_loss: 0.0011 - dense_2_7_loss: 9.2799e-05 - dense_2_8_loss: 7.1569e-04 - dense_2_9_loss: 6.1661e-04 - dense_2_accuracy: 0.9999 - dense_2_1_accuracy: 0.9999 - dense_2_2_accuracy: 0.9997 - dense_2_3_accuracy: 0.9979 - dense_2_4_accuracy: 1.0000 - dense_2_5_accuracy: 1.0000 - dense_2_6_accuracy: 1.0000 - dense_2_7_accuracy: 1.0000 - dense_2_8_accuracy: 1.0000 - dense_2_9_accuracy: 1.0000\n",
            "Epoch 119/200\n",
            "100/100 [==============================] - 8s 85ms/step - loss: 0.0208 - dense_2_loss: 0.0012 - dense_2_1_loss: 8.8008e-04 - dense_2_2_loss: 0.0027 - dense_2_3_loss: 0.0131 - dense_2_4_loss: 5.1960e-05 - dense_2_5_loss: 3.9768e-04 - dense_2_6_loss: 0.0011 - dense_2_7_loss: 9.0699e-05 - dense_2_8_loss: 6.8519e-04 - dense_2_9_loss: 5.9950e-04 - dense_2_accuracy: 0.9999 - dense_2_1_accuracy: 0.9999 - dense_2_2_accuracy: 0.9997 - dense_2_3_accuracy: 0.9979 - dense_2_4_accuracy: 1.0000 - dense_2_5_accuracy: 1.0000 - dense_2_6_accuracy: 1.0000 - dense_2_7_accuracy: 1.0000 - dense_2_8_accuracy: 1.0000 - dense_2_9_accuracy: 1.0000\n",
            "Epoch 120/200\n",
            "100/100 [==============================] - 8s 83ms/step - loss: 0.0205 - dense_2_loss: 0.0012 - dense_2_1_loss: 8.6364e-04 - dense_2_2_loss: 0.0027 - dense_2_3_loss: 0.0129 - dense_2_4_loss: 5.1534e-05 - dense_2_5_loss: 3.8882e-04 - dense_2_6_loss: 0.0011 - dense_2_7_loss: 8.9470e-05 - dense_2_8_loss: 6.7174e-04 - dense_2_9_loss: 5.9176e-04 - dense_2_accuracy: 0.9999 - dense_2_1_accuracy: 0.9999 - dense_2_2_accuracy: 0.9997 - dense_2_3_accuracy: 0.9978 - dense_2_4_accuracy: 1.0000 - dense_2_5_accuracy: 1.0000 - dense_2_6_accuracy: 1.0000 - dense_2_7_accuracy: 1.0000 - dense_2_8_accuracy: 1.0000 - dense_2_9_accuracy: 1.0000\n",
            "Epoch 121/200\n",
            "100/100 [==============================] - 8s 83ms/step - loss: 0.0204 - dense_2_loss: 0.0012 - dense_2_1_loss: 8.5943e-04 - dense_2_2_loss: 0.0026 - dense_2_3_loss: 0.0130 - dense_2_4_loss: 5.2608e-05 - dense_2_5_loss: 3.7808e-04 - dense_2_6_loss: 0.0010 - dense_2_7_loss: 8.7134e-05 - dense_2_8_loss: 6.5251e-04 - dense_2_9_loss: 5.8968e-04 - dense_2_accuracy: 0.9999 - dense_2_1_accuracy: 0.9999 - dense_2_2_accuracy: 0.9997 - dense_2_3_accuracy: 0.9978 - dense_2_4_accuracy: 1.0000 - dense_2_5_accuracy: 1.0000 - dense_2_6_accuracy: 1.0000 - dense_2_7_accuracy: 1.0000 - dense_2_8_accuracy: 1.0000 - dense_2_9_accuracy: 1.0000\n",
            "Epoch 122/200\n",
            "100/100 [==============================] - 9s 86ms/step - loss: 0.0203 - dense_2_loss: 0.0012 - dense_2_1_loss: 8.5583e-04 - dense_2_2_loss: 0.0027 - dense_2_3_loss: 0.0128 - dense_2_4_loss: 5.1215e-05 - dense_2_5_loss: 3.7324e-04 - dense_2_6_loss: 0.0010 - dense_2_7_loss: 8.5180e-05 - dense_2_8_loss: 6.5205e-04 - dense_2_9_loss: 5.7814e-04 - dense_2_accuracy: 0.9999 - dense_2_1_accuracy: 0.9999 - dense_2_2_accuracy: 0.9997 - dense_2_3_accuracy: 0.9979 - dense_2_4_accuracy: 1.0000 - dense_2_5_accuracy: 1.0000 - dense_2_6_accuracy: 1.0000 - dense_2_7_accuracy: 1.0000 - dense_2_8_accuracy: 1.0000 - dense_2_9_accuracy: 1.0000\n",
            "Epoch 123/200\n",
            "100/100 [==============================] - 8s 83ms/step - loss: 0.0201 - dense_2_loss: 0.0011 - dense_2_1_loss: 8.4440e-04 - dense_2_2_loss: 0.0026 - dense_2_3_loss: 0.0127 - dense_2_4_loss: 5.8127e-05 - dense_2_5_loss: 3.8685e-04 - dense_2_6_loss: 0.0010 - dense_2_7_loss: 8.6115e-05 - dense_2_8_loss: 6.5796e-04 - dense_2_9_loss: 5.7073e-04 - dense_2_accuracy: 0.9999 - dense_2_1_accuracy: 0.9999 - dense_2_2_accuracy: 0.9997 - dense_2_3_accuracy: 0.9979 - dense_2_4_accuracy: 1.0000 - dense_2_5_accuracy: 1.0000 - dense_2_6_accuracy: 1.0000 - dense_2_7_accuracy: 1.0000 - dense_2_8_accuracy: 1.0000 - dense_2_9_accuracy: 1.0000\n",
            "Epoch 124/200\n",
            "100/100 [==============================] - 8s 84ms/step - loss: 0.0200 - dense_2_loss: 0.0011 - dense_2_1_loss: 8.3894e-04 - dense_2_2_loss: 0.0026 - dense_2_3_loss: 0.0128 - dense_2_4_loss: 4.8654e-05 - dense_2_5_loss: 3.7495e-04 - dense_2_6_loss: 0.0010 - dense_2_7_loss: 8.1974e-05 - dense_2_8_loss: 6.1929e-04 - dense_2_9_loss: 5.6080e-04 - dense_2_accuracy: 0.9999 - dense_2_1_accuracy: 0.9999 - dense_2_2_accuracy: 0.9997 - dense_2_3_accuracy: 0.9977 - dense_2_4_accuracy: 1.0000 - dense_2_5_accuracy: 1.0000 - dense_2_6_accuracy: 1.0000 - dense_2_7_accuracy: 1.0000 - dense_2_8_accuracy: 1.0000 - dense_2_9_accuracy: 1.0000\n",
            "Epoch 125/200\n",
            "100/100 [==============================] - 8s 83ms/step - loss: 0.0198 - dense_2_loss: 0.0011 - dense_2_1_loss: 8.3342e-04 - dense_2_2_loss: 0.0026 - dense_2_3_loss: 0.0126 - dense_2_4_loss: 5.0250e-05 - dense_2_5_loss: 3.4744e-04 - dense_2_6_loss: 0.0010 - dense_2_7_loss: 8.0706e-05 - dense_2_8_loss: 6.2574e-04 - dense_2_9_loss: 5.5400e-04 - dense_2_accuracy: 0.9999 - dense_2_1_accuracy: 0.9999 - dense_2_2_accuracy: 0.9997 - dense_2_3_accuracy: 0.9979 - dense_2_4_accuracy: 1.0000 - dense_2_5_accuracy: 1.0000 - dense_2_6_accuracy: 1.0000 - dense_2_7_accuracy: 1.0000 - dense_2_8_accuracy: 1.0000 - dense_2_9_accuracy: 1.0000\n",
            "Epoch 126/200\n",
            "100/100 [==============================] - 8s 83ms/step - loss: 0.0198 - dense_2_loss: 0.0011 - dense_2_1_loss: 8.3045e-04 - dense_2_2_loss: 0.0026 - dense_2_3_loss: 0.0126 - dense_2_4_loss: 4.6983e-05 - dense_2_5_loss: 3.4773e-04 - dense_2_6_loss: 9.7008e-04 - dense_2_7_loss: 7.9836e-05 - dense_2_8_loss: 6.0956e-04 - dense_2_9_loss: 5.4338e-04 - dense_2_accuracy: 0.9999 - dense_2_1_accuracy: 0.9999 - dense_2_2_accuracy: 0.9997 - dense_2_3_accuracy: 0.9978 - dense_2_4_accuracy: 1.0000 - dense_2_5_accuracy: 1.0000 - dense_2_6_accuracy: 1.0000 - dense_2_7_accuracy: 1.0000 - dense_2_8_accuracy: 1.0000 - dense_2_9_accuracy: 1.0000\n",
            "Epoch 127/200\n",
            "100/100 [==============================] - 8s 83ms/step - loss: 0.0196 - dense_2_loss: 0.0011 - dense_2_1_loss: 8.4126e-04 - dense_2_2_loss: 0.0026 - dense_2_3_loss: 0.0125 - dense_2_4_loss: 5.0340e-05 - dense_2_5_loss: 3.4387e-04 - dense_2_6_loss: 9.5599e-04 - dense_2_7_loss: 7.8110e-05 - dense_2_8_loss: 6.0901e-04 - dense_2_9_loss: 5.3712e-04 - dense_2_accuracy: 0.9999 - dense_2_1_accuracy: 0.9999 - dense_2_2_accuracy: 0.9997 - dense_2_3_accuracy: 0.9978 - dense_2_4_accuracy: 1.0000 - dense_2_5_accuracy: 1.0000 - dense_2_6_accuracy: 1.0000 - dense_2_7_accuracy: 1.0000 - dense_2_8_accuracy: 1.0000 - dense_2_9_accuracy: 1.0000\n",
            "Epoch 128/200\n",
            "100/100 [==============================] - 8s 84ms/step - loss: 0.0195 - dense_2_loss: 0.0011 - dense_2_1_loss: 8.2287e-04 - dense_2_2_loss: 0.0026 - dense_2_3_loss: 0.0124 - dense_2_4_loss: 5.7822e-05 - dense_2_5_loss: 3.4923e-04 - dense_2_6_loss: 9.5372e-04 - dense_2_7_loss: 8.0204e-05 - dense_2_8_loss: 6.5374e-04 - dense_2_9_loss: 5.3940e-04 - dense_2_accuracy: 0.9999 - dense_2_1_accuracy: 0.9999 - dense_2_2_accuracy: 0.9998 - dense_2_3_accuracy: 0.9980 - dense_2_4_accuracy: 1.0000 - dense_2_5_accuracy: 1.0000 - dense_2_6_accuracy: 1.0000 - dense_2_7_accuracy: 1.0000 - dense_2_8_accuracy: 0.9999 - dense_2_9_accuracy: 1.0000\n",
            "Epoch 129/200\n",
            "100/100 [==============================] - 8s 78ms/step - loss: 0.0194 - dense_2_loss: 0.0011 - dense_2_1_loss: 8.0651e-04 - dense_2_2_loss: 0.0026 - dense_2_3_loss: 0.0124 - dense_2_4_loss: 4.1643e-05 - dense_2_5_loss: 3.3754e-04 - dense_2_6_loss: 9.4125e-04 - dense_2_7_loss: 7.2118e-05 - dense_2_8_loss: 5.8216e-04 - dense_2_9_loss: 5.2117e-04 - dense_2_accuracy: 0.9999 - dense_2_1_accuracy: 0.9999 - dense_2_2_accuracy: 0.9997 - dense_2_3_accuracy: 0.9979 - dense_2_4_accuracy: 1.0000 - dense_2_5_accuracy: 1.0000 - dense_2_6_accuracy: 1.0000 - dense_2_7_accuracy: 1.0000 - dense_2_8_accuracy: 1.0000 - dense_2_9_accuracy: 1.0000\n",
            "Epoch 130/200\n",
            "100/100 [==============================] - 8s 83ms/step - loss: 0.0193 - dense_2_loss: 0.0011 - dense_2_1_loss: 8.1458e-04 - dense_2_2_loss: 0.0025 - dense_2_3_loss: 0.0123 - dense_2_4_loss: 4.5874e-05 - dense_2_5_loss: 3.2456e-04 - dense_2_6_loss: 9.1244e-04 - dense_2_7_loss: 7.2618e-05 - dense_2_8_loss: 5.8174e-04 - dense_2_9_loss: 5.1142e-04 - dense_2_accuracy: 0.9999 - dense_2_1_accuracy: 0.9999 - dense_2_2_accuracy: 0.9997 - dense_2_3_accuracy: 0.9979 - dense_2_4_accuracy: 1.0000 - dense_2_5_accuracy: 1.0000 - dense_2_6_accuracy: 1.0000 - dense_2_7_accuracy: 1.0000 - dense_2_8_accuracy: 1.0000 - dense_2_9_accuracy: 1.0000\n",
            "Epoch 131/200\n",
            "100/100 [==============================] - 8s 82ms/step - loss: 0.0191 - dense_2_loss: 0.0011 - dense_2_1_loss: 7.9450e-04 - dense_2_2_loss: 0.0025 - dense_2_3_loss: 0.0122 - dense_2_4_loss: 4.2490e-05 - dense_2_5_loss: 3.1321e-04 - dense_2_6_loss: 9.0117e-04 - dense_2_7_loss: 7.1036e-05 - dense_2_8_loss: 5.5964e-04 - dense_2_9_loss: 5.0308e-04 - dense_2_accuracy: 0.9999 - dense_2_1_accuracy: 0.9999 - dense_2_2_accuracy: 0.9997 - dense_2_3_accuracy: 0.9979 - dense_2_4_accuracy: 1.0000 - dense_2_5_accuracy: 1.0000 - dense_2_6_accuracy: 1.0000 - dense_2_7_accuracy: 1.0000 - dense_2_8_accuracy: 1.0000 - dense_2_9_accuracy: 1.0000\n",
            "Epoch 132/200\n",
            "100/100 [==============================] - 8s 84ms/step - loss: 0.0190 - dense_2_loss: 0.0011 - dense_2_1_loss: 8.0046e-04 - dense_2_2_loss: 0.0025 - dense_2_3_loss: 0.0122 - dense_2_4_loss: 4.4471e-05 - dense_2_5_loss: 3.1802e-04 - dense_2_6_loss: 8.8491e-04 - dense_2_7_loss: 6.9817e-05 - dense_2_8_loss: 5.6834e-04 - dense_2_9_loss: 5.0030e-04 - dense_2_accuracy: 0.9999 - dense_2_1_accuracy: 0.9999 - dense_2_2_accuracy: 0.9998 - dense_2_3_accuracy: 0.9979 - dense_2_4_accuracy: 1.0000 - dense_2_5_accuracy: 1.0000 - dense_2_6_accuracy: 1.0000 - dense_2_7_accuracy: 1.0000 - dense_2_8_accuracy: 1.0000 - dense_2_9_accuracy: 1.0000\n",
            "Epoch 133/200\n",
            "100/100 [==============================] - 8s 82ms/step - loss: 0.0190 - dense_2_loss: 0.0011 - dense_2_1_loss: 7.9212e-04 - dense_2_2_loss: 0.0025 - dense_2_3_loss: 0.0122 - dense_2_4_loss: 4.5498e-05 - dense_2_5_loss: 3.1388e-04 - dense_2_6_loss: 8.7837e-04 - dense_2_7_loss: 7.0288e-05 - dense_2_8_loss: 5.5720e-04 - dense_2_9_loss: 4.9994e-04 - dense_2_accuracy: 0.9999 - dense_2_1_accuracy: 0.9999 - dense_2_2_accuracy: 0.9998 - dense_2_3_accuracy: 0.9978 - dense_2_4_accuracy: 1.0000 - dense_2_5_accuracy: 1.0000 - dense_2_6_accuracy: 1.0000 - dense_2_7_accuracy: 1.0000 - dense_2_8_accuracy: 1.0000 - dense_2_9_accuracy: 1.0000\n",
            "Epoch 134/200\n",
            "100/100 [==============================] - 8s 82ms/step - loss: 0.0188 - dense_2_loss: 0.0011 - dense_2_1_loss: 7.9634e-04 - dense_2_2_loss: 0.0025 - dense_2_3_loss: 0.0121 - dense_2_4_loss: 4.5239e-05 - dense_2_5_loss: 3.1052e-04 - dense_2_6_loss: 8.6545e-04 - dense_2_7_loss: 6.8984e-05 - dense_2_8_loss: 5.3886e-04 - dense_2_9_loss: 4.8894e-04 - dense_2_accuracy: 0.9999 - dense_2_1_accuracy: 0.9999 - dense_2_2_accuracy: 0.9997 - dense_2_3_accuracy: 0.9979 - dense_2_4_accuracy: 1.0000 - dense_2_5_accuracy: 1.0000 - dense_2_6_accuracy: 1.0000 - dense_2_7_accuracy: 1.0000 - dense_2_8_accuracy: 1.0000 - dense_2_9_accuracy: 1.0000\n",
            "Epoch 135/200\n",
            "100/100 [==============================] - 8s 81ms/step - loss: 0.0186 - dense_2_loss: 0.0011 - dense_2_1_loss: 7.8659e-04 - dense_2_2_loss: 0.0025 - dense_2_3_loss: 0.0120 - dense_2_4_loss: 4.5271e-05 - dense_2_5_loss: 2.9816e-04 - dense_2_6_loss: 8.5719e-04 - dense_2_7_loss: 6.8290e-05 - dense_2_8_loss: 5.3350e-04 - dense_2_9_loss: 4.8569e-04 - dense_2_accuracy: 0.9999 - dense_2_1_accuracy: 0.9999 - dense_2_2_accuracy: 0.9997 - dense_2_3_accuracy: 0.9980 - dense_2_4_accuracy: 1.0000 - dense_2_5_accuracy: 1.0000 - dense_2_6_accuracy: 1.0000 - dense_2_7_accuracy: 1.0000 - dense_2_8_accuracy: 1.0000 - dense_2_9_accuracy: 1.0000\n",
            "Epoch 136/200\n",
            "100/100 [==============================] - 8s 82ms/step - loss: 0.0186 - dense_2_loss: 0.0011 - dense_2_1_loss: 7.6902e-04 - dense_2_2_loss: 0.0024 - dense_2_3_loss: 0.0120 - dense_2_4_loss: 4.6136e-05 - dense_2_5_loss: 3.1271e-04 - dense_2_6_loss: 8.4406e-04 - dense_2_7_loss: 6.7028e-05 - dense_2_8_loss: 5.3119e-04 - dense_2_9_loss: 4.7753e-04 - dense_2_accuracy: 0.9999 - dense_2_1_accuracy: 0.9999 - dense_2_2_accuracy: 0.9998 - dense_2_3_accuracy: 0.9979 - dense_2_4_accuracy: 1.0000 - dense_2_5_accuracy: 1.0000 - dense_2_6_accuracy: 1.0000 - dense_2_7_accuracy: 1.0000 - dense_2_8_accuracy: 1.0000 - dense_2_9_accuracy: 1.0000\n",
            "Epoch 137/200\n",
            "100/100 [==============================] - 8s 83ms/step - loss: 0.0184 - dense_2_loss: 0.0011 - dense_2_1_loss: 7.6887e-04 - dense_2_2_loss: 0.0024 - dense_2_3_loss: 0.0119 - dense_2_4_loss: 4.3145e-05 - dense_2_5_loss: 2.9575e-04 - dense_2_6_loss: 8.3153e-04 - dense_2_7_loss: 6.5251e-05 - dense_2_8_loss: 5.1645e-04 - dense_2_9_loss: 4.7242e-04 - dense_2_accuracy: 0.9999 - dense_2_1_accuracy: 0.9999 - dense_2_2_accuracy: 0.9997 - dense_2_3_accuracy: 0.9980 - dense_2_4_accuracy: 1.0000 - dense_2_5_accuracy: 1.0000 - dense_2_6_accuracy: 1.0000 - dense_2_7_accuracy: 1.0000 - dense_2_8_accuracy: 1.0000 - dense_2_9_accuracy: 1.0000\n",
            "Epoch 138/200\n",
            "100/100 [==============================] - 8s 84ms/step - loss: 0.0184 - dense_2_loss: 0.0011 - dense_2_1_loss: 7.6884e-04 - dense_2_2_loss: 0.0024 - dense_2_3_loss: 0.0119 - dense_2_4_loss: 4.3495e-05 - dense_2_5_loss: 2.8555e-04 - dense_2_6_loss: 8.2920e-04 - dense_2_7_loss: 6.5184e-05 - dense_2_8_loss: 5.1023e-04 - dense_2_9_loss: 4.6823e-04 - dense_2_accuracy: 0.9999 - dense_2_1_accuracy: 0.9999 - dense_2_2_accuracy: 0.9998 - dense_2_3_accuracy: 0.9980 - dense_2_4_accuracy: 1.0000 - dense_2_5_accuracy: 1.0000 - dense_2_6_accuracy: 1.0000 - dense_2_7_accuracy: 1.0000 - dense_2_8_accuracy: 1.0000 - dense_2_9_accuracy: 1.0000\n",
            "Epoch 139/200\n",
            "100/100 [==============================] - 8s 83ms/step - loss: 0.0181 - dense_2_loss: 0.0011 - dense_2_1_loss: 7.6539e-04 - dense_2_2_loss: 0.0024 - dense_2_3_loss: 0.0117 - dense_2_4_loss: 4.5205e-05 - dense_2_5_loss: 2.9527e-04 - dense_2_6_loss: 8.1191e-04 - dense_2_7_loss: 6.3696e-05 - dense_2_8_loss: 5.1197e-04 - dense_2_9_loss: 4.5907e-04 - dense_2_accuracy: 0.9999 - dense_2_1_accuracy: 0.9999 - dense_2_2_accuracy: 0.9998 - dense_2_3_accuracy: 0.9980 - dense_2_4_accuracy: 1.0000 - dense_2_5_accuracy: 1.0000 - dense_2_6_accuracy: 1.0000 - dense_2_7_accuracy: 1.0000 - dense_2_8_accuracy: 1.0000 - dense_2_9_accuracy: 1.0000\n",
            "Epoch 140/200\n",
            "100/100 [==============================] - 8s 84ms/step - loss: 0.0180 - dense_2_loss: 0.0011 - dense_2_1_loss: 7.6238e-04 - dense_2_2_loss: 0.0024 - dense_2_3_loss: 0.0116 - dense_2_4_loss: 4.4359e-05 - dense_2_5_loss: 2.9407e-04 - dense_2_6_loss: 8.1500e-04 - dense_2_7_loss: 6.2651e-05 - dense_2_8_loss: 5.0335e-04 - dense_2_9_loss: 4.6187e-04 - dense_2_accuracy: 0.9999 - dense_2_1_accuracy: 0.9999 - dense_2_2_accuracy: 0.9997 - dense_2_3_accuracy: 0.9980 - dense_2_4_accuracy: 1.0000 - dense_2_5_accuracy: 1.0000 - dense_2_6_accuracy: 1.0000 - dense_2_7_accuracy: 1.0000 - dense_2_8_accuracy: 1.0000 - dense_2_9_accuracy: 1.0000\n",
            "Epoch 141/200\n",
            "100/100 [==============================] - 8s 83ms/step - loss: 0.0179 - dense_2_loss: 0.0011 - dense_2_1_loss: 7.4153e-04 - dense_2_2_loss: 0.0024 - dense_2_3_loss: 0.0116 - dense_2_4_loss: 4.3355e-05 - dense_2_5_loss: 2.7925e-04 - dense_2_6_loss: 7.8963e-04 - dense_2_7_loss: 6.1601e-05 - dense_2_8_loss: 4.8675e-04 - dense_2_9_loss: 4.5185e-04 - dense_2_accuracy: 0.9999 - dense_2_1_accuracy: 0.9999 - dense_2_2_accuracy: 0.9998 - dense_2_3_accuracy: 0.9980 - dense_2_4_accuracy: 1.0000 - dense_2_5_accuracy: 1.0000 - dense_2_6_accuracy: 1.0000 - dense_2_7_accuracy: 1.0000 - dense_2_8_accuracy: 1.0000 - dense_2_9_accuracy: 1.0000\n",
            "Epoch 142/200\n",
            "100/100 [==============================] - 8s 82ms/step - loss: 0.0178 - dense_2_loss: 0.0011 - dense_2_1_loss: 7.4512e-04 - dense_2_2_loss: 0.0023 - dense_2_3_loss: 0.0115 - dense_2_4_loss: 5.0682e-05 - dense_2_5_loss: 2.9057e-04 - dense_2_6_loss: 7.9959e-04 - dense_2_7_loss: 6.3188e-05 - dense_2_8_loss: 5.0314e-04 - dense_2_9_loss: 4.4609e-04 - dense_2_accuracy: 0.9999 - dense_2_1_accuracy: 0.9999 - dense_2_2_accuracy: 0.9998 - dense_2_3_accuracy: 0.9980 - dense_2_4_accuracy: 1.0000 - dense_2_5_accuracy: 1.0000 - dense_2_6_accuracy: 1.0000 - dense_2_7_accuracy: 1.0000 - dense_2_8_accuracy: 1.0000 - dense_2_9_accuracy: 1.0000\n",
            "Epoch 143/200\n",
            "100/100 [==============================] - 8s 82ms/step - loss: 0.0178 - dense_2_loss: 0.0011 - dense_2_1_loss: 7.3763e-04 - dense_2_2_loss: 0.0024 - dense_2_3_loss: 0.0115 - dense_2_4_loss: 4.0648e-05 - dense_2_5_loss: 2.6718e-04 - dense_2_6_loss: 7.6984e-04 - dense_2_7_loss: 5.9440e-05 - dense_2_8_loss: 4.8539e-04 - dense_2_9_loss: 4.4586e-04 - dense_2_accuracy: 0.9999 - dense_2_1_accuracy: 0.9999 - dense_2_2_accuracy: 0.9997 - dense_2_3_accuracy: 0.9980 - dense_2_4_accuracy: 1.0000 - dense_2_5_accuracy: 1.0000 - dense_2_6_accuracy: 1.0000 - dense_2_7_accuracy: 1.0000 - dense_2_8_accuracy: 1.0000 - dense_2_9_accuracy: 1.0000\n",
            "Epoch 144/200\n",
            "100/100 [==============================] - 8s 83ms/step - loss: 0.0176 - dense_2_loss: 0.0011 - dense_2_1_loss: 7.4328e-04 - dense_2_2_loss: 0.0024 - dense_2_3_loss: 0.0114 - dense_2_4_loss: 4.3191e-05 - dense_2_5_loss: 2.7261e-04 - dense_2_6_loss: 7.7213e-04 - dense_2_7_loss: 5.8804e-05 - dense_2_8_loss: 4.8532e-04 - dense_2_9_loss: 4.3551e-04 - dense_2_accuracy: 0.9999 - dense_2_1_accuracy: 0.9999 - dense_2_2_accuracy: 0.9997 - dense_2_3_accuracy: 0.9980 - dense_2_4_accuracy: 1.0000 - dense_2_5_accuracy: 1.0000 - dense_2_6_accuracy: 1.0000 - dense_2_7_accuracy: 1.0000 - dense_2_8_accuracy: 1.0000 - dense_2_9_accuracy: 1.0000\n",
            "Epoch 145/200\n",
            "100/100 [==============================] - 8s 85ms/step - loss: 0.0175 - dense_2_loss: 0.0011 - dense_2_1_loss: 7.2283e-04 - dense_2_2_loss: 0.0023 - dense_2_3_loss: 0.0113 - dense_2_4_loss: 4.2972e-05 - dense_2_5_loss: 2.6445e-04 - dense_2_6_loss: 7.6353e-04 - dense_2_7_loss: 5.8002e-05 - dense_2_8_loss: 4.7782e-04 - dense_2_9_loss: 4.3371e-04 - dense_2_accuracy: 0.9999 - dense_2_1_accuracy: 0.9999 - dense_2_2_accuracy: 0.9998 - dense_2_3_accuracy: 0.9979 - dense_2_4_accuracy: 1.0000 - dense_2_5_accuracy: 1.0000 - dense_2_6_accuracy: 1.0000 - dense_2_7_accuracy: 1.0000 - dense_2_8_accuracy: 1.0000 - dense_2_9_accuracy: 1.0000\n",
            "Epoch 146/200\n",
            "100/100 [==============================] - 8s 81ms/step - loss: 0.0174 - dense_2_loss: 0.0011 - dense_2_1_loss: 7.3113e-04 - dense_2_2_loss: 0.0023 - dense_2_3_loss: 0.0113 - dense_2_4_loss: 4.2234e-05 - dense_2_5_loss: 2.6492e-04 - dense_2_6_loss: 7.4490e-04 - dense_2_7_loss: 5.6525e-05 - dense_2_8_loss: 4.6773e-04 - dense_2_9_loss: 4.2157e-04 - dense_2_accuracy: 0.9999 - dense_2_1_accuracy: 0.9999 - dense_2_2_accuracy: 0.9998 - dense_2_3_accuracy: 0.9980 - dense_2_4_accuracy: 1.0000 - dense_2_5_accuracy: 1.0000 - dense_2_6_accuracy: 1.0000 - dense_2_7_accuracy: 1.0000 - dense_2_8_accuracy: 1.0000 - dense_2_9_accuracy: 1.0000\n",
            "Epoch 147/200\n",
            "100/100 [==============================] - 8s 82ms/step - loss: 0.0172 - dense_2_loss: 0.0011 - dense_2_1_loss: 7.2992e-04 - dense_2_2_loss: 0.0023 - dense_2_3_loss: 0.0112 - dense_2_4_loss: 4.4365e-05 - dense_2_5_loss: 2.6529e-04 - dense_2_6_loss: 7.4766e-04 - dense_2_7_loss: 5.8602e-05 - dense_2_8_loss: 4.6653e-04 - dense_2_9_loss: 4.2292e-04 - dense_2_accuracy: 0.9999 - dense_2_1_accuracy: 0.9999 - dense_2_2_accuracy: 0.9997 - dense_2_3_accuracy: 0.9980 - dense_2_4_accuracy: 1.0000 - dense_2_5_accuracy: 1.0000 - dense_2_6_accuracy: 1.0000 - dense_2_7_accuracy: 1.0000 - dense_2_8_accuracy: 1.0000 - dense_2_9_accuracy: 1.0000\n",
            "Epoch 148/200\n",
            "100/100 [==============================] - 8s 85ms/step - loss: 0.0172 - dense_2_loss: 0.0011 - dense_2_1_loss: 7.2542e-04 - dense_2_2_loss: 0.0023 - dense_2_3_loss: 0.0111 - dense_2_4_loss: 4.0439e-05 - dense_2_5_loss: 2.5644e-04 - dense_2_6_loss: 7.2970e-04 - dense_2_7_loss: 5.4968e-05 - dense_2_8_loss: 4.5533e-04 - dense_2_9_loss: 4.2352e-04 - dense_2_accuracy: 0.9999 - dense_2_1_accuracy: 0.9999 - dense_2_2_accuracy: 0.9998 - dense_2_3_accuracy: 0.9980 - dense_2_4_accuracy: 1.0000 - dense_2_5_accuracy: 1.0000 - dense_2_6_accuracy: 1.0000 - dense_2_7_accuracy: 1.0000 - dense_2_8_accuracy: 1.0000 - dense_2_9_accuracy: 1.0000\n",
            "Epoch 149/200\n",
            "100/100 [==============================] - 8s 81ms/step - loss: 0.0171 - dense_2_loss: 0.0011 - dense_2_1_loss: 7.1336e-04 - dense_2_2_loss: 0.0023 - dense_2_3_loss: 0.0111 - dense_2_4_loss: 4.1747e-05 - dense_2_5_loss: 2.5094e-04 - dense_2_6_loss: 7.2120e-04 - dense_2_7_loss: 5.5389e-05 - dense_2_8_loss: 4.4547e-04 - dense_2_9_loss: 4.1041e-04 - dense_2_accuracy: 0.9999 - dense_2_1_accuracy: 0.9999 - dense_2_2_accuracy: 0.9998 - dense_2_3_accuracy: 0.9980 - dense_2_4_accuracy: 1.0000 - dense_2_5_accuracy: 1.0000 - dense_2_6_accuracy: 1.0000 - dense_2_7_accuracy: 1.0000 - dense_2_8_accuracy: 1.0000 - dense_2_9_accuracy: 1.0000\n",
            "Epoch 150/200\n",
            "100/100 [==============================] - 8s 81ms/step - loss: 0.0171 - dense_2_loss: 0.0011 - dense_2_1_loss: 7.1923e-04 - dense_2_2_loss: 0.0023 - dense_2_3_loss: 0.0111 - dense_2_4_loss: 4.3049e-05 - dense_2_5_loss: 2.6319e-04 - dense_2_6_loss: 7.2408e-04 - dense_2_7_loss: 5.4997e-05 - dense_2_8_loss: 4.4109e-04 - dense_2_9_loss: 4.0904e-04 - dense_2_accuracy: 0.9999 - dense_2_1_accuracy: 0.9999 - dense_2_2_accuracy: 0.9998 - dense_2_3_accuracy: 0.9980 - dense_2_4_accuracy: 1.0000 - dense_2_5_accuracy: 1.0000 - dense_2_6_accuracy: 1.0000 - dense_2_7_accuracy: 1.0000 - dense_2_8_accuracy: 1.0000 - dense_2_9_accuracy: 1.0000\n",
            "Epoch 151/200\n",
            "100/100 [==============================] - 8s 80ms/step - loss: 0.0169 - dense_2_loss: 0.0011 - dense_2_1_loss: 7.0657e-04 - dense_2_2_loss: 0.0023 - dense_2_3_loss: 0.0110 - dense_2_4_loss: 4.4125e-05 - dense_2_5_loss: 2.4530e-04 - dense_2_6_loss: 7.1793e-04 - dense_2_7_loss: 5.4278e-05 - dense_2_8_loss: 4.4830e-04 - dense_2_9_loss: 4.0439e-04 - dense_2_accuracy: 0.9999 - dense_2_1_accuracy: 0.9999 - dense_2_2_accuracy: 0.9998 - dense_2_3_accuracy: 0.9980 - dense_2_4_accuracy: 1.0000 - dense_2_5_accuracy: 1.0000 - dense_2_6_accuracy: 1.0000 - dense_2_7_accuracy: 1.0000 - dense_2_8_accuracy: 1.0000 - dense_2_9_accuracy: 1.0000\n",
            "Epoch 152/200\n",
            "100/100 [==============================] - 8s 81ms/step - loss: 0.0168 - dense_2_loss: 0.0011 - dense_2_1_loss: 7.0976e-04 - dense_2_2_loss: 0.0022 - dense_2_3_loss: 0.0109 - dense_2_4_loss: 4.2583e-05 - dense_2_5_loss: 2.5555e-04 - dense_2_6_loss: 7.0418e-04 - dense_2_7_loss: 5.2393e-05 - dense_2_8_loss: 4.3964e-04 - dense_2_9_loss: 4.0028e-04 - dense_2_accuracy: 0.9999 - dense_2_1_accuracy: 0.9999 - dense_2_2_accuracy: 0.9998 - dense_2_3_accuracy: 0.9980 - dense_2_4_accuracy: 1.0000 - dense_2_5_accuracy: 1.0000 - dense_2_6_accuracy: 1.0000 - dense_2_7_accuracy: 1.0000 - dense_2_8_accuracy: 1.0000 - dense_2_9_accuracy: 1.0000\n",
            "Epoch 153/200\n",
            "100/100 [==============================] - 8s 83ms/step - loss: 0.0167 - dense_2_loss: 0.0011 - dense_2_1_loss: 7.0284e-04 - dense_2_2_loss: 0.0022 - dense_2_3_loss: 0.0109 - dense_2_4_loss: 3.7027e-05 - dense_2_5_loss: 2.4115e-04 - dense_2_6_loss: 6.9184e-04 - dense_2_7_loss: 5.0518e-05 - dense_2_8_loss: 4.2746e-04 - dense_2_9_loss: 3.9774e-04 - dense_2_accuracy: 0.9999 - dense_2_1_accuracy: 0.9999 - dense_2_2_accuracy: 0.9998 - dense_2_3_accuracy: 0.9980 - dense_2_4_accuracy: 1.0000 - dense_2_5_accuracy: 1.0000 - dense_2_6_accuracy: 1.0000 - dense_2_7_accuracy: 1.0000 - dense_2_8_accuracy: 1.0000 - dense_2_9_accuracy: 1.0000\n",
            "Epoch 154/200\n",
            "100/100 [==============================] - 8s 81ms/step - loss: 0.0166 - dense_2_loss: 0.0010 - dense_2_1_loss: 6.9500e-04 - dense_2_2_loss: 0.0022 - dense_2_3_loss: 0.0109 - dense_2_4_loss: 4.1000e-05 - dense_2_5_loss: 2.4895e-04 - dense_2_6_loss: 6.8993e-04 - dense_2_7_loss: 5.1427e-05 - dense_2_8_loss: 4.3285e-04 - dense_2_9_loss: 3.9344e-04 - dense_2_accuracy: 0.9999 - dense_2_1_accuracy: 0.9999 - dense_2_2_accuracy: 0.9998 - dense_2_3_accuracy: 0.9980 - dense_2_4_accuracy: 1.0000 - dense_2_5_accuracy: 1.0000 - dense_2_6_accuracy: 1.0000 - dense_2_7_accuracy: 1.0000 - dense_2_8_accuracy: 1.0000 - dense_2_9_accuracy: 1.0000\n",
            "Epoch 155/200\n",
            "100/100 [==============================] - 8s 82ms/step - loss: 0.0165 - dense_2_loss: 0.0010 - dense_2_1_loss: 6.9714e-04 - dense_2_2_loss: 0.0022 - dense_2_3_loss: 0.0107 - dense_2_4_loss: 4.0936e-05 - dense_2_5_loss: 2.3471e-04 - dense_2_6_loss: 6.8432e-04 - dense_2_7_loss: 5.0342e-05 - dense_2_8_loss: 4.2028e-04 - dense_2_9_loss: 3.9064e-04 - dense_2_accuracy: 0.9999 - dense_2_1_accuracy: 0.9999 - dense_2_2_accuracy: 0.9998 - dense_2_3_accuracy: 0.9980 - dense_2_4_accuracy: 1.0000 - dense_2_5_accuracy: 1.0000 - dense_2_6_accuracy: 1.0000 - dense_2_7_accuracy: 1.0000 - dense_2_8_accuracy: 1.0000 - dense_2_9_accuracy: 1.0000\n",
            "Epoch 156/200\n",
            "100/100 [==============================] - 8s 81ms/step - loss: 0.0164 - dense_2_loss: 0.0010 - dense_2_1_loss: 6.9754e-04 - dense_2_2_loss: 0.0022 - dense_2_3_loss: 0.0107 - dense_2_4_loss: 4.2785e-05 - dense_2_5_loss: 2.4747e-04 - dense_2_6_loss: 6.7398e-04 - dense_2_7_loss: 5.0127e-05 - dense_2_8_loss: 4.3227e-04 - dense_2_9_loss: 3.8671e-04 - dense_2_accuracy: 0.9999 - dense_2_1_accuracy: 0.9999 - dense_2_2_accuracy: 0.9998 - dense_2_3_accuracy: 0.9980 - dense_2_4_accuracy: 1.0000 - dense_2_5_accuracy: 1.0000 - dense_2_6_accuracy: 1.0000 - dense_2_7_accuracy: 1.0000 - dense_2_8_accuracy: 1.0000 - dense_2_9_accuracy: 1.0000\n",
            "Epoch 157/200\n",
            "100/100 [==============================] - 8s 82ms/step - loss: 0.0164 - dense_2_loss: 0.0010 - dense_2_1_loss: 6.8557e-04 - dense_2_2_loss: 0.0022 - dense_2_3_loss: 0.0106 - dense_2_4_loss: 3.8327e-05 - dense_2_5_loss: 2.3169e-04 - dense_2_6_loss: 6.6950e-04 - dense_2_7_loss: 4.8483e-05 - dense_2_8_loss: 4.1402e-04 - dense_2_9_loss: 3.8192e-04 - dense_2_accuracy: 0.9999 - dense_2_1_accuracy: 0.9999 - dense_2_2_accuracy: 0.9998 - dense_2_3_accuracy: 0.9980 - dense_2_4_accuracy: 1.0000 - dense_2_5_accuracy: 1.0000 - dense_2_6_accuracy: 1.0000 - dense_2_7_accuracy: 1.0000 - dense_2_8_accuracy: 1.0000 - dense_2_9_accuracy: 1.0000\n",
            "Epoch 158/200\n",
            "100/100 [==============================] - 8s 81ms/step - loss: 0.0163 - dense_2_loss: 0.0010 - dense_2_1_loss: 6.8339e-04 - dense_2_2_loss: 0.0022 - dense_2_3_loss: 0.0106 - dense_2_4_loss: 3.9149e-05 - dense_2_5_loss: 2.3258e-04 - dense_2_6_loss: 6.6010e-04 - dense_2_7_loss: 4.8364e-05 - dense_2_8_loss: 4.1138e-04 - dense_2_9_loss: 3.7929e-04 - dense_2_accuracy: 0.9999 - dense_2_1_accuracy: 0.9999 - dense_2_2_accuracy: 0.9998 - dense_2_3_accuracy: 0.9980 - dense_2_4_accuracy: 1.0000 - dense_2_5_accuracy: 1.0000 - dense_2_6_accuracy: 1.0000 - dense_2_7_accuracy: 1.0000 - dense_2_8_accuracy: 1.0000 - dense_2_9_accuracy: 1.0000\n",
            "Epoch 159/200\n",
            "100/100 [==============================] - 8s 82ms/step - loss: 0.0162 - dense_2_loss: 0.0010 - dense_2_1_loss: 6.8783e-04 - dense_2_2_loss: 0.0021 - dense_2_3_loss: 0.0106 - dense_2_4_loss: 3.9378e-05 - dense_2_5_loss: 2.2816e-04 - dense_2_6_loss: 6.5865e-04 - dense_2_7_loss: 4.7647e-05 - dense_2_8_loss: 4.0593e-04 - dense_2_9_loss: 3.7483e-04 - dense_2_accuracy: 0.9999 - dense_2_1_accuracy: 0.9999 - dense_2_2_accuracy: 0.9998 - dense_2_3_accuracy: 0.9981 - dense_2_4_accuracy: 1.0000 - dense_2_5_accuracy: 1.0000 - dense_2_6_accuracy: 1.0000 - dense_2_7_accuracy: 1.0000 - dense_2_8_accuracy: 1.0000 - dense_2_9_accuracy: 1.0000\n",
            "Epoch 160/200\n",
            "100/100 [==============================] - 8s 83ms/step - loss: 0.0161 - dense_2_loss: 0.0010 - dense_2_1_loss: 6.8624e-04 - dense_2_2_loss: 0.0022 - dense_2_3_loss: 0.0104 - dense_2_4_loss: 3.9907e-05 - dense_2_5_loss: 2.3981e-04 - dense_2_6_loss: 6.4613e-04 - dense_2_7_loss: 4.6938e-05 - dense_2_8_loss: 4.0791e-04 - dense_2_9_loss: 3.7184e-04 - dense_2_accuracy: 0.9999 - dense_2_1_accuracy: 0.9999 - dense_2_2_accuracy: 0.9998 - dense_2_3_accuracy: 0.9980 - dense_2_4_accuracy: 1.0000 - dense_2_5_accuracy: 1.0000 - dense_2_6_accuracy: 1.0000 - dense_2_7_accuracy: 1.0000 - dense_2_8_accuracy: 1.0000 - dense_2_9_accuracy: 1.0000\n",
            "Epoch 161/200\n",
            "100/100 [==============================] - 8s 82ms/step - loss: 0.0161 - dense_2_loss: 0.0010 - dense_2_1_loss: 6.7111e-04 - dense_2_2_loss: 0.0021 - dense_2_3_loss: 0.0105 - dense_2_4_loss: 4.0447e-05 - dense_2_5_loss: 2.2234e-04 - dense_2_6_loss: 6.4984e-04 - dense_2_7_loss: 4.7919e-05 - dense_2_8_loss: 4.1943e-04 - dense_2_9_loss: 3.6561e-04 - dense_2_accuracy: 0.9999 - dense_2_1_accuracy: 0.9999 - dense_2_2_accuracy: 0.9998 - dense_2_3_accuracy: 0.9980 - dense_2_4_accuracy: 1.0000 - dense_2_5_accuracy: 1.0000 - dense_2_6_accuracy: 1.0000 - dense_2_7_accuracy: 1.0000 - dense_2_8_accuracy: 1.0000 - dense_2_9_accuracy: 1.0000\n",
            "Epoch 162/200\n",
            "100/100 [==============================] - 8s 80ms/step - loss: 0.0159 - dense_2_loss: 0.0010 - dense_2_1_loss: 6.6200e-04 - dense_2_2_loss: 0.0021 - dense_2_3_loss: 0.0104 - dense_2_4_loss: 3.6855e-05 - dense_2_5_loss: 2.2267e-04 - dense_2_6_loss: 6.3683e-04 - dense_2_7_loss: 4.5688e-05 - dense_2_8_loss: 3.9045e-04 - dense_2_9_loss: 3.6771e-04 - dense_2_accuracy: 0.9999 - dense_2_1_accuracy: 0.9999 - dense_2_2_accuracy: 0.9998 - dense_2_3_accuracy: 0.9980 - dense_2_4_accuracy: 1.0000 - dense_2_5_accuracy: 1.0000 - dense_2_6_accuracy: 1.0000 - dense_2_7_accuracy: 1.0000 - dense_2_8_accuracy: 1.0000 - dense_2_9_accuracy: 1.0000\n",
            "Epoch 163/200\n",
            "100/100 [==============================] - 8s 83ms/step - loss: 0.0158 - dense_2_loss: 0.0010 - dense_2_1_loss: 6.6048e-04 - dense_2_2_loss: 0.0021 - dense_2_3_loss: 0.0103 - dense_2_4_loss: 3.7663e-05 - dense_2_5_loss: 2.2383e-04 - dense_2_6_loss: 6.3680e-04 - dense_2_7_loss: 4.4520e-05 - dense_2_8_loss: 4.0005e-04 - dense_2_9_loss: 3.6391e-04 - dense_2_accuracy: 0.9999 - dense_2_1_accuracy: 0.9999 - dense_2_2_accuracy: 0.9998 - dense_2_3_accuracy: 0.9980 - dense_2_4_accuracy: 1.0000 - dense_2_5_accuracy: 1.0000 - dense_2_6_accuracy: 1.0000 - dense_2_7_accuracy: 1.0000 - dense_2_8_accuracy: 1.0000 - dense_2_9_accuracy: 1.0000\n",
            "Epoch 164/200\n",
            "100/100 [==============================] - 8s 85ms/step - loss: 0.0157 - dense_2_loss: 0.0010 - dense_2_1_loss: 6.6309e-04 - dense_2_2_loss: 0.0021 - dense_2_3_loss: 0.0103 - dense_2_4_loss: 3.7223e-05 - dense_2_5_loss: 2.2811e-04 - dense_2_6_loss: 6.2725e-04 - dense_2_7_loss: 4.5109e-05 - dense_2_8_loss: 3.8353e-04 - dense_2_9_loss: 3.5942e-04 - dense_2_accuracy: 0.9999 - dense_2_1_accuracy: 0.9999 - dense_2_2_accuracy: 0.9998 - dense_2_3_accuracy: 0.9980 - dense_2_4_accuracy: 1.0000 - dense_2_5_accuracy: 1.0000 - dense_2_6_accuracy: 1.0000 - dense_2_7_accuracy: 1.0000 - dense_2_8_accuracy: 1.0000 - dense_2_9_accuracy: 1.0000\n",
            "Epoch 165/200\n",
            "100/100 [==============================] - 8s 81ms/step - loss: 0.0157 - dense_2_loss: 0.0010 - dense_2_1_loss: 6.6564e-04 - dense_2_2_loss: 0.0021 - dense_2_3_loss: 0.0102 - dense_2_4_loss: 3.7696e-05 - dense_2_5_loss: 2.2132e-04 - dense_2_6_loss: 6.2542e-04 - dense_2_7_loss: 4.3670e-05 - dense_2_8_loss: 3.9521e-04 - dense_2_9_loss: 3.5724e-04 - dense_2_accuracy: 0.9999 - dense_2_1_accuracy: 0.9999 - dense_2_2_accuracy: 0.9998 - dense_2_3_accuracy: 0.9980 - dense_2_4_accuracy: 1.0000 - dense_2_5_accuracy: 1.0000 - dense_2_6_accuracy: 1.0000 - dense_2_7_accuracy: 1.0000 - dense_2_8_accuracy: 1.0000 - dense_2_9_accuracy: 1.0000\n",
            "Epoch 166/200\n",
            "100/100 [==============================] - 8s 82ms/step - loss: 0.0156 - dense_2_loss: 0.0010 - dense_2_1_loss: 6.5870e-04 - dense_2_2_loss: 0.0021 - dense_2_3_loss: 0.0101 - dense_2_4_loss: 3.6515e-05 - dense_2_5_loss: 2.1464e-04 - dense_2_6_loss: 6.1589e-04 - dense_2_7_loss: 4.2376e-05 - dense_2_8_loss: 3.7826e-04 - dense_2_9_loss: 3.5467e-04 - dense_2_accuracy: 0.9999 - dense_2_1_accuracy: 0.9999 - dense_2_2_accuracy: 0.9998 - dense_2_3_accuracy: 0.9980 - dense_2_4_accuracy: 1.0000 - dense_2_5_accuracy: 1.0000 - dense_2_6_accuracy: 1.0000 - dense_2_7_accuracy: 1.0000 - dense_2_8_accuracy: 1.0000 - dense_2_9_accuracy: 1.0000\n",
            "Epoch 167/200\n",
            "100/100 [==============================] - 8s 82ms/step - loss: 0.0154 - dense_2_loss: 0.0010 - dense_2_1_loss: 6.5306e-04 - dense_2_2_loss: 0.0020 - dense_2_3_loss: 0.0101 - dense_2_4_loss: 3.4708e-05 - dense_2_5_loss: 2.1492e-04 - dense_2_6_loss: 6.0657e-04 - dense_2_7_loss: 4.2604e-05 - dense_2_8_loss: 3.7525e-04 - dense_2_9_loss: 3.4863e-04 - dense_2_accuracy: 0.9999 - dense_2_1_accuracy: 0.9999 - dense_2_2_accuracy: 0.9998 - dense_2_3_accuracy: 0.9980 - dense_2_4_accuracy: 1.0000 - dense_2_5_accuracy: 1.0000 - dense_2_6_accuracy: 1.0000 - dense_2_7_accuracy: 1.0000 - dense_2_8_accuracy: 1.0000 - dense_2_9_accuracy: 1.0000\n",
            "Epoch 168/200\n",
            "100/100 [==============================] - 8s 79ms/step - loss: 0.0154 - dense_2_loss: 0.0010 - dense_2_1_loss: 6.5123e-04 - dense_2_2_loss: 0.0021 - dense_2_3_loss: 0.0100 - dense_2_4_loss: 3.7994e-05 - dense_2_5_loss: 2.1530e-04 - dense_2_6_loss: 6.0457e-04 - dense_2_7_loss: 4.2318e-05 - dense_2_8_loss: 3.7679e-04 - dense_2_9_loss: 3.4661e-04 - dense_2_accuracy: 0.9999 - dense_2_1_accuracy: 0.9999 - dense_2_2_accuracy: 0.9998 - dense_2_3_accuracy: 0.9980 - dense_2_4_accuracy: 1.0000 - dense_2_5_accuracy: 1.0000 - dense_2_6_accuracy: 1.0000 - dense_2_7_accuracy: 1.0000 - dense_2_8_accuracy: 1.0000 - dense_2_9_accuracy: 1.0000\n",
            "Epoch 169/200\n",
            "100/100 [==============================] - 8s 83ms/step - loss: 0.0155 - dense_2_loss: 0.0010 - dense_2_1_loss: 6.5054e-04 - dense_2_2_loss: 0.0021 - dense_2_3_loss: 0.0101 - dense_2_4_loss: 3.4951e-05 - dense_2_5_loss: 2.1360e-04 - dense_2_6_loss: 5.9718e-04 - dense_2_7_loss: 4.0908e-05 - dense_2_8_loss: 3.7374e-04 - dense_2_9_loss: 3.4349e-04 - dense_2_accuracy: 0.9999 - dense_2_1_accuracy: 0.9999 - dense_2_2_accuracy: 0.9998 - dense_2_3_accuracy: 0.9980 - dense_2_4_accuracy: 1.0000 - dense_2_5_accuracy: 1.0000 - dense_2_6_accuracy: 1.0000 - dense_2_7_accuracy: 1.0000 - dense_2_8_accuracy: 1.0000 - dense_2_9_accuracy: 1.0000\n",
            "Epoch 170/200\n",
            "100/100 [==============================] - 8s 82ms/step - loss: 0.0153 - dense_2_loss: 0.0010 - dense_2_1_loss: 6.4911e-04 - dense_2_2_loss: 0.0021 - dense_2_3_loss: 0.0099 - dense_2_4_loss: 3.6407e-05 - dense_2_5_loss: 2.1022e-04 - dense_2_6_loss: 5.9868e-04 - dense_2_7_loss: 4.1050e-05 - dense_2_8_loss: 3.6765e-04 - dense_2_9_loss: 3.4147e-04 - dense_2_accuracy: 0.9999 - dense_2_1_accuracy: 0.9999 - dense_2_2_accuracy: 0.9998 - dense_2_3_accuracy: 0.9981 - dense_2_4_accuracy: 1.0000 - dense_2_5_accuracy: 1.0000 - dense_2_6_accuracy: 1.0000 - dense_2_7_accuracy: 1.0000 - dense_2_8_accuracy: 1.0000 - dense_2_9_accuracy: 1.0000\n",
            "Epoch 171/200\n",
            "100/100 [==============================] - 8s 81ms/step - loss: 0.0152 - dense_2_loss: 0.0010 - dense_2_1_loss: 6.4687e-04 - dense_2_2_loss: 0.0021 - dense_2_3_loss: 0.0099 - dense_2_4_loss: 3.6213e-05 - dense_2_5_loss: 2.1405e-04 - dense_2_6_loss: 5.8752e-04 - dense_2_7_loss: 4.0904e-05 - dense_2_8_loss: 3.6694e-04 - dense_2_9_loss: 3.3853e-04 - dense_2_accuracy: 0.9999 - dense_2_1_accuracy: 0.9999 - dense_2_2_accuracy: 0.9998 - dense_2_3_accuracy: 0.9980 - dense_2_4_accuracy: 1.0000 - dense_2_5_accuracy: 1.0000 - dense_2_6_accuracy: 1.0000 - dense_2_7_accuracy: 1.0000 - dense_2_8_accuracy: 1.0000 - dense_2_9_accuracy: 1.0000\n",
            "Epoch 172/200\n",
            "100/100 [==============================] - 8s 81ms/step - loss: 0.0151 - dense_2_loss: 0.0010 - dense_2_1_loss: 6.3060e-04 - dense_2_2_loss: 0.0020 - dense_2_3_loss: 0.0099 - dense_2_4_loss: 3.5730e-05 - dense_2_5_loss: 2.1143e-04 - dense_2_6_loss: 5.8842e-04 - dense_2_7_loss: 4.0223e-05 - dense_2_8_loss: 3.6108e-04 - dense_2_9_loss: 3.3797e-04 - dense_2_accuracy: 0.9999 - dense_2_1_accuracy: 0.9999 - dense_2_2_accuracy: 0.9998 - dense_2_3_accuracy: 0.9980 - dense_2_4_accuracy: 1.0000 - dense_2_5_accuracy: 1.0000 - dense_2_6_accuracy: 1.0000 - dense_2_7_accuracy: 1.0000 - dense_2_8_accuracy: 1.0000 - dense_2_9_accuracy: 1.0000\n",
            "Epoch 173/200\n",
            "100/100 [==============================] - 8s 81ms/step - loss: 0.0151 - dense_2_loss: 0.0010 - dense_2_1_loss: 6.3102e-04 - dense_2_2_loss: 0.0020 - dense_2_3_loss: 0.0099 - dense_2_4_loss: 3.3775e-05 - dense_2_5_loss: 2.0537e-04 - dense_2_6_loss: 5.9262e-04 - dense_2_7_loss: 3.9028e-05 - dense_2_8_loss: 3.6819e-04 - dense_2_9_loss: 3.3162e-04 - dense_2_accuracy: 0.9999 - dense_2_1_accuracy: 0.9999 - dense_2_2_accuracy: 0.9998 - dense_2_3_accuracy: 0.9980 - dense_2_4_accuracy: 1.0000 - dense_2_5_accuracy: 1.0000 - dense_2_6_accuracy: 1.0000 - dense_2_7_accuracy: 1.0000 - dense_2_8_accuracy: 1.0000 - dense_2_9_accuracy: 1.0000\n",
            "Epoch 174/200\n",
            "100/100 [==============================] - 8s 81ms/step - loss: 0.0150 - dense_2_loss: 9.9997e-04 - dense_2_1_loss: 6.3654e-04 - dense_2_2_loss: 0.0020 - dense_2_3_loss: 0.0098 - dense_2_4_loss: 3.3757e-05 - dense_2_5_loss: 2.1010e-04 - dense_2_6_loss: 5.7303e-04 - dense_2_7_loss: 3.9274e-05 - dense_2_8_loss: 3.5188e-04 - dense_2_9_loss: 3.3147e-04 - dense_2_accuracy: 0.9999 - dense_2_1_accuracy: 0.9999 - dense_2_2_accuracy: 0.9998 - dense_2_3_accuracy: 0.9980 - dense_2_4_accuracy: 1.0000 - dense_2_5_accuracy: 1.0000 - dense_2_6_accuracy: 1.0000 - dense_2_7_accuracy: 1.0000 - dense_2_8_accuracy: 1.0000 - dense_2_9_accuracy: 1.0000\n",
            "Epoch 175/200\n",
            "100/100 [==============================] - 8s 82ms/step - loss: 0.0150 - dense_2_loss: 9.9908e-04 - dense_2_1_loss: 6.3674e-04 - dense_2_2_loss: 0.0020 - dense_2_3_loss: 0.0097 - dense_2_4_loss: 3.6273e-05 - dense_2_5_loss: 2.0867e-04 - dense_2_6_loss: 5.7597e-04 - dense_2_7_loss: 3.8681e-05 - dense_2_8_loss: 3.6030e-04 - dense_2_9_loss: 3.3078e-04 - dense_2_accuracy: 0.9999 - dense_2_1_accuracy: 0.9999 - dense_2_2_accuracy: 0.9998 - dense_2_3_accuracy: 0.9980 - dense_2_4_accuracy: 1.0000 - dense_2_5_accuracy: 1.0000 - dense_2_6_accuracy: 1.0000 - dense_2_7_accuracy: 1.0000 - dense_2_8_accuracy: 1.0000 - dense_2_9_accuracy: 1.0000\n",
            "Epoch 176/200\n",
            "100/100 [==============================] - 8s 80ms/step - loss: 0.0148 - dense_2_loss: 9.9428e-04 - dense_2_1_loss: 6.2694e-04 - dense_2_2_loss: 0.0020 - dense_2_3_loss: 0.0097 - dense_2_4_loss: 3.2150e-05 - dense_2_5_loss: 2.0575e-04 - dense_2_6_loss: 5.6843e-04 - dense_2_7_loss: 3.7608e-05 - dense_2_8_loss: 3.4798e-04 - dense_2_9_loss: 3.2149e-04 - dense_2_accuracy: 0.9999 - dense_2_1_accuracy: 0.9999 - dense_2_2_accuracy: 0.9998 - dense_2_3_accuracy: 0.9981 - dense_2_4_accuracy: 1.0000 - dense_2_5_accuracy: 1.0000 - dense_2_6_accuracy: 1.0000 - dense_2_7_accuracy: 1.0000 - dense_2_8_accuracy: 1.0000 - dense_2_9_accuracy: 1.0000\n",
            "Epoch 177/200\n",
            "100/100 [==============================] - 8s 81ms/step - loss: 0.0147 - dense_2_loss: 9.9614e-04 - dense_2_1_loss: 6.2302e-04 - dense_2_2_loss: 0.0020 - dense_2_3_loss: 0.0096 - dense_2_4_loss: 3.3258e-05 - dense_2_5_loss: 2.0052e-04 - dense_2_6_loss: 5.5689e-04 - dense_2_7_loss: 3.6266e-05 - dense_2_8_loss: 3.4423e-04 - dense_2_9_loss: 3.2510e-04 - dense_2_accuracy: 0.9999 - dense_2_1_accuracy: 0.9999 - dense_2_2_accuracy: 0.9998 - dense_2_3_accuracy: 0.9981 - dense_2_4_accuracy: 1.0000 - dense_2_5_accuracy: 1.0000 - dense_2_6_accuracy: 1.0000 - dense_2_7_accuracy: 1.0000 - dense_2_8_accuracy: 1.0000 - dense_2_9_accuracy: 1.0000\n",
            "Epoch 178/200\n",
            "100/100 [==============================] - 8s 82ms/step - loss: 0.0148 - dense_2_loss: 9.8776e-04 - dense_2_1_loss: 6.2642e-04 - dense_2_2_loss: 0.0020 - dense_2_3_loss: 0.0097 - dense_2_4_loss: 3.4522e-05 - dense_2_5_loss: 2.0651e-04 - dense_2_6_loss: 5.6472e-04 - dense_2_7_loss: 3.8007e-05 - dense_2_8_loss: 3.6466e-04 - dense_2_9_loss: 3.2392e-04 - dense_2_accuracy: 0.9999 - dense_2_1_accuracy: 0.9999 - dense_2_2_accuracy: 0.9998 - dense_2_3_accuracy: 0.9980 - dense_2_4_accuracy: 1.0000 - dense_2_5_accuracy: 1.0000 - dense_2_6_accuracy: 1.0000 - dense_2_7_accuracy: 1.0000 - dense_2_8_accuracy: 1.0000 - dense_2_9_accuracy: 1.0000\n",
            "Epoch 179/200\n",
            "100/100 [==============================] - 8s 82ms/step - loss: 0.0146 - dense_2_loss: 9.9318e-04 - dense_2_1_loss: 6.1554e-04 - dense_2_2_loss: 0.0020 - dense_2_3_loss: 0.0096 - dense_2_4_loss: 3.4453e-05 - dense_2_5_loss: 1.9643e-04 - dense_2_6_loss: 5.7252e-04 - dense_2_7_loss: 3.7624e-05 - dense_2_8_loss: 3.4148e-04 - dense_2_9_loss: 3.2529e-04 - dense_2_accuracy: 0.9999 - dense_2_1_accuracy: 0.9999 - dense_2_2_accuracy: 0.9998 - dense_2_3_accuracy: 0.9980 - dense_2_4_accuracy: 1.0000 - dense_2_5_accuracy: 1.0000 - dense_2_6_accuracy: 1.0000 - dense_2_7_accuracy: 1.0000 - dense_2_8_accuracy: 1.0000 - dense_2_9_accuracy: 1.0000\n",
            "Epoch 180/200\n",
            "100/100 [==============================] - 8s 80ms/step - loss: 0.0144 - dense_2_loss: 9.8490e-04 - dense_2_1_loss: 6.1185e-04 - dense_2_2_loss: 0.0020 - dense_2_3_loss: 0.0094 - dense_2_4_loss: 3.0087e-05 - dense_2_5_loss: 1.9828e-04 - dense_2_6_loss: 5.5090e-04 - dense_2_7_loss: 3.5960e-05 - dense_2_8_loss: 3.3439e-04 - dense_2_9_loss: 3.1754e-04 - dense_2_accuracy: 0.9999 - dense_2_1_accuracy: 0.9999 - dense_2_2_accuracy: 0.9998 - dense_2_3_accuracy: 0.9981 - dense_2_4_accuracy: 1.0000 - dense_2_5_accuracy: 1.0000 - dense_2_6_accuracy: 1.0000 - dense_2_7_accuracy: 1.0000 - dense_2_8_accuracy: 1.0000 - dense_2_9_accuracy: 1.0000\n",
            "Epoch 181/200\n",
            "100/100 [==============================] - 8s 81ms/step - loss: 0.0144 - dense_2_loss: 9.8094e-04 - dense_2_1_loss: 6.1971e-04 - dense_2_2_loss: 0.0020 - dense_2_3_loss: 0.0093 - dense_2_4_loss: 3.3584e-05 - dense_2_5_loss: 2.0242e-04 - dense_2_6_loss: 5.4335e-04 - dense_2_7_loss: 3.5552e-05 - dense_2_8_loss: 3.4057e-04 - dense_2_9_loss: 3.1549e-04 - dense_2_accuracy: 0.9999 - dense_2_1_accuracy: 0.9999 - dense_2_2_accuracy: 0.9998 - dense_2_3_accuracy: 0.9980 - dense_2_4_accuracy: 1.0000 - dense_2_5_accuracy: 1.0000 - dense_2_6_accuracy: 1.0000 - dense_2_7_accuracy: 1.0000 - dense_2_8_accuracy: 1.0000 - dense_2_9_accuracy: 1.0000\n",
            "Epoch 182/200\n",
            "100/100 [==============================] - 8s 82ms/step - loss: 0.0143 - dense_2_loss: 9.7985e-04 - dense_2_1_loss: 6.1317e-04 - dense_2_2_loss: 0.0020 - dense_2_3_loss: 0.0094 - dense_2_4_loss: 2.9755e-05 - dense_2_5_loss: 1.9092e-04 - dense_2_6_loss: 5.3518e-04 - dense_2_7_loss: 3.4876e-05 - dense_2_8_loss: 3.2808e-04 - dense_2_9_loss: 3.1005e-04 - dense_2_accuracy: 0.9999 - dense_2_1_accuracy: 0.9999 - dense_2_2_accuracy: 0.9998 - dense_2_3_accuracy: 0.9980 - dense_2_4_accuracy: 1.0000 - dense_2_5_accuracy: 1.0000 - dense_2_6_accuracy: 1.0000 - dense_2_7_accuracy: 1.0000 - dense_2_8_accuracy: 1.0000 - dense_2_9_accuracy: 1.0000\n",
            "Epoch 183/200\n",
            "100/100 [==============================] - 8s 80ms/step - loss: 0.0144 - dense_2_loss: 9.8429e-04 - dense_2_1_loss: 6.0418e-04 - dense_2_2_loss: 0.0019 - dense_2_3_loss: 0.0094 - dense_2_4_loss: 2.9584e-05 - dense_2_5_loss: 1.9543e-04 - dense_2_6_loss: 5.4056e-04 - dense_2_7_loss: 3.3828e-05 - dense_2_8_loss: 3.3739e-04 - dense_2_9_loss: 3.0909e-04 - dense_2_accuracy: 0.9999 - dense_2_1_accuracy: 0.9999 - dense_2_2_accuracy: 0.9998 - dense_2_3_accuracy: 0.9981 - dense_2_4_accuracy: 1.0000 - dense_2_5_accuracy: 1.0000 - dense_2_6_accuracy: 1.0000 - dense_2_7_accuracy: 1.0000 - dense_2_8_accuracy: 1.0000 - dense_2_9_accuracy: 1.0000\n",
            "Epoch 184/200\n",
            "100/100 [==============================] - 8s 82ms/step - loss: 0.0142 - dense_2_loss: 9.7576e-04 - dense_2_1_loss: 6.0628e-04 - dense_2_2_loss: 0.0019 - dense_2_3_loss: 0.0093 - dense_2_4_loss: 3.0490e-05 - dense_2_5_loss: 1.8962e-04 - dense_2_6_loss: 5.3238e-04 - dense_2_7_loss: 3.4196e-05 - dense_2_8_loss: 3.2828e-04 - dense_2_9_loss: 3.0816e-04 - dense_2_accuracy: 0.9999 - dense_2_1_accuracy: 0.9999 - dense_2_2_accuracy: 0.9998 - dense_2_3_accuracy: 0.9980 - dense_2_4_accuracy: 1.0000 - dense_2_5_accuracy: 1.0000 - dense_2_6_accuracy: 1.0000 - dense_2_7_accuracy: 1.0000 - dense_2_8_accuracy: 1.0000 - dense_2_9_accuracy: 1.0000\n",
            "Epoch 185/200\n",
            "100/100 [==============================] - 8s 80ms/step - loss: 0.0142 - dense_2_loss: 9.7645e-04 - dense_2_1_loss: 6.0730e-04 - dense_2_2_loss: 0.0019 - dense_2_3_loss: 0.0093 - dense_2_4_loss: 2.9930e-05 - dense_2_5_loss: 1.9149e-04 - dense_2_6_loss: 5.3332e-04 - dense_2_7_loss: 3.3584e-05 - dense_2_8_loss: 3.2701e-04 - dense_2_9_loss: 3.0494e-04 - dense_2_accuracy: 0.9999 - dense_2_1_accuracy: 0.9999 - dense_2_2_accuracy: 0.9998 - dense_2_3_accuracy: 0.9980 - dense_2_4_accuracy: 1.0000 - dense_2_5_accuracy: 1.0000 - dense_2_6_accuracy: 1.0000 - dense_2_7_accuracy: 1.0000 - dense_2_8_accuracy: 1.0000 - dense_2_9_accuracy: 1.0000\n",
            "Epoch 186/200\n",
            "100/100 [==============================] - 8s 80ms/step - loss: 0.0141 - dense_2_loss: 9.7223e-04 - dense_2_1_loss: 6.0541e-04 - dense_2_2_loss: 0.0019 - dense_2_3_loss: 0.0092 - dense_2_4_loss: 3.1254e-05 - dense_2_5_loss: 1.9099e-04 - dense_2_6_loss: 5.2749e-04 - dense_2_7_loss: 3.3272e-05 - dense_2_8_loss: 3.2969e-04 - dense_2_9_loss: 3.0346e-04 - dense_2_accuracy: 0.9999 - dense_2_1_accuracy: 0.9999 - dense_2_2_accuracy: 0.9998 - dense_2_3_accuracy: 0.9980 - dense_2_4_accuracy: 1.0000 - dense_2_5_accuracy: 1.0000 - dense_2_6_accuracy: 1.0000 - dense_2_7_accuracy: 1.0000 - dense_2_8_accuracy: 1.0000 - dense_2_9_accuracy: 1.0000\n",
            "Epoch 187/200\n",
            "100/100 [==============================] - 8s 80ms/step - loss: 0.0141 - dense_2_loss: 9.6446e-04 - dense_2_1_loss: 5.9789e-04 - dense_2_2_loss: 0.0019 - dense_2_3_loss: 0.0092 - dense_2_4_loss: 3.1932e-05 - dense_2_5_loss: 1.9412e-04 - dense_2_6_loss: 5.2145e-04 - dense_2_7_loss: 3.3105e-05 - dense_2_8_loss: 3.1957e-04 - dense_2_9_loss: 3.0126e-04 - dense_2_accuracy: 0.9999 - dense_2_1_accuracy: 0.9999 - dense_2_2_accuracy: 0.9998 - dense_2_3_accuracy: 0.9980 - dense_2_4_accuracy: 1.0000 - dense_2_5_accuracy: 1.0000 - dense_2_6_accuracy: 1.0000 - dense_2_7_accuracy: 1.0000 - dense_2_8_accuracy: 1.0000 - dense_2_9_accuracy: 1.0000\n",
            "Epoch 188/200\n",
            "100/100 [==============================] - 8s 79ms/step - loss: 0.0140 - dense_2_loss: 9.6723e-04 - dense_2_1_loss: 5.8849e-04 - dense_2_2_loss: 0.0019 - dense_2_3_loss: 0.0092 - dense_2_4_loss: 2.8033e-05 - dense_2_5_loss: 1.8499e-04 - dense_2_6_loss: 5.2456e-04 - dense_2_7_loss: 3.2366e-05 - dense_2_8_loss: 3.2020e-04 - dense_2_9_loss: 3.0045e-04 - dense_2_accuracy: 0.9999 - dense_2_1_accuracy: 0.9999 - dense_2_2_accuracy: 0.9998 - dense_2_3_accuracy: 0.9980 - dense_2_4_accuracy: 1.0000 - dense_2_5_accuracy: 1.0000 - dense_2_6_accuracy: 1.0000 - dense_2_7_accuracy: 1.0000 - dense_2_8_accuracy: 1.0000 - dense_2_9_accuracy: 1.0000\n",
            "Epoch 189/200\n",
            "100/100 [==============================] - 8s 81ms/step - loss: 0.0139 - dense_2_loss: 9.6335e-04 - dense_2_1_loss: 5.9405e-04 - dense_2_2_loss: 0.0019 - dense_2_3_loss: 0.0091 - dense_2_4_loss: 2.9274e-05 - dense_2_5_loss: 1.8578e-04 - dense_2_6_loss: 5.1740e-04 - dense_2_7_loss: 3.2405e-05 - dense_2_8_loss: 3.1111e-04 - dense_2_9_loss: 2.9682e-04 - dense_2_accuracy: 0.9999 - dense_2_1_accuracy: 0.9999 - dense_2_2_accuracy: 0.9998 - dense_2_3_accuracy: 0.9980 - dense_2_4_accuracy: 1.0000 - dense_2_5_accuracy: 1.0000 - dense_2_6_accuracy: 1.0000 - dense_2_7_accuracy: 1.0000 - dense_2_8_accuracy: 1.0000 - dense_2_9_accuracy: 1.0000\n",
            "Epoch 190/200\n",
            "100/100 [==============================] - 8s 78ms/step - loss: 0.0139 - dense_2_loss: 9.6207e-04 - dense_2_1_loss: 5.9089e-04 - dense_2_2_loss: 0.0019 - dense_2_3_loss: 0.0091 - dense_2_4_loss: 2.9114e-05 - dense_2_5_loss: 1.8846e-04 - dense_2_6_loss: 5.1319e-04 - dense_2_7_loss: 3.2391e-05 - dense_2_8_loss: 3.0969e-04 - dense_2_9_loss: 2.9303e-04 - dense_2_accuracy: 0.9999 - dense_2_1_accuracy: 0.9999 - dense_2_2_accuracy: 0.9998 - dense_2_3_accuracy: 0.9980 - dense_2_4_accuracy: 1.0000 - dense_2_5_accuracy: 1.0000 - dense_2_6_accuracy: 1.0000 - dense_2_7_accuracy: 1.0000 - dense_2_8_accuracy: 1.0000 - dense_2_9_accuracy: 1.0000\n",
            "Epoch 191/200\n",
            "100/100 [==============================] - 8s 80ms/step - loss: 0.0138 - dense_2_loss: 9.6075e-04 - dense_2_1_loss: 5.7701e-04 - dense_2_2_loss: 0.0018 - dense_2_3_loss: 0.0090 - dense_2_4_loss: 2.8747e-05 - dense_2_5_loss: 1.8527e-04 - dense_2_6_loss: 5.0691e-04 - dense_2_7_loss: 3.0992e-05 - dense_2_8_loss: 3.0652e-04 - dense_2_9_loss: 2.9494e-04 - dense_2_accuracy: 0.9999 - dense_2_1_accuracy: 0.9999 - dense_2_2_accuracy: 0.9998 - dense_2_3_accuracy: 0.9981 - dense_2_4_accuracy: 1.0000 - dense_2_5_accuracy: 1.0000 - dense_2_6_accuracy: 1.0000 - dense_2_7_accuracy: 1.0000 - dense_2_8_accuracy: 1.0000 - dense_2_9_accuracy: 1.0000\n",
            "Epoch 192/200\n",
            "100/100 [==============================] - 8s 79ms/step - loss: 0.0137 - dense_2_loss: 9.6113e-04 - dense_2_1_loss: 5.8233e-04 - dense_2_2_loss: 0.0018 - dense_2_3_loss: 0.0089 - dense_2_4_loss: 3.1556e-05 - dense_2_5_loss: 1.8803e-04 - dense_2_6_loss: 5.0467e-04 - dense_2_7_loss: 3.1646e-05 - dense_2_8_loss: 3.0893e-04 - dense_2_9_loss: 2.9232e-04 - dense_2_accuracy: 0.9999 - dense_2_1_accuracy: 0.9999 - dense_2_2_accuracy: 0.9998 - dense_2_3_accuracy: 0.9981 - dense_2_4_accuracy: 1.0000 - dense_2_5_accuracy: 1.0000 - dense_2_6_accuracy: 1.0000 - dense_2_7_accuracy: 1.0000 - dense_2_8_accuracy: 1.0000 - dense_2_9_accuracy: 1.0000\n",
            "Epoch 193/200\n",
            "100/100 [==============================] - 8s 79ms/step - loss: 0.0137 - dense_2_loss: 9.5443e-04 - dense_2_1_loss: 5.8278e-04 - dense_2_2_loss: 0.0018 - dense_2_3_loss: 0.0090 - dense_2_4_loss: 2.7525e-05 - dense_2_5_loss: 1.7725e-04 - dense_2_6_loss: 5.0375e-04 - dense_2_7_loss: 3.1118e-05 - dense_2_8_loss: 3.0452e-04 - dense_2_9_loss: 2.8951e-04 - dense_2_accuracy: 0.9999 - dense_2_1_accuracy: 0.9999 - dense_2_2_accuracy: 0.9998 - dense_2_3_accuracy: 0.9980 - dense_2_4_accuracy: 1.0000 - dense_2_5_accuracy: 1.0000 - dense_2_6_accuracy: 1.0000 - dense_2_7_accuracy: 1.0000 - dense_2_8_accuracy: 1.0000 - dense_2_9_accuracy: 1.0000\n",
            "Epoch 194/200\n",
            "100/100 [==============================] - 8s 81ms/step - loss: 0.0136 - dense_2_loss: 9.5523e-04 - dense_2_1_loss: 5.8507e-04 - dense_2_2_loss: 0.0019 - dense_2_3_loss: 0.0088 - dense_2_4_loss: 2.9611e-05 - dense_2_5_loss: 1.9532e-04 - dense_2_6_loss: 5.0422e-04 - dense_2_7_loss: 3.0411e-05 - dense_2_8_loss: 3.1321e-04 - dense_2_9_loss: 2.8787e-04 - dense_2_accuracy: 0.9999 - dense_2_1_accuracy: 0.9999 - dense_2_2_accuracy: 0.9998 - dense_2_3_accuracy: 0.9981 - dense_2_4_accuracy: 1.0000 - dense_2_5_accuracy: 1.0000 - dense_2_6_accuracy: 1.0000 - dense_2_7_accuracy: 1.0000 - dense_2_8_accuracy: 1.0000 - dense_2_9_accuracy: 1.0000\n",
            "Epoch 195/200\n",
            "100/100 [==============================] - 8s 82ms/step - loss: 0.0136 - dense_2_loss: 9.5129e-04 - dense_2_1_loss: 5.8074e-04 - dense_2_2_loss: 0.0018 - dense_2_3_loss: 0.0089 - dense_2_4_loss: 2.8910e-05 - dense_2_5_loss: 1.7857e-04 - dense_2_6_loss: 4.9468e-04 - dense_2_7_loss: 3.0497e-05 - dense_2_8_loss: 3.0738e-04 - dense_2_9_loss: 2.8848e-04 - dense_2_accuracy: 0.9999 - dense_2_1_accuracy: 0.9999 - dense_2_2_accuracy: 0.9998 - dense_2_3_accuracy: 0.9980 - dense_2_4_accuracy: 1.0000 - dense_2_5_accuracy: 1.0000 - dense_2_6_accuracy: 1.0000 - dense_2_7_accuracy: 1.0000 - dense_2_8_accuracy: 1.0000 - dense_2_9_accuracy: 1.0000\n",
            "Epoch 196/200\n",
            "100/100 [==============================] - 8s 80ms/step - loss: 0.0135 - dense_2_loss: 9.4246e-04 - dense_2_1_loss: 5.8147e-04 - dense_2_2_loss: 0.0018 - dense_2_3_loss: 0.0089 - dense_2_4_loss: 2.8400e-05 - dense_2_5_loss: 1.7851e-04 - dense_2_6_loss: 4.9029e-04 - dense_2_7_loss: 3.0130e-05 - dense_2_8_loss: 3.0353e-04 - dense_2_9_loss: 2.8565e-04 - dense_2_accuracy: 0.9999 - dense_2_1_accuracy: 0.9999 - dense_2_2_accuracy: 0.9998 - dense_2_3_accuracy: 0.9981 - dense_2_4_accuracy: 1.0000 - dense_2_5_accuracy: 1.0000 - dense_2_6_accuracy: 1.0000 - dense_2_7_accuracy: 1.0000 - dense_2_8_accuracy: 1.0000 - dense_2_9_accuracy: 1.0000\n",
            "Epoch 197/200\n",
            "100/100 [==============================] - 8s 80ms/step - loss: 0.0134 - dense_2_loss: 9.4893e-04 - dense_2_1_loss: 5.7027e-04 - dense_2_2_loss: 0.0018 - dense_2_3_loss: 0.0088 - dense_2_4_loss: 2.5598e-05 - dense_2_5_loss: 1.7798e-04 - dense_2_6_loss: 4.8893e-04 - dense_2_7_loss: 2.9244e-05 - dense_2_8_loss: 2.9911e-04 - dense_2_9_loss: 2.8209e-04 - dense_2_accuracy: 0.9999 - dense_2_1_accuracy: 0.9999 - dense_2_2_accuracy: 0.9998 - dense_2_3_accuracy: 0.9981 - dense_2_4_accuracy: 1.0000 - dense_2_5_accuracy: 1.0000 - dense_2_6_accuracy: 1.0000 - dense_2_7_accuracy: 1.0000 - dense_2_8_accuracy: 1.0000 - dense_2_9_accuracy: 1.0000\n",
            "Epoch 198/200\n",
            "100/100 [==============================] - 8s 79ms/step - loss: 0.0134 - dense_2_loss: 9.3903e-04 - dense_2_1_loss: 5.7300e-04 - dense_2_2_loss: 0.0018 - dense_2_3_loss: 0.0087 - dense_2_4_loss: 3.1844e-05 - dense_2_5_loss: 1.7990e-04 - dense_2_6_loss: 4.9659e-04 - dense_2_7_loss: 3.0353e-05 - dense_2_8_loss: 2.9761e-04 - dense_2_9_loss: 2.8687e-04 - dense_2_accuracy: 0.9999 - dense_2_1_accuracy: 0.9999 - dense_2_2_accuracy: 0.9998 - dense_2_3_accuracy: 0.9980 - dense_2_4_accuracy: 1.0000 - dense_2_5_accuracy: 1.0000 - dense_2_6_accuracy: 1.0000 - dense_2_7_accuracy: 1.0000 - dense_2_8_accuracy: 1.0000 - dense_2_9_accuracy: 1.0000\n",
            "Epoch 199/200\n",
            "100/100 [==============================] - 8s 81ms/step - loss: 0.0133 - dense_2_loss: 9.4227e-04 - dense_2_1_loss: 5.6578e-04 - dense_2_2_loss: 0.0018 - dense_2_3_loss: 0.0086 - dense_2_4_loss: 2.6891e-05 - dense_2_5_loss: 1.7917e-04 - dense_2_6_loss: 4.8742e-04 - dense_2_7_loss: 2.9160e-05 - dense_2_8_loss: 3.0071e-04 - dense_2_9_loss: 2.7829e-04 - dense_2_accuracy: 0.9999 - dense_2_1_accuracy: 0.9999 - dense_2_2_accuracy: 0.9998 - dense_2_3_accuracy: 0.9980 - dense_2_4_accuracy: 1.0000 - dense_2_5_accuracy: 1.0000 - dense_2_6_accuracy: 1.0000 - dense_2_7_accuracy: 1.0000 - dense_2_8_accuracy: 1.0000 - dense_2_9_accuracy: 1.0000\n",
            "Epoch 200/200\n",
            "100/100 [==============================] - 8s 81ms/step - loss: 0.0133 - dense_2_loss: 9.4024e-04 - dense_2_1_loss: 5.6508e-04 - dense_2_2_loss: 0.0018 - dense_2_3_loss: 0.0087 - dense_2_4_loss: 2.6938e-05 - dense_2_5_loss: 1.7949e-04 - dense_2_6_loss: 4.7917e-04 - dense_2_7_loss: 2.8703e-05 - dense_2_8_loss: 2.9057e-04 - dense_2_9_loss: 2.7785e-04 - dense_2_accuracy: 0.9999 - dense_2_1_accuracy: 0.9999 - dense_2_2_accuracy: 0.9998 - dense_2_3_accuracy: 0.9981 - dense_2_4_accuracy: 1.0000 - dense_2_5_accuracy: 1.0000 - dense_2_6_accuracy: 1.0000 - dense_2_7_accuracy: 1.0000 - dense_2_8_accuracy: 1.0000 - dense_2_9_accuracy: 1.0000\n"
          ]
        },
        {
          "output_type": "execute_result",
          "data": {
            "text/plain": [
              "<keras.callbacks.History at 0x7f0484fa8510>"
            ]
          },
          "metadata": {},
          "execution_count": 12
        }
      ]
    },
    {
      "cell_type": "markdown",
      "metadata": {
        "id": "7rx2n1xLK-jY"
      },
      "source": [
        "## Evaluating model"
      ]
    },
    {
      "cell_type": "code",
      "metadata": {
        "execution": {
          "iopub.status.busy": "2021-10-08T16:11:02.115072Z",
          "iopub.execute_input": "2021-10-08T16:11:02.115326Z",
          "iopub.status.idle": "2021-10-08T16:11:16.426430Z",
          "shell.execute_reply.started": "2021-10-08T16:11:02.115293Z",
          "shell.execute_reply": "2021-10-08T16:11:16.425722Z"
        },
        "trusted": true,
        "colab": {
          "base_uri": "https://localhost:8080/"
        },
        "id": "tyA9gxgyK-jZ",
        "outputId": "2ab22453-465b-4452-c536-ec9e71b26b95"
      },
      "source": [
        "m = 5000 #testing set size\n",
        "test_dataset, _, _, _ = load_dataset(m)\n",
        "_, _, Xoh_test, Yoh_test = preprocess_data(test_dataset, input_vocab, output_vocab, Tx, Ty)\n",
        "s0 = np.zeros((m, s_dim))\n",
        "c0 = np.zeros((m, s_dim))\n",
        "Yoh_test = list(Yoh_test.swapaxes(0,1))\n",
        "pred_test = model.predict([Xoh_test, s0, c0])\n",
        "evals = model.evaluate([Xoh_test, s0, c0], Yoh_test)\n",
        "print(\"accuracy: \", np.mean(evals[11:]))"
      ],
      "execution_count": 13,
      "outputs": [
        {
          "output_type": "stream",
          "name": "stderr",
          "text": [
            "100%|██████████| 5000/5000 [00:00<00:00, 12863.65it/s]\n"
          ]
        },
        {
          "output_type": "stream",
          "name": "stdout",
          "text": [
            "157/157 [==============================] - 12s 37ms/step - loss: 0.0402 - dense_2_loss: 2.3256e-04 - dense_2_1_loss: 2.1960e-04 - dense_2_2_loss: 0.0016 - dense_2_3_loss: 0.0278 - dense_2_4_loss: 6.5653e-04 - dense_2_5_loss: 0.0011 - dense_2_6_loss: 0.0034 - dense_2_7_loss: 0.0017 - dense_2_8_loss: 0.0026 - dense_2_9_loss: 9.4243e-04 - dense_2_accuracy: 1.0000 - dense_2_1_accuracy: 1.0000 - dense_2_2_accuracy: 0.9998 - dense_2_3_accuracy: 0.9964 - dense_2_4_accuracy: 0.9998 - dense_2_5_accuracy: 0.9998 - dense_2_6_accuracy: 0.9998 - dense_2_7_accuracy: 0.9998 - dense_2_8_accuracy: 0.9998 - dense_2_9_accuracy: 0.9998\n",
            "accuracy:  0.9995000183582305\n"
          ]
        }
      ]
    },
    {
      "cell_type": "markdown",
      "metadata": {
        "id": "tDlmMFd-K-ja"
      },
      "source": [
        "## Formatting custom date"
      ]
    },
    {
      "cell_type": "code",
      "metadata": {
        "execution": {
          "iopub.status.busy": "2021-10-08T16:11:16.429339Z",
          "iopub.execute_input": "2021-10-08T16:11:16.429546Z",
          "iopub.status.idle": "2021-10-08T16:11:16.496659Z",
          "shell.execute_reply.started": "2021-10-08T16:11:16.429522Z",
          "shell.execute_reply": "2021-10-08T16:11:16.495960Z"
        },
        "trusted": true,
        "colab": {
          "base_uri": "https://localhost:8080/"
        },
        "id": "rm64hQqvK-jb",
        "outputId": "67a1d8f1-fff5-4fd2-a5f1-36cef1cb7b70"
      },
      "source": [
        "s0 = np.zeros((1, s_dim))\n",
        "c0 = np.zeros((1, s_dim))\n",
        "test_date = \"2 May 1979\"\n",
        "date = string_to_int(test_date, Tx, input_vocab)\n",
        "date = np.array(date)\n",
        "date = np.expand_dims(date, axis=0)\n",
        "date = np.array(list(map(lambda x: to_categorical(x, num_classes=len(input_vocab)), date)))\n",
        "pred = model.predict([date, s0, c0])\n",
        "pred = np.array(pred)\n",
        "pred = np.argmax(pred, axis = -1)\n",
        "output = [inv_output_vocab[int(i)] for i in pred]\n",
        "\n",
        "print(\"output:\", ''.join(output))"
      ],
      "execution_count": 14,
      "outputs": [
        {
          "output_type": "stream",
          "name": "stdout",
          "text": [
            "output: 1979-05-02\n"
          ]
        }
      ]
    },
    {
      "cell_type": "code",
      "metadata": {
        "id": "k_MqKj16LSp5"
      },
      "source": [
        ""
      ],
      "execution_count": 14,
      "outputs": []
    }
  ]
}